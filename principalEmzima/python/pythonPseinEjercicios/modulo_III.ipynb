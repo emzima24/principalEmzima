{
 "cells": [
  {
   "cell_type": "markdown",
   "metadata": {},
   "source": [
    "Actividad 1\n",
    "Solicita al usuario que ingrese un valor del 1 al 7. El programa mostrará un mensaje \n",
    "que indique a qué día de la semana corresponde dicho valor. Por ejemplo, el número 1 \n",
    "corresponde al \"Lunes\", el número 2 al \"Martes\" y así sucesivamente. Recuerda nombrar y guardar tu algoritmo."
   ]
  },
  {
   "cell_type": "code",
   "execution_count": 2,
   "metadata": {},
   "outputs": [
    {
     "name": "stdout",
     "output_type": "stream",
     "text": [
      "Domingo\n"
     ]
    }
   ],
   "source": [
    "# if elif else requiere dos condiciones importantes/obligatorias \n",
    "# 1) los : puntos despues del condicional\n",
    "# 2) la indentacion para indicar que ese bloque pertenece a esa parte del codigo\n",
    "# está es una forma de usar segun en python\n",
    "diaNumero = input('Escribe un número del 1 al 7')\n",
    "if diaNumero == '1':\n",
    "    print('Lunes')\n",
    "elif diaNumero == '2':\n",
    "    print('Martes')\n",
    "elif diaNumero == '3':\n",
    "    print('Miércoles')\n",
    "elif diaNumero == '4':\n",
    "    print('Jueves')\n",
    "elif diaNumero == '5':\n",
    "    print('Viernes')\n",
    "elif diaNumero == '6':\n",
    "    print('Sabado')\n",
    "elif diaNumero == '7':\n",
    "    print('Domingo')\n",
    "else:\n",
    "    print('che del 1 al 7...')\n"
   ]
  },
  {
   "cell_type": "code",
   "execution_count": 3,
   "metadata": {},
   "outputs": [
    {
     "name": "stdout",
     "output_type": "stream",
     "text": [
      "Domingo\n"
     ]
    }
   ],
   "source": [
    "# a partir de python 9 surgio match case tal como se muestra a continuacion\n",
    "# Fijate en la indentacion \n",
    "diaNumero = input('Escribe un número del 1 al 7')\n",
    "match diaNumero:\n",
    "    case '1':\n",
    "        print('Lunes')\n",
    "    case '2':\n",
    "        print('Martes')\n",
    "    case '3':\n",
    "        print('Miércoles')\n",
    "    case '4':\n",
    "        print('Jueves')\n",
    "    case '5':\n",
    "        print('Viernes')\n",
    "    case '6':\n",
    "        print('Sabado')\n",
    "    case '7':\n",
    "        print('Domingo')\n",
    "    case _:\n",
    "        print('che del 1 al 7...')"
   ]
  },
  {
   "cell_type": "markdown",
   "metadata": {},
   "source": [
    "Actividad 2\n",
    "Desarrolla un programa que simule un menú de opciones para realizar las cuatro \n",
    "operaciones aritméticas básicas (suma, resta, multiplicación y división) con dos \n",
    "valores numéricos enteros. El usuario deberá especificar la operación deseada \n",
    "utilizando el primer carácter de la operación: 'S' para suma, 'R' para resta, \n",
    "'M' para multiplicación, y 'D'  para división. Recuerda nombrar y guardar tu algoritmo."
   ]
  },
  {
   "cell_type": "code",
   "execution_count": 4,
   "metadata": {},
   "outputs": [
    {
     "name": "stdout",
     "output_type": "stream",
     "text": [
      "che, en serio dividir entre 0?\n"
     ]
    }
   ],
   "source": [
    "# usar match y se aprovecha que 0 es false primitivamente en python para el condicional del if lo recuerdas?\n",
    "operacionSeleccion = input('Escribe un número del 1 al 7')\n",
    "numeroUno = float(input('Escribe un número entero '))\n",
    "numeroDos = float(input('Escribe un número entero '))\n",
    "operacionSeleccion = operacionSeleccion.lower()\n",
    "match operacionSeleccion:\n",
    "    case 's':\n",
    "        print(f'La suma de {numeroUno} más {numeroDos} es {numeroUno+numeroDos}')\n",
    "    case 'r':\n",
    "        print(f'La suma de {numeroUno} menos {numeroDos} es {numeroUno-numeroDos}')\n",
    "    case 'm':\n",
    "        print(f'La suma de {numeroUno} por {numeroDos} es {numeroUno*numeroDos}')\n",
    "    case 'd':\n",
    "        if numeroDos:\n",
    "            print(f'La suma de {numeroUno} entre {numeroDos} es {numeroUno/numeroDos}')\n",
    "        else:\n",
    "            print('che, en serio dividir entre 0?')    \n",
    "    case _:\n",
    "        print('che, escribir S, R, M o D...')"
   ]
  },
  {
   "cell_type": "markdown",
   "metadata": {},
   "source": [
    "Actividad 3\n",
    "Diseña un algoritmo que contenga un condicional anidado. El mismo se ocupará de tomar la orden de bebida para un desayuno. Debe contemplar:\n",
    "\n",
    "Si el usuario quiere tomar té o café. \n",
    "\t\n",
    "Si elige café, preguntar si lo quiere solo o cortado. Si prefiere cortado, preguntar si lo prefiere con leche animal o vegetal.\n",
    "\t\t\n",
    "Si elige té, preguntar si desea rodajas de limón.\n",
    "\t\t\t\t\t\t\t\n",
    "Ten en cuenta las posibles opciones y muestra en pantalla el mensaje final acorde a la selección del usuario. Recuerda nombrar y guardar tu algoritmo."
   ]
  },
  {
   "cell_type": "code",
   "execution_count": 8,
   "metadata": {},
   "outputs": [
    {
     "name": "stdout",
     "output_type": "stream",
     "text": [
      "Usted selecciono Café cortado con leche de tipo Vegetal\n"
     ]
    }
   ],
   "source": [
    "bebidaSeleccion = input('Escribe la inicial de una de las bebidas (C)afé o (T)é que deseas  ')\n",
    "bebidaSeleccion = bebidaSeleccion.lower()\n",
    "match bebidaSeleccion:\n",
    "    case 'c':\n",
    "        mezcla = input('Escribe la inicial de (S)olo o (C)ortado ')\n",
    "        mezcla = mezcla.lower()\n",
    "        if mezcla=='c':\n",
    "            lecheTipo = input('Escribe la inicial de si deseas leche (A)nimal o (V)egetal ')\n",
    "            lecheTipo = lecheTipo.lower()\n",
    "            if lecheTipo =='a':\n",
    "                print('Usted selecciono Café cortado con leche de tipo Animal')\n",
    "            else:\n",
    "                print('Usted selecciono Café cortado con leche de tipo Vegetal')   \n",
    "        else:\n",
    "            print('Usted selecciono café sólo')\n",
    "    case 't':\n",
    "        limonSeleccion = input('Escribe la inicial de (S)i o (N)o deseas limón ')\n",
    "        limonSeleccion = limonSeleccion.lower()\n",
    "        if limonSeleccion =='s':\n",
    "            print('Usted selecciono Té con rodajas de limón')\n",
    "        else:\n",
    "            print('Usted selecciono Té sin rodajas de limón')    \n",
    "    case _:\n",
    "        print('che, escribir C o T, en serio...')"
   ]
  },
  {
   "cell_type": "markdown",
   "metadata": {},
   "source": [
    "Actividad 4\n",
    "Escribe un programa para obtener el grado de eficiencia de un operario de una fábrica de tornillos, \n",
    "de acuerdo a las siguientes dos condiciones que se le imponen para un período de prueba:\n",
    "\n",
    "Producir menos de 200 tornillos defectuosos.\n",
    "\n",
    "Producir más de 10000 tornillos sin defectos.\n",
    "\n",
    "El grado de eficiencia se determina de la siguiente manera:\n",
    "\t\n",
    "GRADO 5: Si no cumple ninguna de las condiciones.\n",
    "\t\t\n",
    "GRADO 6: Si sólo cumple la primera condición\n",
    "\t\t\t\n",
    "GRADO 7: Si sólo cumple la segunda condición.\n",
    "\t\t\t\t\n",
    "GRADO 8: Si cumple las dos condiciones.\n",
    "\t\t\t\t\t\n",
    "Muestra un mensaje acorde al grado de eficiencia de un operario, luego de evaluar las condiciones.  Recuerda nombrar y guardar tu algoritmo."
   ]
  },
  {
   "cell_type": "code",
   "execution_count": 12,
   "metadata": {},
   "outputs": [
    {
     "name": "stdout",
     "output_type": "stream",
     "text": [
      "Está todo bien sos GRADO 8\n"
     ]
    }
   ],
   "source": [
    "tornillosDefecutosos = float(input('Escribe la cantidad de tornillos defectuosos '))\n",
    "tornillosSinDefectos = float(input('Escribe la cantidad de tornillos sin defectos '))\n",
    "\n",
    "if tornillosDefecutosos >= 200 and tornillosSinDefectos <= 10000 :\n",
    "    print('Está todo mal sos GRADO 5')\n",
    "elif tornillosDefecutosos < 200 and tornillosSinDefectos > 10000:\n",
    "    print('Está todo bien sos GRADO 8')\n",
    "elif tornillosDefecutosos >= 200 and tornillosSinDefectos > 10000:\n",
    "    print('Está bien la cantidad sin defectos. está mal la cantidad con defectos sos GRADO 7')\n",
    "else:\n",
    "    print('Está mal la cantidad sin defectos, está bien la cantidad con defectos sos GRADO 6')"
   ]
  },
  {
   "cell_type": "markdown",
   "metadata": {},
   "source": [
    "Complementario 1\n",
    "Lee tres números que representen una fecha (día, mes, año) y verifica si es una fecha válida. \n",
    "Si la fecha no es válida, muestra un mensaje de error en pantalla. Si la fecha es válida, \n",
    "imprime la fecha cambiando el número que representa el mes por su nombre. \n",
    "Por ejemplo, si se introduce 1 2 2006, se imprimirá \"1 de febrero de 2006\"."
   ]
  },
  {
   "cell_type": "code",
   "execution_count": 5,
   "metadata": {},
   "outputs": [
    {
     "name": "stdout",
     "output_type": "stream",
     "text": [
      "La fecha es  31.0/ 12/ 1090.0, es equivalente a  31.0 de  Diciembre de  1090.0\n"
     ]
    }
   ],
   "source": [
    "# sin control por bisiesto ademas sin uso de recursos que lo harian mas legible en python y mas corto\n",
    "dia = float(input('Escribe la cantidad de dias '))\n",
    "mes = input('Escribe el numero correspondiente al mes ')\n",
    "anho = float(input('Escribe el numero correspondiente al año '))\n",
    "match mes:\n",
    "    case '1':\n",
    "        mesLetra = 'Enero'\n",
    "    case '2':\n",
    "        mesLetra = 'Febrero'\n",
    "    case '3':\n",
    "        mesLetra = 'Marzo'\n",
    "    case '4':\n",
    "        mesLetra = 'Abril'\n",
    "    case '5':\n",
    "        mesLetra = 'Mayo'\n",
    "    case '6':\n",
    "        mesLetra = 'Junio'\n",
    "    case '7':\n",
    "        mesLetra = 'Julio'\n",
    "    case '8':\n",
    "        mesLetra = 'Agosto'\n",
    "    case '9':\n",
    "        mesLetra = 'Septiembre'\n",
    "    case '10':\n",
    "        mesLetra = 'Octubre'\n",
    "    case '11':\n",
    "        mesLetra = 'Noviembre'\n",
    "    case '12':\n",
    "        mesLetra = 'Diciembre'\n",
    "    case _:\n",
    "        mesLetra= \"Ninguno\"\n",
    "match mes:\n",
    "    case '1' | '3'| '5'| '7'| '8'| '10'| '12':\n",
    "        if dia <= 31 and dia >= 1:\n",
    "            print(f'La fecha es {dia }/{mes }/{anho }, es equivalente a {dia } de {mesLetra} de {anho}')\n",
    "        else:\n",
    "            print(f'La fecha es {dia }/{mes }/{anho }, esta mal la cantidad de dias debe estar entre 1 y 31')\n",
    "    case '2':\n",
    "        if dia <= 29 and dia >= 1:\n",
    "            print(f'La fecha es {dia }/{mes }/{anho }, es equivalente a {dia } de {mesLetra} de {anho}')\n",
    "        else:\n",
    "            print(f'La fecha es {dia }/{mes }/{anho }, esta mal la cantidad de dias debe estar entre 1 y 29, debes revisar ademas si es bisiesto o no')\n",
    "    case '4'| '6'| '9'| '11':\n",
    "        if dia <= 31 and dia >= 1:\n",
    "            print(f'La fecha es {dia }/{mes }/{anho }, es equivalente a {dia } de {mesLetra} de {anho}')\n",
    "        else:\n",
    "            print(f'La fecha es {dia }/{mes }/{anho }, esta mal la cantidad de dias debe estar entre 1 y 30')\n",
    "    case _:\n",
    "        print('che, escribir el mes entre 1 y 12 no es tan dificil, en serio...')\n",
    "    "
   ]
  },
  {
   "cell_type": "markdown",
   "metadata": {},
   "source": [
    "Complementario 1 HECHO CON FUNCIONES PARA PODER CONSIDERAR EL BISIESTO PARA JODER NADA MAS\n",
    "Lee tres números que representen una fecha (día, mes, año) y verifica si es una fecha válida. \n",
    "Si la fecha no es válida, muestra un mensaje de error en pantalla. Si la fecha es válida, \n",
    "imprime la fecha cambiando el número que representa el mes por su nombre. \n",
    "Por ejemplo, si se introduce 1 2 2006, se imprimirá \"1 de febrero de 2006\"."
   ]
  },
  {
   "cell_type": "code",
   "execution_count": 33,
   "metadata": {},
   "outputs": [
    {
     "name": "stdout",
     "output_type": "stream",
     "text": [
      "La fecha es 31/30/2000, esta mal la cantidad de dias debe estar entre 1 y 29\n"
     ]
    }
   ],
   "source": [
    "# el condicional en el if de la funcion escribir mensaje puede ser escrito mas simple aun con el metodo entre limites\n",
    "# se aprovechan las funciones (def nombre(): que se desarrollan mas adelante)\n",
    "# se usa una estructura de datos, el diccionario para resolver el tema de los meses a texto\n",
    "# el diccionario se usa mucho en JS y es muy similar en estructura a JSON\n",
    "\n",
    "def anhoBisiesto(anho):\n",
    "    isBisiesto = False\n",
    "    if anho>= 1952 and anho%4 == 0 and ((not anho%100) or anho%400):\n",
    "        isBisiesto = True\n",
    "    return isBisiesto\n",
    "\n",
    "def escribirMensaje( dia, max, mes, mesLetra, anho):\n",
    "    if 1 <= dia <= max:\n",
    "        print(f'La fecha es {dia }/{mes }/{anho }, es equivalente a {dia } de {mesLetra} de {anho}')\n",
    "    else:\n",
    "        print(f'La fecha es {dia }/{mes }/{anho }, esta mal la cantidad de dias debe estar entre 1 y {max}')\n",
    "\n",
    "mesLetra = {1:'Enero',2:'Febrero',3:'Marzo',4:'Abril',5:'Mayo',6:'Junio',7:'Julio',8:'Agosto',9:'Septiembre',10:'Octubre',11:'Noviembre',12:'Diciembre',13:'Ninguno'}\n",
    "\n",
    "dia =  float(input('Escribe la cantidad de dias '))\n",
    "mes =  float(input('Escribe el numero correspondiente al mes '))\n",
    "anho = float(input('Escribe el numero correspondiente al año '))\n",
    "\n",
    "match mes:\n",
    "    case 1 | 3 | 5| 7| 8| 10| 12:\n",
    "        escribirMensaje( dia, 31, mes, mesLetra[mes], anho)\n",
    "    case 2:\n",
    "        max = 28\n",
    "        if anhoBisiesto(anho):\n",
    "            max = 29\n",
    "        escribirMensaje( dia, max, mes, mesLetra[mes], anho)\n",
    "    case 4| 6| 9| 11:\n",
    "        escribirMensaje( dia, max, 30, mesLetra[mes], anho)\n",
    "    case _:\n",
    "        print('che, escribir el mes entre 1 y 12 no es tan dificil, en serio...')\n"
   ]
  },
  {
   "cell_type": "markdown",
   "metadata": {},
   "source": [
    "Complementario 2 HECHO CON TRAMPA DE METER CARACTER COMO NUMERO\n",
    "Crea un algoritmo que lea un número desde el teclado y determine si tiene tres dígitos."
   ]
  },
  {
   "cell_type": "code",
   "execution_count": 35,
   "metadata": {},
   "outputs": [
    {
     "name": "stdout",
     "output_type": "stream",
     "text": [
      "El 123  tiene 3 digitos\n"
     ]
    }
   ],
   "source": [
    "# en python se puede aprovechar el hecho 0 equivalente a False y 1 o distinto de 0 se considera True\n",
    "# con el not invertirmos el valor 0 de False a True \n",
    "# por cierto si el 0 es par\n",
    "numeroIngresado = input('Escribe, un numero ')\n",
    "if len(numeroIngresado)==3:\n",
    "    print('El',numeroIngresado,' tiene 3 digitos')\n",
    "else:\n",
    "    print('El',numeroIngresado,' no tiene 3 digitos')"
   ]
  },
  {
   "cell_type": "markdown",
   "metadata": {},
   "source": [
    "Complementario 3 \n",
    "Desarrolla un programa que, dado un año, determine si es bisiesto o no. Un año es bisiesto si \n",
    "cumple las siguientes condiciones: debe ser divisible por 4 pero no por 100, a menos que \n",
    "también sea divisible por 400. Utiliza la función mod de PseInt para esta tarea."
   ]
  },
  {
   "cell_type": "code",
   "execution_count": 41,
   "metadata": {},
   "outputs": [
    {
     "name": "stdout",
     "output_type": "stream",
     "text": [
      "El año 1953.0 no es Bisiesto\n"
     ]
    }
   ],
   "source": [
    "anho = float(input('Escribe el numero correspondiente al año '))\n",
    "if anho>= 1952 and anho%4 == 0 and ((not anho%100) or anho%400):\n",
    "    print(f'El año {anho} es Bisiesto')\n",
    "elif anho> 1952:\n",
    "\tprint(f'El año {anho} no es Bisiesto') \n",
    "else:\n",
    "\tprint(f'El año {anho} no es Bisiesto, corresponde al calendario Juliano')"
   ]
  },
  {
   "cell_type": "markdown",
   "metadata": {},
   "source": [
    "Complementario 4 NO SE PUEDE HACER PORQUE NO HAY LA TABLA QUE INDICA EL ENUNCIADO\n",
    "En una verdulería, el precio de las manzanas varía según la cantidad comprada, siguiendo una tabla de descuentos.(¿¿¿¿????) \n",
    "Calcula el monto total que una persona debe pagar por las manzanas que compre en esta verdulería.\n",
    "\n",
    "Complementario 5 \n",
    "En un curso, el promedio de los trabajos prácticos se obtiene eliminando \n",
    "la nota más baja de cuatro y promediando las tres más altas. Desarrolla \n",
    "un programa que determine cuál es la nota eliminada y el promedio de los trabajos prácticos de un estudiante."
   ]
  },
  {
   "cell_type": "code",
   "execution_count": 43,
   "metadata": {},
   "outputs": [
    {
     "name": "stdout",
     "output_type": "stream",
     "text": [
      "Se eliminará la nota 10.0\n",
      "La nota promedio de esas notas sacando el minimo es 20.0\n"
     ]
    }
   ],
   "source": [
    "notaUno =  float(input('Escribe la nota uno '))\n",
    "notaDos =  float(input('Escribe la nota dos '))\n",
    "notaTres = float(input('Escribe la nota tres '))\n",
    "notaCuatro = float(input('Escribe la nota cuatro '))\n",
    "minimo = notaUno\n",
    "if minimo > notaDos:\n",
    "    minimo = notaDos\n",
    "elif minimo > notaTres:\n",
    "    minimo = notaTres\n",
    "elif minimo > notaCuatro:\n",
    "    minimo > notaCuatro\n",
    "print(f'Se eliminará la nota {minimo}')\n",
    "print(f'La nota promedio de esas notas sacando el minimo es {(notaUno+notaDos+notaTres+notaCuatro-minimo)/3}')"
   ]
  },
  {
   "cell_type": "markdown",
   "metadata": {},
   "source": [
    "Complementario 6 \n",
    "En una empresa, el departamento de contabilidad necesita calcular los sueldos semanales del personal, que varían según tres modalidades de sueldo: \n",
    "\n",
    "Salario por Comisión\n",
    "\n",
    "Salario Fijo + Comisión\n",
    "\n",
    "Salario Fijo . \n",
    "\n",
    "Desarrolla un menú de opciones que permita calcular el sueldo semanal de un empleado según el tipo de contrato que tenga considerando:\n",
    "\t\n",
    "Para la modalidad de salario por comisión, se requiere ingresar el monto total de las ventas realizadas \n",
    "en la semana. El 40% de ese monto total corresponde al salario del empleado.\n",
    "\t\t\n",
    "En cuanto a la modalidad de salario fijo + comisión, se debe proporcionar el valor que se paga por hora, \n",
    "la cantidad de horas trabajadas semanalmente y el monto total de las ventas en esa semana. \n",
    "En este tipo de contrato, no se consideran las horas extras y el máximo de horas laborales permitidas \n",
    "es de 40 horas por semana. La comisión por las ventas se calcula como el 25% del valor total de las ventas.\n",
    "\t\t\n",
    "Finalmente, para la modalidad de salario fijo, se debe ingresar el valor que se paga por hora y la cantidad \n",
    "de horas trabajadas en la semana. Si se excede las 40 horas semanales, las horas extras se deben pagar con un adicional del 50% sobre el valor de la hora."
   ]
  },
  {
   "cell_type": "code",
   "execution_count": 45,
   "metadata": {},
   "outputs": [
    {
     "name": "stdout",
     "output_type": "stream",
     "text": [
      "El salario por esta semana segun tu opcion por mixta es de 394.0\n"
     ]
    }
   ],
   "source": [
    "seleccion = input('Escribe la opcion de modalidad de salario  A) Por comisión B) Mixto C) Fijo')\n",
    "seleccion = seleccion.lower()\n",
    "match seleccion:\n",
    "    case 'a':\n",
    "        totalVentas = float(input('Escribe el total de las ventas '))\n",
    "        print(f'El salario por esta semana segun tu opcion por comisión es de {totalVentas*.40}')\n",
    "    case 'b':\n",
    "        valorHora = float(input('Escribe el valor de la hora '))\n",
    "        cantidadHoras = float(input('Escribe la cantidad de horas '))\n",
    "        totalVentas = float(input('Escribe el total de las ventas '))\n",
    "        print(f'El salario por esta semana segun tu opcion por mixta es de {totalVentas*.25+valorHora*cantidadHoras}')    \n",
    "    case 'c':\n",
    "        cantidadHorasAdicionales = 0\n",
    "        valorHora = float(input('Escribe el valor de la hora '))\n",
    "        cantidadHoras = float(input('Escribe la cantidad de horas '))\n",
    "        totalVentas = float(input('Escribe el total de las ventas '))\n",
    "        print(f'El salario por esta semana segun tu opcion por mixta es de {totalVentas*.25+valorHora*cantidadHoras}') \n",
    "        if cantidadHoras>40:\n",
    "            cantidadHorasAdicionales = cantidadHoras - 40\n",
    "            cantidadHoras = 40 \n",
    "        print(f'El salario por esta semana segun tu opcion por salario fijo es de { valorHora*cantidadHoras+valorHora*cantidadHorasAdicionales*1.50}')    \n",
    "    case _:\n",
    "        print('che, escribir A, B o C en serio...')"
   ]
  },
  {
   "cell_type": "markdown",
   "metadata": {},
   "source": [
    "Complementario 8\n",
    "Escribe un programa que solicite al usuario su edad y determine su categoría: niño, adolescente, adulto o adulto mayor, según los siguientes rangos:\n",
    "\n",
    "Niño: menor de 13 años. Si el usuario es niño, pregúntale si le gusta hacer deportes o jugar a los videojuegos.\n",
    "\t\t\t\n",
    "Adolescente: entre 13 y 17 años\n",
    "\t\t\t\n",
    "Adulto: entre 18 y 64 años. Si el usuario es adulto, pregúntale si es estudiante o trabajador.\n",
    "\t\t\t\t\n",
    "Adulto mayor: 65 años o más."
   ]
  },
  {
   "cell_type": "code",
   "execution_count": 52,
   "metadata": {},
   "outputs": [
    {
     "name": "stdout",
     "output_type": "stream",
     "text": [
      "Categoria niño, y le gusta jugar videojuegos\n"
     ]
    }
   ],
   "source": [
    "edad = float(input('Escribe la edad '))\n",
    "if edad > 0:\n",
    "    match mes:\n",
    "        case edad if edad <13:\n",
    "            seleccion = input('Escribe la inicial de la opción que te gusta  A) hacer deportes B) jugar videojuegos')\n",
    "            seleccion = seleccion.lower()\n",
    "            if seleccion == 'a':\n",
    "                print('Categoria niño, y le gusta hacer deportes')\n",
    "            else:\n",
    "                print('Categoria niño, y le gusta jugar videojuegos')\n",
    "        case edad if 13 >= edad <= 17:\n",
    "            print('Categoria adolescentes')\n",
    "            \n",
    "        case edad if 18 >= edad <= 64:\n",
    "            seleccion = input('Escribe la inicial de la opción de tu situacion actual A) Estudiante B) Trabajador')\n",
    "            seleccion = seleccion.lower()\n",
    "            if seleccion == 'a':\n",
    "                print('Categoria adulto, y es Estudiante')\n",
    "            else:\n",
    "                print('Categoria adulto, y es Trabajador')\n",
    "        case _:\n",
    "                print('Categoria adulto mayor')\n",
    "else: \n",
    "    print('Che en serio, es joda?')"
   ]
  }
 ],
 "metadata": {
  "kernelspec": {
   "display_name": "base",
   "language": "python",
   "name": "python3"
  },
  "language_info": {
   "codemirror_mode": {
    "name": "ipython",
    "version": 3
   },
   "file_extension": ".py",
   "mimetype": "text/x-python",
   "name": "python",
   "nbconvert_exporter": "python",
   "pygments_lexer": "ipython3",
   "version": "3.11.5"
  }
 },
 "nbformat": 4,
 "nbformat_minor": 2
}
