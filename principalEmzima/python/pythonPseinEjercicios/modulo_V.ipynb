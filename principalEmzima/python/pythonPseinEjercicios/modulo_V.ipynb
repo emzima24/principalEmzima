{
 "cells": [
  {
   "cell_type": "markdown",
   "metadata": {},
   "source": [
    "Actividad 1\n",
    "Diseña un programa que calcule el cuadrado de los primeros 9 números naturales e imprima por pantalla cada número seguido de su cuadrado. Por ejemplo, \"2 elevado al cuadrado es igual a 4\", y así sucesivamente. Recuerda nombrar y guardar tu algoritmo.\n",
    "Nota: Los primeros 9 números naturales son: 1, 2, 3, 4, 5, 6, 7, 8, 9."
   ]
  },
  {
   "cell_type": "code",
   "execution_count": 2,
   "metadata": {},
   "outputs": [
    {
     "name": "stdout",
     "output_type": "stream",
     "text": [
      "El 0 elevado al cuadrado es igual a 0\n",
      "El 1 elevado al cuadrado es igual a 1\n",
      "El 2 elevado al cuadrado es igual a 4\n",
      "El 3 elevado al cuadrado es igual a 9\n",
      "El 4 elevado al cuadrado es igual a 16\n",
      "El 5 elevado al cuadrado es igual a 25\n",
      "El 6 elevado al cuadrado es igual a 36\n",
      "El 7 elevado al cuadrado es igual a 49\n",
      "El 8 elevado al cuadrado es igual a 64\n",
      "El 9 elevado al cuadrado es igual a 81\n"
     ]
    }
   ],
   "source": [
    "# python tiene unos mecanismos para generar estructuras que almacenen una ejecución \n",
    "# para que cuando sean llamados hagan su magia... pero lo aprenderemos luego\n",
    "# para el ciclo for con numeros python ofrece range que es un contendor de numeros \n",
    "# al que se le puede indicar solo hasta donde llega no inclusive range(fin) contiene los numeros desde 0 hasta fin -1\n",
    "# o se le indica de inicio y fin range(fin,inicio) contiene los numeros desde inicio hasta fin -1\n",
    "# o se le indica de inicio,fin y paso range(fin,inicio,step) contiene los numeros desde inicio hasta fin -1\n",
    "for number in range(10):\n",
    "    print(f'El {number} elevado al cuadrado es igual a {number**2}')\n"
   ]
  },
  {
   "cell_type": "code",
   "execution_count": 3,
   "metadata": {},
   "outputs": [
    {
     "name": "stdout",
     "output_type": "stream",
     "text": [
      "El 1 elevado al cuadrado es igual a 1\n",
      "El 2 elevado al cuadrado es igual a 4\n",
      "El 3 elevado al cuadrado es igual a 9\n",
      "El 4 elevado al cuadrado es igual a 16\n",
      "El 5 elevado al cuadrado es igual a 25\n",
      "El 6 elevado al cuadrado es igual a 36\n",
      "El 7 elevado al cuadrado es igual a 49\n",
      "El 8 elevado al cuadrado es igual a 64\n",
      "El 9 elevado al cuadrado es igual a 81\n"
     ]
    }
   ],
   "source": [
    "for number in range(1,10):\n",
    "    print(f'El {number} elevado al cuadrado es igual a {number**2}')"
   ]
  },
  {
   "cell_type": "code",
   "execution_count": 4,
   "metadata": {},
   "outputs": [
    {
     "name": "stdout",
     "output_type": "stream",
     "text": [
      "El 1 elevado al cuadrado es igual a 1\n",
      "El 2 elevado al cuadrado es igual a 4\n",
      "El 3 elevado al cuadrado es igual a 9\n",
      "El 4 elevado al cuadrado es igual a 16\n",
      "El 5 elevado al cuadrado es igual a 25\n",
      "El 6 elevado al cuadrado es igual a 36\n",
      "El 7 elevado al cuadrado es igual a 49\n",
      "El 8 elevado al cuadrado es igual a 64\n",
      "El 9 elevado al cuadrado es igual a 81\n"
     ]
    }
   ],
   "source": [
    "for number in range(1,10,1):\n",
    "    print(f'El {number} elevado al cuadrado es igual a {number**2}')"
   ]
  },
  {
   "cell_type": "markdown",
   "metadata": {},
   "source": [
    "Actividad 2\n",
    "Crea un programa que solicite al usuario ingresar una frase y luego la muestre en pantalla con un espacio\n",
    "entre cada letra. Es importante, almacenar esta nueva palabra con espacios en una variable destinada a dicho fin."
   ]
  },
  {
   "cell_type": "code",
   "execution_count": 9,
   "metadata": {},
   "outputs": [
    {
     "name": "stdout",
     "output_type": "stream",
     "text": [
      "El texto como se solicito es : \"H o l a   w o r l d   p r u e b a\"\n"
     ]
    }
   ],
   "source": [
    "# python considera que un texto es recorrible iterable asi que nada mas facil que\n",
    "textEntry = input('Escribe una frase ')\n",
    "textResult = ''\n",
    "for letter in textEntry[:-1]:  # recorremos hasta la antepenultima letra para que no incluya un vacio al final de la ultima letra\n",
    "    textResult += letter + ' ' # concatenamos las letras con el espacio\n",
    "textResult += textEntry[-1]    # añadimos la ultima letra\n",
    "print(f'El texto como se solicito es : \"{textResult}\"')"
   ]
  },
  {
   "cell_type": "code",
   "execution_count": 10,
   "metadata": {},
   "outputs": [
    {
     "name": "stdout",
     "output_type": "stream",
     "text": [
      "El texto como se solicito es : \"H o l a   w o r l d   p r u e b a \"\n"
     ]
    }
   ],
   "source": [
    "textEntry = input('Escribe una frase ')\n",
    "textResult = ''\n",
    "for letter in textEntry:       # si no lo controlamos\n",
    "    textResult += letter + ' ' # concatenamos las letras con el espacio\n",
    "print(f'El texto como se solicito es : \"{textResult}\"') # ves la diferencia"
   ]
  },
  {
   "cell_type": "code",
   "execution_count": 11,
   "metadata": {},
   "outputs": [
    {
     "name": "stdout",
     "output_type": "stream",
     "text": [
      "El texto como se solicito es :  H o l a   w o r l d   p r u e b a .\n"
     ]
    }
   ],
   "source": [
    "# considerando un fenomeno de listas y tuplas el \"desempaquetado\" global\n",
    "# no te preocupes lo veremos en el proximo modulo\n",
    "textEntry = input('Escribe una frase ')\n",
    "print('El texto como se solicito es : ',*textEntry,\".\")  #aprovechando el comportamiento de lista del string pero no la almacena\n"
   ]
  },
  {
   "cell_type": "markdown",
   "metadata": {},
   "source": [
    "Actividad 3\n",
    "Diseña un programa que cuente la cantidad de números entre 1 y 100 que son múltiplos de 2 o de 3. Recuerda nombrar y guardar tu algoritmo.\n",
    "Nota: Si un número cumple ambas condiciones, debe ser contabilizado en ambos casos. Por ejemplo, el número 18 es múltiplo de 2 y, a su vez, es múltiplo de 3."
   ]
  },
  {
   "cell_type": "code",
   "execution_count": 12,
   "metadata": {},
   "outputs": [
    {
     "name": "stdout",
     "output_type": "stream",
     "text": [
      "La cantidad de números divisibles entre 2 los números del 1 al 100 es 50\n",
      "La cantidad de números divisibles entre 3 los números del 1 al 100 es 33\n"
     ]
    }
   ],
   "source": [
    "cantidadDos = 0\n",
    "CantidadTres = 0\n",
    "for number in range(1,101):       # recuerda que llega hasta 100 -1 \n",
    "\tif not number %2:             # recuerda que el modulo de un numero par es 0 y cero es intrinsecamente False\n",
    "\t\tcantidadDos += 1\n",
    "\tif not number%3:              # recuerda que el modulo de un numero divisible entre 3 es 0 y cero es intrinsecamente False\n",
    "\t\tCantidadTres += 1\n",
    "\n",
    "print(f'La cantidad de números divisibles entre 2 los números del 1 al 100 es {cantidadDos}')\n",
    "print(f'La cantidad de números divisibles entre 3 los números del 1 al 100 es {CantidadTres}')"
   ]
  },
  {
   "cell_type": "markdown",
   "metadata": {},
   "source": [
    "Actividad 4\n",
    "Elabora un algoritmo que genere e imprima las tablas de multiplicar del 1 al 10. \n",
    "Se espera que en la salida por pantalla se presente cada tabla de multiplicar de la siguiente manera: (se inserta imagen)"
   ]
  },
  {
   "cell_type": "code",
   "execution_count": 13,
   "metadata": {},
   "outputs": [
    {
     "name": "stdout",
     "output_type": "stream",
     "text": [
      "1 * 1 = 1\n",
      "1 * 2 = 2\n",
      "1 * 3 = 3\n",
      "1 * 4 = 4\n",
      "1 * 5 = 5\n",
      "1 * 6 = 6\n",
      "1 * 7 = 7\n",
      "1 * 8 = 8\n",
      "1 * 9 = 9\n",
      "1 * 10 = 10\n",
      "--------------------\n",
      "2 * 1 = 2\n",
      "2 * 2 = 4\n",
      "2 * 3 = 6\n",
      "2 * 4 = 8\n",
      "2 * 5 = 10\n",
      "2 * 6 = 12\n",
      "2 * 7 = 14\n",
      "2 * 8 = 16\n",
      "2 * 9 = 18\n",
      "2 * 10 = 20\n",
      "--------------------\n",
      "3 * 1 = 3\n",
      "3 * 2 = 6\n",
      "3 * 3 = 9\n",
      "3 * 4 = 12\n",
      "3 * 5 = 15\n",
      "3 * 6 = 18\n",
      "3 * 7 = 21\n",
      "3 * 8 = 24\n",
      "3 * 9 = 27\n",
      "3 * 10 = 30\n",
      "--------------------\n",
      "4 * 1 = 4\n",
      "4 * 2 = 8\n",
      "4 * 3 = 12\n",
      "4 * 4 = 16\n",
      "4 * 5 = 20\n",
      "4 * 6 = 24\n",
      "4 * 7 = 28\n",
      "4 * 8 = 32\n",
      "4 * 9 = 36\n",
      "4 * 10 = 40\n",
      "--------------------\n",
      "5 * 1 = 5\n",
      "5 * 2 = 10\n",
      "5 * 3 = 15\n",
      "5 * 4 = 20\n",
      "5 * 5 = 25\n",
      "5 * 6 = 30\n",
      "5 * 7 = 35\n",
      "5 * 8 = 40\n",
      "5 * 9 = 45\n",
      "5 * 10 = 50\n",
      "--------------------\n",
      "6 * 1 = 6\n",
      "6 * 2 = 12\n",
      "6 * 3 = 18\n",
      "6 * 4 = 24\n",
      "6 * 5 = 30\n",
      "6 * 6 = 36\n",
      "6 * 7 = 42\n",
      "6 * 8 = 48\n",
      "6 * 9 = 54\n",
      "6 * 10 = 60\n",
      "--------------------\n",
      "7 * 1 = 7\n",
      "7 * 2 = 14\n",
      "7 * 3 = 21\n",
      "7 * 4 = 28\n",
      "7 * 5 = 35\n",
      "7 * 6 = 42\n",
      "7 * 7 = 49\n",
      "7 * 8 = 56\n",
      "7 * 9 = 63\n",
      "7 * 10 = 70\n",
      "--------------------\n",
      "8 * 1 = 8\n",
      "8 * 2 = 16\n",
      "8 * 3 = 24\n",
      "8 * 4 = 32\n",
      "8 * 5 = 40\n",
      "8 * 6 = 48\n",
      "8 * 7 = 56\n",
      "8 * 8 = 64\n",
      "8 * 9 = 72\n",
      "8 * 10 = 80\n",
      "--------------------\n",
      "9 * 1 = 9\n",
      "9 * 2 = 18\n",
      "9 * 3 = 27\n",
      "9 * 4 = 36\n",
      "9 * 5 = 45\n",
      "9 * 6 = 54\n",
      "9 * 7 = 63\n",
      "9 * 8 = 72\n",
      "9 * 9 = 81\n",
      "9 * 10 = 90\n",
      "--------------------\n",
      "10 * 1 = 10\n",
      "10 * 2 = 20\n",
      "10 * 3 = 30\n",
      "10 * 4 = 40\n",
      "10 * 5 = 50\n",
      "10 * 6 = 60\n",
      "10 * 7 = 70\n",
      "10 * 8 = 80\n",
      "10 * 9 = 90\n",
      "10 * 10 = 100\n",
      "--------------------\n"
     ]
    }
   ],
   "source": [
    "for tablaDel in range(1,11): \n",
    "    for multiplo in range(1,11):\n",
    "        print(f'{tablaDel} * {multiplo} = {tablaDel*multiplo}')\n",
    "    print('-'*20)   # como se puede contatenar un string mediante la + tambien se puede multiplicar"
   ]
  },
  {
   "cell_type": "markdown",
   "metadata": {},
   "source": [
    "Actividad 5\n",
    "Crear un programa que lea un número entero (que represente la altura) y que genere una escalera invertida de asteriscos con esa altura. Por ejemplo, si ingresamos una altura de 5, se deberá mostrar:\n",
    "``` \n",
    " *****\n",
    " ****\n",
    " ***\n",
    " **\n",
    " *\n",
    "```"
   ]
  },
  {
   "cell_type": "code",
   "execution_count": 19,
   "metadata": {},
   "outputs": [
    {
     "name": "stdout",
     "output_type": "stream",
     "text": [
      "*****\n",
      "****\n",
      "***\n",
      "**\n",
      "*\n"
     ]
    }
   ],
   "source": [
    "numberEntry = int(input('Escribe la altura '))\n",
    "for altura in range(numberEntry,0,-1): # viste recorrido inverso de inicio > que fin con paso - 1\n",
    "    print(altura*'*')\n"
   ]
  },
  {
   "cell_type": "markdown",
   "metadata": {},
   "source": [
    "Actividad 6\n",
    "Desarrollar un programa que lea un número entero (que representa el tamaño del lado) \n",
    "y genere un cuadrado de asteriscos con ese tamaño. Los asteriscos sólo se ubicarán en el \n",
    "borde del cuadrado, no en su interior. Por ejemplo, si se ingresa el número 4, se mostrará:\n",
    "```\n",
    "* * * *\n",
    "*     *\n",
    "*     *\n",
    "* * * *\n",
    "```\n",
    "Nota: Recordar el uso del escribir sin saltar en PseInt."
   ]
  },
  {
   "cell_type": "code",
   "execution_count": 26,
   "metadata": {},
   "outputs": [
    {
     "name": "stdout",
     "output_type": "stream",
     "text": [
      "****\n",
      "*  *\n",
      "*  *\n",
      "****\n"
     ]
    }
   ],
   "source": [
    "numberEntry = int(input('Escribe un numero de lado '))\n",
    "for fila in range(0,numberEntry): \n",
    "    if fila == 0 or fila+1==len(range(0,numberEntry)):\n",
    "        print(numberEntry*'*')\n",
    "    else:\n",
    "        print('*'+(numberEntry-2)*' '+'*')"
   ]
  },
  {
   "cell_type": "markdown",
   "metadata": {},
   "source": [
    "Complementario 1\n",
    "Un docente de Programación necesita informes clave sobre las notas de sus estudiantes. \n",
    "Esto incluye el promedio final de los estudiantes que reprobaron el curso, el porcentaje de alumnos \n",
    "con una nota de integrador mayor a 7.5, la mayor nota obtenida en las exposiciones, y el total de \n",
    "estudiantes que obtuvieron una nota en el Parcial entre 4.0 y 7.5. El programa pedirá la cantidad \n",
    "de alumnos que tiene el docente, luego solicitará las 3 notas de cada alumno y calculará los informes requeridos. Recuerda nombrar y guardar tu algoritmo.  \n",
    "valores predefinidos  \n",
    "4  \n",
    "Carlos\n",
    "10\n",
    "3\n",
    "15  \n",
    "Luis\n",
    "5\n",
    "7\n",
    "7  \n",
    "Juan\n",
    "9\n",
    "6\n",
    "9  \n",
    "Jose\n",
    "3\n",
    "1\n",
    "4"
   ]
  },
  {
   "cell_type": "code",
   "execution_count": 48,
   "metadata": {},
   "outputs": [
    {
     "name": "stdout",
     "output_type": "stream",
     "text": [
      "4.333333333333333\n",
      "2.6666666666666665\n",
      "El promedio de los estudiantes reprobados es 3.5\n",
      "El porcentaje de los estudiantes con integradores mayores a 7.5 es 50.0\n",
      "La nota maxima de las exposiciones es 7\n",
      "La cantidad de los estudiantes con notas en parcial entre 4.0 y 7.5 es 2\n"
     ]
    }
   ],
   "source": [
    "# usando un arreglo para usar lo como indicacion del tipo de examen\n",
    "# Arreglos se vera mas adelante pero un primer pasito\n",
    "array_eval = ['Integrador','Exposicion','Parcial']  # arreglo\n",
    "qtyRepro = 0\n",
    "sumRepro = 0\n",
    "qtyInte75 = 0\n",
    "max = 0\n",
    "qtyParcial = 0\n",
    "studentQty = int(input('Introduce el número de estudiantes '))\n",
    "for numberStud in range(studentQty):\n",
    "    sum = 0\n",
    "    studentName = input(f'Introduce el nombre del estudiante {numberStud+1}')\n",
    "    for i in range(3):\n",
    "        mark = int(input(f'Introduce la nota en {array_eval[i]} del estudiante')) # uso del arreglo\n",
    "        mark = 0 if not 0 <= mark <= 10 else mark   # si la nota se sale de valores normales la cambia a 0\n",
    "        sum += mark\n",
    "        match i:\n",
    "            case 0:\n",
    "                qtyInte75 = qtyInte75 + 1  if (mark > 7.5) else qtyInte75\n",
    "            case 1:\n",
    "                max = mark if mark > max else max\n",
    "            case _:  \n",
    "                qtyParcial = qtyParcial +1 if (4. <= mark <= 7.5) else qtyParcial\n",
    "    if sum/3 > 6:\n",
    "        quality = \"Aprobado\"\n",
    "    else:\n",
    "        print(sum/3)\n",
    "        quality = \"Reprobado\"\n",
    "        sumRepro += sum/3\n",
    "        qtyRepro += 1 \n",
    "if not qtyRepro:\n",
    "    print('No hay estudiantes reprobados')\n",
    "else:\n",
    "    print(f'El promedio de los estudiantes reprobados es {sumRepro/qtyRepro}')\n",
    "print(f'El porcentaje de los estudiantes con integradores mayores a 7.5 es {qtyInte75*100/studentQty}')\n",
    "print(f'La nota maxima de las exposiciones es {max}')\n",
    "print(f'La cantidad de los estudiantes con notas en parcial entre 4.0 y 7.5 es {qtyParcial}')\n",
    "\t\t\t\t\t\t\n"
   ]
  },
  {
   "cell_type": "markdown",
   "metadata": {},
   "source": [
    "Complementario 2\n",
    "Crea un programa que calcule la suma de los primeros N números naturales, donde el valor de N se lee desde el teclado. \n",
    "Por ejemplo, si el usuario ingresa 4 se deberá calcular y mostrar en pantalla la suma de 1 + 2 + 3 + 4. "
   ]
  },
  {
   "cell_type": "code",
   "execution_count": 52,
   "metadata": {},
   "outputs": [
    {
     "name": "stdout",
     "output_type": "stream",
     "text": [
      "La suma de los primeros 4 naturales es igual a 10\n"
     ]
    }
   ],
   "source": [
    "numberEntry = int(input('Introduce un número '))\n",
    "sum = 0\n",
    "for number in range(1,numberEntry+1): \n",
    "    sum += number\n",
    "print(f'La suma de los primeros {numberEntry} naturales es igual a {sum}')"
   ]
  },
  {
   "cell_type": "markdown",
   "metadata": {},
   "source": [
    "Complementario 3\n",
    "Crea un programa que solicite al usuario ingresar una frase y luego la muestre en pantalla  al revés. Por ejemplo, si tenemos la cadena \"Hola\", se mostrará como \"a l o H\"."
   ]
  },
  {
   "cell_type": "code",
   "execution_count": 1,
   "metadata": {},
   "outputs": [
    {
     "name": "stdout",
     "output_type": "stream",
     "text": [
      "nohtyp ne licaf yum se otse\n"
     ]
    }
   ],
   "source": [
    "# usando el poder de slice\n",
    "textEntry = input('Escribe una frase ')\n",
    "print(textEntry[::-1])"
   ]
  },
  {
   "cell_type": "markdown",
   "metadata": {},
   "source": [
    "Complementario 4 (SE PUEDE COMPARAR CON LA VERSION RECURSIVA EN EL MODULO VII noOANEXO factorialRecursivo)\n",
    "La función factorial se aplica a números enteros positivos. El factorial de un número\n",
    "entero positivo (!n) es igual al producto de todos los enteros positivos desde 1 hasta n:\n",
    "\n",
    "n! = 1 * 2 * 3 * 4 * 5 * ... * (n-1) * n.\n",
    "\n",
    "Escribir un programa que calcule el factorial de todos los números enteros desde 1 hasta n\n",
    "\n",
    "El programa deberá mostrar la siguiente salida:  \n",
    "!1 = 1  \n",
    "!2 = 1*2 = 2  \n",
    "...  \n",
    "!5 = 1\\*2\\*3\\*4\\*5 = 120"
   ]
  },
  {
   "cell_type": "code",
   "execution_count": 5,
   "metadata": {},
   "outputs": [
    {
     "name": "stdout",
     "output_type": "stream",
     "text": [
      "!5 = 1 = 1\n",
      "!5 = 1*2 = 2\n",
      "!5 = 1*2*3 = 6\n",
      "!5 = 1*2*3*4 = 24\n",
      "!5 = 1*2*3*4*5 = 120\n"
     ]
    }
   ],
   "source": [
    "numberEntry = int(input('Introduce un número '))\n",
    "for number in range(1,numberEntry+1): \n",
    "    factorial = 1\n",
    "    seriesText = ''\n",
    "    for numberTwo in range(1,number+1):\n",
    "        factorial *= numberTwo\n",
    "        if numberTwo == 1:\n",
    "            seriesText += str(numberTwo)\n",
    "        else:\n",
    "            seriesText += '*'+ str(numberTwo) \n",
    "    print(f'!{numberEntry} = {seriesText} = {factorial}')"
   ]
  },
  {
   "cell_type": "markdown",
   "metadata": {},
   "source": [
    "Complementario 5\n",
    "Diseña un programa que permita al usuario ingresar un número entero y determine si es primo o no. \n",
    "Utiliza estructuras anidadas para iterar sobre los posibles divisores del número y determinar si\n",
    "es divisible solo por 1 y por sí mismo. Muestra un mensaje indicando si el número es primo o no."
   ]
  },
  {
   "cell_type": "code",
   "execution_count": 6,
   "metadata": {},
   "outputs": [
    {
     "name": "stdout",
     "output_type": "stream",
     "text": [
      "El número 109 es primo\n"
     ]
    }
   ],
   "source": [
    "numberEntry = int(input('Introduce un número '))\n",
    "count= 0\n",
    "if numberEntry>1:\n",
    "    for number in range(1,numberEntry+1): \n",
    "        if  count <3:\n",
    "            count = count+ 1 if not (numberEntry % number) else count\n",
    "        else:\n",
    "            break            \n",
    "    if count == 2:\n",
    "        print(f'El número {numberEntry} es primo')\n",
    "    else:\n",
    "        print(f'El número {numberEntry} NO es primo') \n",
    "else:\n",
    "    print(f'El número {numberEntry} no es ni primo ni compuesto')"
   ]
  },
  {
   "cell_type": "markdown",
   "metadata": {},
   "source": [
    "Complementario 6\n",
    "Desarrolla un programa que solicite al usuario el número de estudiantes en un curso y para cada \n",
    "estudiante, pida su nombre, edad y tres calificaciones. Luego, calcula el promedio de calificaciones \n",
    "de cada estudiante y muestra un mensaje indicando si aprobaron o reprobaron el curso. Emplea \n",
    "estructuras anidadas para manejar los datos de múltiples estudiantes."
   ]
  },
  {
   "cell_type": "code",
   "execution_count": 3,
   "metadata": {},
   "outputs": [
    {
     "name": "stdout",
     "output_type": "stream",
     "text": [
      "El estudiante carlos cuya edad es 15 tiene una nota promedio 4.333333333333333 y está Reprobado\n"
     ]
    }
   ],
   "source": [
    "studentQty = int(input('Introduce el número de estudiantes '))\n",
    "for numberStud in range(studentQty):\n",
    "    sum = 0\n",
    "    studentName = input(f'Introduce el nombre del estudiante {numberStud+1}')\n",
    "    studentAge = input(f'Introduce la edad del estudiante {numberStud+1}')\n",
    "    for i in range(3):\n",
    "        mark = int(input(f'Introduce la nota en {i} del estudiante {numberStud+1}'))\n",
    "        mark = 0 if not 0 <= mark <= 10 else mark\n",
    "        sum += mark\n",
    "    if sum/3 > 6:\n",
    "        quality = 'Aprobado'\n",
    "    else:\n",
    "        quality = 'Reprobado' \n",
    "    print(f'El estudiante {studentName} cuya edad es {studentAge} tiene una nota promedio {sum/3} y está {quality}')"
   ]
  }
 ],
 "metadata": {
  "kernelspec": {
   "display_name": "base",
   "language": "python",
   "name": "python3"
  },
  "language_info": {
   "codemirror_mode": {
    "name": "ipython",
    "version": 3
   },
   "file_extension": ".py",
   "mimetype": "text/x-python",
   "name": "python",
   "nbconvert_exporter": "python",
   "pygments_lexer": "ipython3",
   "version": "3.11.5"
  }
 },
 "nbformat": 4,
 "nbformat_minor": 2
}
