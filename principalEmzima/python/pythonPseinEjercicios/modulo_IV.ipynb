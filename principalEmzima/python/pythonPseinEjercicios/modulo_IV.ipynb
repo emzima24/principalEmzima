{
 "cells": [
  {
   "cell_type": "markdown",
   "metadata": {},
   "source": [
    "Actividad 1\n",
    "Crea un programa que almacene una vocal secreta en una variable. Solicita al usuario \n",
    "que intente adivinar la vocal secreta, permitiéndole intentar tantas veces como sea \n",
    "necesario hasta que la adivine. Recuerda nombrar y guardar tu algoritmo."
   ]
  },
  {
   "cell_type": "code",
   "execution_count": 3,
   "metadata": {},
   "outputs": [
    {
     "name": "stdout",
     "output_type": "stream",
     "text": [
      "Ya encontraste la vocal, era la letra a\n"
     ]
    }
   ],
   "source": [
    "vocal = input('Escribe una vocal ')\n",
    "vocalSecreta = \"a\"\n",
    "vocal = vocal.lower()\n",
    "while vocal != vocalSecreta:\n",
    "    vocal = input('Escribe una vocal ')\n",
    "    vocal = vocal.lower()\n",
    "print(f'Ya encontraste la vocal, era la letra {vocalSecreta}')"
   ]
  },
  {
   "cell_type": "markdown",
   "metadata": {},
   "source": [
    "Actividad 2\n",
    "Escribe un programa que valide si una nota está entre 0 y 10. Si la nota no está \n",
    "dentro de este rango, se solicitará al usuario que ingrese la nota nuevamente \n",
    "hasta que sea correcta. Recuerda nombrar y guardar tu algoritmo."
   ]
  },
  {
   "cell_type": "code",
   "execution_count": null,
   "metadata": {},
   "outputs": [],
   "source": [
    "# aprovechemos el poder de la expresion entre limites min >= valor <= max\n",
    "nota = float(input('Escribe una nota '))\n",
    "while 0 > nota > 10:\n",
    "    nota = float(input('Escribe una nota '))\n",
    "print(f'La nota es {nota}')"
   ]
  },
  {
   "cell_type": "markdown",
   "metadata": {},
   "source": [
    "Actividad 3\n",
    "Crea un programa que solicite al usuario ingresar un límite positivo. Luego, \n",
    "pide números al usuario hasta que la suma de los números introducidos supere \n",
    "este límite inicial. Recuerda nombrar y guardar tu algoritmo.\n",
    "Se define real porque es menos probable que se rompa en ejecucion en el ingreso de la edad"
   ]
  },
  {
   "cell_type": "code",
   "execution_count": 5,
   "metadata": {},
   "outputs": [
    {
     "name": "stdout",
     "output_type": "stream",
     "text": [
      "Ya superaste el limite, el total es 105.0\n"
     ]
    }
   ],
   "source": [
    "limite = float(input('Escribe un numero limite '))\n",
    "acumulado = 0\n",
    "while acumulado <= limite:\n",
    "    numeroEntry = float(input('Escribe una nota '))\n",
    "    acumulado = acumulado + numeroEntry\n",
    "print(f'Ya superaste el limite, el total es {acumulado}')"
   ]
  },
  {
   "cell_type": "markdown",
   "metadata": {},
   "source": [
    "Actividad 4\n",
    "Considerando que la clave de acceso a un sistema es \"EUREKA\", desarrolla un programa que solicite \n",
    "al usuario ingresar una clave. Se cuenta con tres intentos para adivinarla; si se fallan los \n",
    "tres intentos, se mostrará un mensaje indicando que se han agotado los intentos. En caso de acertar \n",
    "la clave, se mostrará un mensaje indicando que se ha ingresado al sistema correctamente. Recuerda nombrar y guardar tu algoritmo."
   ]
  },
  {
   "cell_type": "code",
   "execution_count": 3,
   "metadata": {},
   "outputs": [
    {
     "name": "stdout",
     "output_type": "stream",
     "text": [
      "Ingresaste al sistema correctamente\n"
     ]
    }
   ],
   "source": [
    "# todos los lenguajes (al menos los que yo conozco) tienen la acumulación simplificada\n",
    "# python no es la excepcion y tiene su equivalente para cada operacion matematica\n",
    "# num = num + 1 es igual a num += 1\n",
    "# por otra parte python no tiene una opcion a repetir en pseint (o a Java)\n",
    "\n",
    "claveSecreta = 'EUREKA'\n",
    "clave = \"\"\n",
    "acumulado = 0\n",
    "while acumulado < 3 and clave != claveSecreta:\n",
    "    acumulado += 1\n",
    "    clave = input(f'Escribe la clave, intento ({acumulado}) ')\n",
    "if clave == claveSecreta:\n",
    "    print('Ingresaste al sistema correctamente')\n",
    "else:\n",
    "    print('Sos un turro, te olvidaste la clave')"
   ]
  },
  {
   "cell_type": "markdown",
   "metadata": {},
   "source": [
    "Actividad 5\n",
    "Desarrolla un programa que solicite al usuario su código de usuario (un número entero mayor que cero)\n",
    "y su contraseña numérica (otro número entero positivo). El programa no permitirá continuar hasta que \n",
    "el usuario introduzca el código 1024 y la contraseña 4567. El programa finaliza cuando se  \n",
    "ingresan los datos correctos. Recuerda nombrar y guardar tu algoritmo."
   ]
  },
  {
   "cell_type": "code",
   "execution_count": 11,
   "metadata": {},
   "outputs": [
    {
     "name": "stdout",
     "output_type": "stream",
     "text": [
      "Ingresaste al sistema correctamente\n"
     ]
    }
   ],
   "source": [
    "claveSecreta = '4567'\n",
    "codigoSecreto = '1024'\n",
    "clave = ''\n",
    "codigo = ''\n",
    "while codigo != codigoSecreto or clave != claveSecreta:\n",
    "    clave = input('Escribe el clave (un entero mayor que cero) ')\n",
    "    codigo = input('Escribe la codigo (un entero mayor que cero)')\n",
    "print('Ingresaste al sistema correctamente')\n"
   ]
  },
  {
   "cell_type": "markdown",
   "metadata": {},
   "source": [
    "Actividad 6\n",
    "Escribe un programa que:\n",
    "\n",
    "Pida por teclado un número entero positivo.\n",
    "\n",
    "Pregunte al usuario si desea introducir otro número.\n",
    "\t\n",
    "Repita los pasos anteriores mientras el usuario no responda \"n\" o \"N\" (no).\n",
    "\t\t\n",
    "Muestre por pantalla la suma de los números introducidos por el usuario cuando determine NO ingresar más números. "
   ]
  },
  {
   "cell_type": "code",
   "execution_count": 13,
   "metadata": {},
   "outputs": [
    {
     "name": "stdout",
     "output_type": "stream",
     "text": [
      "Que parte de un numero entero positivo no entendes turro\n",
      "Gracias por participar, el total es 133.0\n"
     ]
    }
   ],
   "source": [
    "numeroEntry = float(input('Escribe un numero entero positivo '))\n",
    "acumulado = 0\n",
    "seleccionEntry = ''\n",
    "if numeroEntry>0:\n",
    "    acumulado += numeroEntry\n",
    "while seleccionEntry.lower() != 'n':\n",
    "    numeroEntry = float(input('Escribe un numero entero positivo '))\n",
    "    if numeroEntry>0:\n",
    "        acumulado += numeroEntry\n",
    "    else:\n",
    "        print('Que parte de un numero entero positivo no entendes turro')\n",
    "    seleccionEntry = input('Quieres introducir otro numero escribe (s) para si o (n) para no')\n",
    "        \n",
    "\n",
    "print(f'Gracias por participar, el total es {acumulado}')"
   ]
  },
  {
   "cell_type": "markdown",
   "metadata": {},
   "source": [
    "Complementario 1\n",
    "Desarrolla un programa que calcule el promedio de una secuencia de números ingresados por \n",
    "el usuario a través del teclado. La secuencia finaliza con un -1. Por ejemplo: 5, 3, 0, 2, 4, 4, 0, 0, 2, 3, 6, 0, ..., -1. \n",
    "Se asume que el usuario no ingresará números negativos. Utiliza la estructura repetitiva mientras para resolver esta actividad."
   ]
  },
  {
   "cell_type": "code",
   "execution_count": 15,
   "metadata": {},
   "outputs": [
    {
     "name": "stdout",
     "output_type": "stream",
     "text": [
      "Gracias por participar, el promedio es 10.0\n"
     ]
    }
   ],
   "source": [
    "numeroEntry = float(input('Escribe un numero (se para con -1) '))\n",
    "acumulado = 0\n",
    "cantidad = 1\n",
    "if numeroEntry>0:\n",
    "    acumulado += numeroEntry\n",
    "while numeroEntry != -1:\n",
    "    numeroEntry = float(input('Escribe un numero (se para con -1) '))\n",
    "    if numeroEntry>0:\n",
    "        acumulado += numeroEntry\n",
    "        cantidad += 1\n",
    "        \n",
    "\n",
    "print(f'Gracias por participar, el promedio es {acumulado/cantidad}')"
   ]
  },
  {
   "cell_type": "markdown",
   "metadata": {},
   "source": [
    "Complementario 2\n",
    "Escribe un programa que solicite al usuario ingresar un número. Mientras ese número \n",
    "sea mayor que 10, se le pedirá al usuario que ingrese el número nuevamente. \n",
    "Utiliza la estructura repetitiva mientras para resolver esta actividad."
   ]
  },
  {
   "cell_type": "code",
   "execution_count": 17,
   "metadata": {},
   "outputs": [
    {
     "name": "stdout",
     "output_type": "stream",
     "text": [
      "Terminamos\n"
     ]
    }
   ],
   "source": [
    "numeroEntry = float(input('Escribe un numero '))\n",
    "while numeroEntry > 10:\n",
    "    numeroEntry = float(input('Escribe un numero (cuando sea menor que 10 se detiene) '))\n",
    "print(f'Terminamos')"
   ]
  },
  {
   "cell_type": "markdown",
   "metadata": {},
   "source": [
    "Complementario 3\n",
    "Crea un programa que solicite al usuario dos números enteros, mínimo y máximo. Luego, solicita \n",
    "al usuario que ingrese números enteros que estén dentro del intervalo entre el máximo y el mínimo. \n",
    "Por cada número ingresado dentro de este intervalo, se suma uno a una variable. El programa \n",
    "finalizará cuando se ingrese un número que no pertenezca a este intervalo. Al finalizar, \n",
    "se mostrará la cantidad de números ingresados dentro del intervalo. \n",
    "Utiliza la estructura repetitiva mientras para resolver esta actividad.\n"
   ]
  },
  {
   "cell_type": "code",
   "execution_count": 18,
   "metadata": {},
   "outputs": [
    {
     "name": "stdout",
     "output_type": "stream",
     "text": [
      "Ingresaste  en total, dentro de los limites 5\n"
     ]
    }
   ],
   "source": [
    "min = float(input('Escribe un entero que sera el valor minimo '))\n",
    "max = float(input('Escribe un entero que sera el valor maximo'))\n",
    "numeroEntry = float(input('Escribe un numero'))\n",
    "if min > max:\n",
    "    min, max = max, min # intercambio que verifica que el maximo es maximo y el minimo es minimo\n",
    "acumulado = 0\n",
    "while min <= numeroEntry <= max:\n",
    "    numeroEntry = float(input('Escribe un numero'))\n",
    "    acumulado += 1\n",
    "print(f'Ingresaste  en total, dentro de los limites {acumulado}')"
   ]
  },
  {
   "cell_type": "markdown",
   "metadata": {},
   "source": [
    "Complementario 4\n",
    "Desarrolla un programa que solicite al usuario ingresar números decimales mientras que cada\n",
    "número ingresado sea mayor que el primer número ingresado. Por ejemplo, si el primer número \n",
    "ingresado es 3.1 y luego se ingresa un 4, el programa solicitará un tercer número. Este proceso \n",
    "continuará mientras los valores ingresados sean mayores que 3.1. El programa finalizará cuando \n",
    "se ingrese un valor menor o igual a 3.1.Utiliza la estructura repetitiva mientras para resolver esta actividad."
   ]
  },
  {
   "cell_type": "code",
   "execution_count": 20,
   "metadata": {},
   "outputs": [
    {
     "name": "stdout",
     "output_type": "stream",
     "text": [
      "Terminamos\n"
     ]
    }
   ],
   "source": [
    "min = float(input('Escribe un numero decimal '))\n",
    "numeroEntry = float(input('Escribe un numero decimal '))\n",
    "while min < numeroEntry:\n",
    "    numeroEntry = float(input('Escribe un numero decimal '))\n",
    "    \n",
    "print('Terminamos')"
   ]
  },
  {
   "cell_type": "markdown",
   "metadata": {},
   "source": [
    "Complementario 5\n",
    "En esta ocasión, repetirás una de las actividades anteriores para comparar cómo difiere el\n",
    "comportamiento del programa. Utiliza la estructura repetitiva hacer-mientras para resolver \n",
    "esta actividad. Crea un programa que almacene una vocal secreta en una variable. Solicita \n",
    "al usuario que intente adivinar la vocal secreta, permitiéndole intentar tantas veces como\n",
    "sea necesario hasta que la adivine.  Recuerda nombrar y guardar tu algoritmo."
   ]
  },
  {
   "cell_type": "code",
   "execution_count": null,
   "metadata": {},
   "outputs": [],
   "source": [
    "# al no existir la estructura repetir no se puede hacer otro comportamiento \n",
    "# pero comencemos por mejorar el codigo un poco\n",
    "vocal = input('Escribe una vocal ')\n",
    "vocalSecreta = \"a\"\n",
    "while vocal.lower() != vocalSecreta:\n",
    "    vocal = input('Escribe una vocal ')\n",
    "print(f'Ya encontraste la vocal, era la letra {vocalSecreta}')"
   ]
  },
  {
   "cell_type": "markdown",
   "metadata": {},
   "source": [
    "Complementario 6\n",
    "Calcula las calificaciones de un grupo de alumnos. La nota final de cada alumno se calcula\n",
    "según el siguiente criterio: la parte práctica vale el 10%, la parte de problemas el 50%, \n",
    "y la parte teórica el 40%. El programa solicitará el nombre del alumno y las tres notas obtenidas.\n",
    "Mostrará el resultado por pantalla y volverá a solicitar los datos del siguiente alumno hasta \n",
    "que se ingrese un nombre de alumno vacío. Las notas deben estar comprendidas entre 0 y 10; \n",
    "si no cumplen con este rango, no se calculará el promedio y se mostrará un mensaje de error.\n",
    "Utiliza la estructura repetitiva mientras para resolver esta actividad."
   ]
  },
  {
   "cell_type": "code",
   "execution_count": 37,
   "metadata": {},
   "outputs": [
    {
     "name": "stdout",
     "output_type": "stream",
     "text": [
      "Che que boludo con una nota por debajo de 0 o por encima de 10 no se puede calcular el promedio\n",
      "El promedio para el alumno d es 10.0\n",
      "Che que boludo con una nota por debajo de 0 o por encima de 10 no se puede calcular el promedio\n",
      "Terminamos\n"
     ]
    }
   ],
   "source": [
    "alumno = input('Escribe el nombre del alumno ')\n",
    "while alumno != '':\n",
    "    notaPractica = float(input('Escribe la nota en la practica '))\n",
    "    notaProblemas = float(input('Escribe la nota en los problemas '))\n",
    "    notaTeoria = float(input('Escribe la nota en la teoria '))\n",
    "    if (0 <=notaPractica <= 10) and (0 <=notaProblemas <= 10) and (0<= notaTeoria <= 10):\n",
    "        print(f'El promedio para el alumno {alumno} es {notaPractica*.1+notaProblemas*.5+notaTeoria*.4}')\n",
    "    else:\n",
    "        print('Che que boludo con una nota por debajo de 0 o por encima de 10 no se puede calcular el promedio')\n",
    "    alumno = input('Escribe el nombre del alumno ')\n",
    "print(f'Terminamos')"
   ]
  },
  {
   "cell_type": "markdown",
   "metadata": {},
   "source": [
    "Complementario 7\n",
    "Escribe un programa que calcule cuántos dígitos tiene un número entero positivo sin \n",
    "convertirlo a cadena. Pista: esto se puede lograr dividiendo varias veces entre 10. \n",
    "(Nota: investiga la función trunc()). Utiliza la estructura repetitiva mientras para resolver esta actividad."
   ]
  },
  {
   "cell_type": "code",
   "execution_count": 52,
   "metadata": {},
   "outputs": [
    {
     "name": "stdout",
     "output_type": "stream",
     "text": [
      "El numero 123456789.0 tiene 9\n"
     ]
    }
   ],
   "source": [
    "numeroEntry = float(input('Escribe un numero entero '))\n",
    "numeroEntryOrig = numeroEntry\n",
    "cantidadDigitos = 1\n",
    "control = (numeroEntry//10)\n",
    "while control != 0:\n",
    "    numeroEntry = numeroEntry/10\n",
    "    cantidadDigitos += 1\n",
    "    control = (numeroEntry//10)\n",
    "\n",
    "print(f'El numero {numeroEntryOrig} tiene {cantidadDigitos} cifras')"
   ]
  },
  {
   "cell_type": "markdown",
   "metadata": {},
   "source": [
    "Complementario 8\n",
    "Escribe un programa que solicite al usuario ingresar números enteros hasta que se \n",
    "introduzca el número 0 (cero). Al finalizar, el programa deberá mostrar el \n",
    "número máximo ingresado, el mínimo y el promedio de todos ellos.\n",
    "Para encontrar el número máximo, inicializa una variable llamada \"numeroMaximo\" en cero\n",
    "y compara cada número ingresado con esta variable. Si el número ingresado es mayor que \"\n",
    "numeroMaximo\", se actualiza el valor de \"numeroMaximo\" con el nuevo número.\n",
    "\n",
    "Para encontrar el número mínimo, puedes seguir una lógica similar. Inicializa \n",
    "la variable \"numeroMinimo\" con un valor muy alto o con el primer número ingresado \n",
    "por el usuario. Luego, compara cada número ingresado con \"numeroMinimo\" y actualiza \n",
    "su valor si el número ingresado es menor que \"numeroMinimo\".\n",
    "\t\t\n",
    "Finalmente, calcula el promedio de todos los números ingresados dividiendo la suma\n",
    "total de los números por la cantidad de números ingresados. Recuerda nombrar y guardar tu algoritmo."
   ]
  },
  {
   "cell_type": "code",
   "execution_count": 53,
   "metadata": {},
   "outputs": [
    {
     "name": "stdout",
     "output_type": "stream",
     "text": [
      "De los numeros positivos que escribiste el maximo es 10.0\n",
      "De los numeros positivos que escribiste el minimo es 1.0\n",
      "De los numeros positivos que escribiste el promedio es 8.0\n"
     ]
    }
   ],
   "source": [
    "# aca incluimos el valioso operador ternario el cual tiene la escritura if else en una sola linea\n",
    "# (lo verdadero) if (condicional) else (lo falso)\n",
    "# si el condicional se cumple min cambia de valor en caso contrario se mantiene\n",
    "\n",
    "numeroEntry = float(input('Escribe un numero entero '))\n",
    "max = numeroEntry\n",
    "acum = numeroEntry\n",
    "min = numeroEntry\n",
    "cantidad = 1\n",
    "while numeroEntry != 0:\n",
    "    numeroEntry = float(input('Escribe un numero entero '))\n",
    "    if numeroEntry <0:\n",
    "        print('No vale numeros negativos, turro')\n",
    "    elif numeroEntry >0:\n",
    "        min = numeroEntry if min > numeroEntry else min # operador ternario\n",
    "        max = numeroEntry if max < numeroEntry else max # operador ternario   \n",
    "        acum += numeroEntry\n",
    "        cantidad += 1\n",
    "print(f'De los numeros positivos que escribiste el maximo es {max}')\n",
    "print(f'De los numeros positivos que escribiste el minimo es {min}')\n",
    "print(f'De los numeros positivos que escribiste el promedio es {acum/cantidad}')"
   ]
  },
  {
   "cell_type": "markdown",
   "metadata": {},
   "source": [
    "Complementario 9\n",
    "Realiza un algoritmo para calcular la media de los números pares e impares. Se \n",
    "ingresarán diez números. Utiliza la estructura repetitiva repetir-mientras para resolver esta actividad."
   ]
  },
  {
   "cell_type": "code",
   "execution_count": 12,
   "metadata": {},
   "outputs": [
    {
     "name": "stdout",
     "output_type": "stream",
     "text": [
      "De los numeros positivos pares que escribiste el promedio es  6.0\n",
      "De los numeros positivos impares que escribiste el promedio es  5.0\n"
     ]
    }
   ],
   "source": [
    "cantidad = 10\n",
    "acumuladoImpar = 0\n",
    "acumuladoPar = 0\n",
    "cantidadPar = 0\n",
    "cantidadImpar = 0\n",
    "while cantidad != 0:\n",
    "    numeroEntry = float(input('Escribe un numero entero '))\n",
    "    if numeroEntry <0:\n",
    "        print('No vale numeros negativos, turro')\n",
    "    elif numeroEntry >0:\n",
    "        if not numeroEntry%2:\n",
    "            acumuladoPar += numeroEntry\n",
    "            cantidadPar += 1\n",
    "        else:\n",
    "            acumuladoImpar += numeroEntry\n",
    "            cantidadImpar += 1\n",
    "        cantidad -= 1\n",
    "msgPar ='De los numeros positivos pares que escribiste el promedio es '\n",
    "msgImpar = 'De los numeros positivos impares que escribiste el promedio es '\n",
    "print(f'{msgPar} {acumuladoPar/cantidadPar}' if cantidadPar else 'No hubo numeros pares')\n",
    "print(f'{msgImpar} {acumuladoImpar/cantidadImpar}' if cantidadImpar else 'No hubo numeros impares')\n"
   ]
  },
  {
   "cell_type": "markdown",
   "metadata": {},
   "source": [
    "Complementario 10\n",
    "Implementa un programa que calcule la suma de los N primeros números pares. Por ejemplo, si se\n",
    "ingresa el número 5 como valor de N, el algoritmo sumará los siguientes valores: 2+4+6+8+10. \n",
    "Utiliza la estructura repetitiva repetir-mientras para resolver esta actividad."
   ]
  },
  {
   "cell_type": "code",
   "execution_count": 17,
   "metadata": {},
   "outputs": [
    {
     "name": "stdout",
     "output_type": "stream",
     "text": [
      "De los  primeros 5.0 numeros pares la suma es 30\n"
     ]
    }
   ],
   "source": [
    "numeroEntry = float(input('Escribe un numero entero '))\n",
    "acumuladoPar = 0\n",
    "cantidadPar = 0\n",
    "while cantidadPar < numeroEntry:\n",
    "    cantidadPar += 1\n",
    "    acumuladoPar += cantidadPar*2\n",
    "if numeroEntry <0:\n",
    "    print('No vale numeros negativos, turro')\n",
    "else:        \n",
    "    print(f'De los  primeros {numeroEntry} numeros pares la suma es {acumuladoPar}')\n"
   ]
  },
  {
   "cell_type": "markdown",
   "metadata": {},
   "source": [
    "Complementario 11\n",
    "Programa un juego en el que la computadora elija un número aleatorio entre 1 y 10,\n",
    "y el jugador tenga que adivinarlo. El programa seguirá estos pasos:\n",
    "\n",
    "La computadora elige al azar un número \"n\" entre 1 y 10.\n",
    "\n",
    "El usuario ingresa un número \"x\".\n",
    "\n",
    "Si \"x\" no es el número exacto, el programa indica si \"n\" es mayor o menor que \"x\".\n",
    "\t\t\n",
    "Se repite desde el paso 2 hasta que \"x\" sea igual a \"n\". El programa imprimirá los\n",
    "mensajes adecuados para guiar al usuario hasta que adivine el número. \n",
    "\t\t\t\n",
    "Utiliza la estructura repetitiva repetir-mientras para resolver esta actividad."
   ]
  },
  {
   "cell_type": "code",
   "execution_count": 22,
   "metadata": {},
   "outputs": [
    {
     "name": "stdout",
     "output_type": "stream",
     "text": [
      "El numero ingresado es mayor al de la compu \n",
      "El numero ingresado es mayor al de la compu \n",
      "Acertaste el numero de la compu es 2\n"
     ]
    }
   ],
   "source": [
    "# importamos la libreria random para usar el objeto random y su metodo \n",
    "# .randint() para obtener un numero aleatorio de 1 y 10 inclusive\n",
    "import random\n",
    "\n",
    "numeroEntry = float(input('Escribe un numero entero '))\n",
    "numeroAzar = random.randint(1,11) \n",
    "while numeroAzar != numeroEntry:\n",
    "    if numeroAzar > numeroEntry:\n",
    "        print('El numero ingresado es menor al de la compu ')\n",
    "    else:        \n",
    "        print('El numero ingresado es mayor al de la compu ')\n",
    "    numeroEntry = float(input('Escribe un numero entero '))\n",
    "\n",
    "print(f'Acertaste el numero de la compu es {numeroAzar}')\n"
   ]
  }
 ],
 "metadata": {
  "kernelspec": {
   "display_name": "base",
   "language": "python",
   "name": "python3"
  },
  "language_info": {
   "codemirror_mode": {
    "name": "ipython",
    "version": 3
   },
   "file_extension": ".py",
   "mimetype": "text/x-python",
   "name": "python",
   "nbconvert_exporter": "python",
   "pygments_lexer": "ipython3",
   "version": "3.11.5"
  }
 },
 "nbformat": 4,
 "nbformat_minor": 2
}
