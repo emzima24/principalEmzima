{
 "cells": [
  {
   "cell_type": "markdown",
   "metadata": {},
   "source": [
    "Actividad 1\n",
    "Diseña una función calcularSuma que calcule la suma de dos números. En el programa principal, solicita \n",
    "al usuario los dos números y pásalos a la función. La función debe calcular la suma y devolver el resultado\n",
    "para que se imprima en el programa principal. Recuerda nombrar y guardar tu algoritmo."
   ]
  },
  {
   "cell_type": "code",
   "execution_count": null,
   "metadata": {},
   "outputs": [],
   "source": [
    "def calcularSuma( num1,num2 ):\n",
    "\treturn num1 + num2\n",
    "\n",
    "num1 = int(input('introduce un numero '))\n",
    "num2 = int(input('introduce otro numero '))\n",
    "print(f'la suma de {num1} y {num2} es {calcularSuma(num1,num2)}')"
   ]
  },
  {
   "cell_type": "markdown",
   "metadata": {},
   "source": [
    "Actividad 2\n",
    "Crea una función esImpar que determine si un número es impar. Si es impar, la función debe \n",
    "devolver True; en caso contrario, debe devolver False. Nota: la función no debe incluir mensajes\n",
    "que indiquen si el número es par o impar; esto debe manejarse en el programa principal. Recuerda nombrar y guardar tu algoritmo."
   ]
  },
  {
   "cell_type": "code",
   "execution_count": 10,
   "metadata": {},
   "outputs": [
    {
     "name": "stdout",
     "output_type": "stream",
     "text": [
      "El 104 es par\n"
     ]
    }
   ],
   "source": [
    "# cumplimos con lo que pidieron y siempre se puede hacer mejor\n",
    "# Fijate que como podemos usar print para cada caso\n",
    "# Fijate que para devolver el valor usamos return y no usamos variable pero se puede usar tambien\n",
    "\n",
    "def  isImpar(number):\n",
    "    return True if not number%2 else False\n",
    "\n",
    "number = int(input('Escribe un numero '))\n",
    "\n",
    "print(f'El {number} es par') if isImpar(number) else print(f'El {number} es impar')"
   ]
  },
  {
   "cell_type": "code",
   "execution_count": 11,
   "metadata": {},
   "outputs": [
    {
     "name": "stdout",
     "output_type": "stream",
     "text": [
      "El 104 es par\n"
     ]
    }
   ],
   "source": [
    "# Pero python no hubiese perdido tiempo \n",
    "\n",
    "number = int(input('Escribe un numero '))\n",
    "\n",
    "print(f'El {number} es par') if not number%2 else print(f'El {number} es impar')"
   ]
  },
  {
   "cell_type": "markdown",
   "metadata": {},
   "source": [
    "Actividad 3\n",
    "Crea una función esMultiplo que reciba dos números proporcionados por el usuario y valide si el \n",
    "primer número es múltiplo del segundo. La función debe devolver True si el primer número es \n",
    "múltiplo del segundo, y False en caso contrario. Recuerda nombrar y guardar tu algoritmo."
   ]
  },
  {
   "cell_type": "code",
   "execution_count": 15,
   "metadata": {},
   "outputs": [
    {
     "name": "stdout",
     "output_type": "stream",
     "text": [
      "El 11 es multiplo de 77\n"
     ]
    }
   ],
   "source": [
    "# fijate como escribimos el print ves lo versatil de python y los dos se leen muy bien\n",
    "def  isMultiplo(number,numberMultiplo):\n",
    "    return True if not number%numberMultiplo else False\n",
    "\n",
    "numberMultiplo = int(input('introduce un numero para saber si es multiplo'))\n",
    "number = int(input('del numero que ahora introduces '))\n",
    "\n",
    "print(f'El {numberMultiplo} es multiplo de {number}' if isMultiplo(number,numberMultiplo) else f'El {numberMultiplo} NO es multiplo de {number}')"
   ]
  },
  {
   "cell_type": "code",
   "execution_count": 16,
   "metadata": {},
   "outputs": [
    {
     "name": "stdout",
     "output_type": "stream",
     "text": [
      "El 4 es multiplo de 56\n"
     ]
    }
   ],
   "source": [
    "# fijate no necesitabas la funcion recuerda que se puede aprovechar que cero es False y 1 o superior es True\n",
    " \n",
    "\n",
    "numberMultiplo = int(input('introduce un numero para saber si es multiplo'))\n",
    "number = int(input('del numero que ahora introduces '))\n",
    "\n",
    "print(f'El {numberMultiplo} es multiplo de {number}' if not number%numberMultiplo else f'El {numberMultiplo} NO es multiplo de {number}')"
   ]
  },
  {
   "cell_type": "markdown",
   "metadata": {},
   "source": [
    "Actividad 4\n",
    "Diseña una función que reciba una frase y una letra proporcionadas por el usuario y devuelva \n",
    "la cantidad de veces que la letra aparece en la frase. Recuerda nombrar y guardar tu algoritmo."
   ]
  },
  {
   "cell_type": "code",
   "execution_count": 19,
   "metadata": {},
   "outputs": [
    {
     "name": "stdout",
     "output_type": "stream",
     "text": [
      "La frase (Una frase tan larga que contenga la letra en mayúscula. Un ejemplo por ejemplo) tiene  4 letras u\n"
     ]
    }
   ],
   "source": [
    "def letrasFrase(frase,letra):\n",
    "    qtyLetrasFrase = 0\n",
    "    frase = frase.lower()\n",
    "    letra = letra.lower()\n",
    "    for letter in frase:\n",
    "        qtyLetrasFrase = qtyLetrasFrase + 1 if letter==letra else qtyLetrasFrase \n",
    "    return qtyLetrasFrase\n",
    "\n",
    "frase = input('introduce una frase ')\n",
    "letra = input('introduce una letra ')\n",
    "\n",
    "print(f'La frase ({frase}) tiene  {letrasFrase(frase,letra)} letras {letra}')\n"
   ]
  },
  {
   "cell_type": "markdown",
   "metadata": {},
   "source": [
    "Actividad 5\n",
    "Crea una función que determine si un número ingresado por el usuario es primo. Un número es primo\n",
    "si solo es divisible por 1 y por sí mismo (por ejemplo: 2, 3, 5, 7, 11, 13, 17, etc.) . Recuerda nombrar y guardar tu algoritmo."
   ]
  },
  {
   "cell_type": "code",
   "execution_count": 30,
   "metadata": {},
   "outputs": [
    {
     "name": "stdout",
     "output_type": "stream",
     "text": [
      "El número 109 es primo\n"
     ]
    }
   ],
   "source": [
    "def esPrimo(numberEntry):\n",
    "    sumDiv = 0\n",
    "    for number in range(1,numberEntry+1): \n",
    "        if  count <3:\n",
    "            count = count + 1 if not (numberEntry % number) else count\n",
    "        else:\n",
    "            break\n",
    "    return count\n",
    "\n",
    "\n",
    "numberEntry = int(input('Introduce un número '))\n",
    "if numberEntry>1:                \n",
    "    if esPrimo(numberEntry) == 2:\n",
    "        print(f'El número {numberEntry} es primo')\n",
    "    else:\n",
    "        print(f'El número {numberEntry} NO es primo') \n",
    "else:\n",
    "    print(f'El número {numberEntry} no es ni primo ni compuesto')"
   ]
  },
  {
   "cell_type": "markdown",
   "metadata": {},
   "source": [
    "Complementario  1\n",
    "Diseña una función que calcule y retorne la suma de todos los divisores de un número n, excluyendo n.\n",
    "El valor de n debe ser ingresado por el usuario. Recuerda nombrar y guardar tu algoritmo."
   ]
  },
  {
   "cell_type": "code",
   "execution_count": 31,
   "metadata": {},
   "outputs": [
    {
     "name": "stdout",
     "output_type": "stream",
     "text": [
      "La suma de los divisores del número 32  da como resultado  5\n"
     ]
    }
   ],
   "source": [
    "def sumaDivisores(numberEntry):\n",
    "    sumDiv = 0\n",
    "    for number in range(1,numberEntry): \n",
    "        sumDiv = sumDiv + 1 if not (numberEntry % number) else sumDiv\n",
    "    return sumDiv\n",
    "\n",
    "numberEntry = int(input('Introduce un número '))\n",
    "if numberEntry>1:                \n",
    "    print(f'La suma de los divisores del número {numberEntry}  da como resultado  {sumaDivisores(numberEntry)}')\n",
    "else:\n",
    "    print(f'El número {numberEntry} no aplica para el concepto\"')"
   ]
  },
  {
   "cell_type": "markdown",
   "metadata": {},
   "source": [
    "Complementario 2\n",
    "Crea una función llamada Login que reciba un nombre de usuario y una contraseña, devolviendo True \n",
    "si el nombre de usuario es \"usuario1\" y la contraseña es \"asdasd\". La función también debe contar\n",
    "los intentos de inicio de sesión, permitiendo solo 3 intentos. Si se superan los intentos permitidos,\n",
    "la función debe devolver False. Recuerda nombrar y guardar tu algoritmo.\n"
   ]
  },
  {
   "cell_type": "code",
   "execution_count": 37,
   "metadata": {},
   "outputs": [
    {
     "name": "stdout",
     "output_type": "stream",
     "text": [
      "Lograste entrar \n"
     ]
    }
   ],
   "source": [
    "# Fijate que como podemos usar print para cada caso\n",
    "# Fijate que para devolver el valor usamos return y no usamos variable pero se puede usar tambien\n",
    "\n",
    "def  login(password,user):\n",
    "    return True if password=='asdasd' and user=='usuario1' else False\n",
    "isLogin = False\n",
    "control = 1\n",
    "while control<=3 and not isLogin:\n",
    "    password = input(f'Escribe la clave, intento ({control}) ')\n",
    "    user = input('Escribe, tu nombre de usuario ')\n",
    "    control += 1\n",
    "    isLogin = login(password,user)\n",
    "\n",
    "print(f'Lograste entrar ') if isLogin else print(f'Sos un boludo olvidaste la clave y/o el usuario')"
   ]
  },
  {
   "cell_type": "markdown",
   "metadata": {},
   "source": [
    "Complementario 3\n",
    "Crea una función que calcule la suma de los dígitos de un número. Ejemplo: 25 = 2 + 5 = 7. \n",
    "Nota: para obtener el último dígito de un número de 2 cifras o más, utiliza el resto \n",
    "de una división entre 10. Recuerda el uso de las funciones Mod y Trunc."
   ]
  },
  {
   "cell_type": "code",
   "execution_count": 42,
   "metadata": {},
   "outputs": [
    {
     "name": "stdout",
     "output_type": "stream",
     "text": [
      "La suma de los digitos del número 413  da como resultado  8\n"
     ]
    }
   ],
   "source": [
    "def sumaDigitos(numberEntry):\n",
    "    sumDig = 0\n",
    "    while numberEntry>0: \n",
    "        sumDig += numberEntry % 10\n",
    "        numberEntry = 10  # operardor asignacion y division entera al mismo tiempo tomo todos los numeros menos el ultimo\n",
    "    return sumDig\n",
    "\n",
    "numberEntry = int(input('Introduce un número '))\n",
    "print(f'La suma de los digitos del número {numberEntry}  da como resultado  {sumaDigitos(numberEntry)}')\n"
   ]
  },
  {
   "cell_type": "markdown",
   "metadata": {},
   "source": [
    "Complementario 4\n",
    "Diseña una función que determine si todos los dígitos de un número ingresado por el usuario son\n",
    "impares (por ejemplo: 333, 55, etc.). Para ello, separa el número en dígitos y verifica si cada\n",
    "uno es par o impar. Nota: recuerda el uso de las funciones Mod y Trunc. No conviertas el número a cadena para realizar el ejercicio."
   ]
  },
  {
   "cell_type": "code",
   "execution_count": 68,
   "metadata": {},
   "outputs": [
    {
     "name": "stdout",
     "output_type": "stream",
     "text": [
      "No todos los digitos de 4111111111111111111 son impares\n"
     ]
    }
   ],
   "source": [
    "def imparTodosDigitos(numberEntry):\n",
    "    isImpar = True if numberEntry else False\n",
    "    while numberEntry>0 and isImpar: \n",
    "        digito = numberEntry % 10\n",
    "        isImpar = True if digito % 2 else False\n",
    "        numberEntry = 10  # operardor asignacion y division entera al mismo tiempo tomo todos los numeros menos el ultimo\n",
    "    return isImpar\n",
    "\n",
    "numberEntry = int(input('Introduce un número '))\n",
    "print(f'Todos los digitos de {numberEntry} son impares'  if imparTodosDigitos(numberEntry) else f'No todos los digitos de {numberEntry} son impares')"
   ]
  },
  {
   "cell_type": "markdown",
   "metadata": {},
   "source": [
    "Complementario 5\n",
    "Crea una función que devuelva el término n de la sucesión de Fibonacci. \n",
    "La sucesión de Fibonacci es: 1, 1, 2, 3, 5, 8, 13, 21, 34, ... \n",
    "donde cada número se calcula sumando los dos anteriores. Por ejemplo:\n",
    "\n",
    "Fibonacci(0) = 0  \n",
    "Fibonacci(1) = 1  \n",
    "Fibonacci(2) = Fibonacci(1) + Fibonacci(0) = 1 + 0 = 1  \n",
    "Fibonacci(3) = Fibonacci(2) + Fibonacci(1) = 1 + 1 = 2  \n",
    "Fibonacci(4) = Fibonacci(3) + Fibonacci(2) = 2 + 1 = 3\n",
    "Fibonacci(5) = Fibonacci(4) + Fibonacci(3) = 3 + 2 = 5\n",
    "\n",
    "La sucesión de Fibonacci se define como:  \t\n",
    "Fibonacci(n) = Fibonacci(n-1) + Fibonacci(n-2) para todo n > 1  \n",
    "Fibonacci(n) = 1 para todo n <= 1  \n",
    "Crea una función que reciba el valor de n y calcule la serie hasta llegar a ese valor. Para más información sobre la sucesión de Fibonacci, consulte wikipedia"
   ]
  },
  {
   "cell_type": "code",
   "execution_count": 106,
   "metadata": {},
   "outputs": [
    {
     "name": "stdout",
     "output_type": "stream",
     "text": [
      "Con f(8) fibonacci  21\n"
     ]
    }
   ],
   "source": [
    "def fibonacci(numberEntry):\n",
    "    numf0 = 0\n",
    "    numf1 = 1\n",
    "    if numberEntry <3:\n",
    "        return numf1 if numberEntry else numf0\n",
    "    else:\n",
    "        for i in range(2,numberEntry+1):\n",
    "            numf1, numf0 = numf0 + numf1, numf1\n",
    "        return numf1\n",
    "\n",
    "numberEntry = int(input('Introduce un número '))\n",
    "print(f'Con f({numberEntry}) fibonacci  {fibonacci(numberEntry)}')"
   ]
  },
  {
   "cell_type": "markdown",
   "metadata": {},
   "source": [
    "Complementario 6\n",
    "Diseña una función que determine si un número ingresado por el usuario es capicúa (por ejemplo: 12321).\n",
    "Nota: recuerda el uso de MOD y Trunc. No conviertas el número a cadena para realizar el ejercicio.\n",
    "Se define real porque es menos probable que se rompa en ejecucion en el ingreso de la variable y se mantiene para todos los casos por economia de codigo"
   ]
  },
  {
   "cell_type": "code",
   "execution_count": 88,
   "metadata": {},
   "outputs": [
    {
     "name": "stdout",
     "output_type": "stream",
     "text": [
      "El numero 121 es capicua\n"
     ]
    }
   ],
   "source": [
    "def esCapicua(numberEntry):\n",
    "    isCapicua = False\n",
    "    numberEntryOrginal = numberEntry\n",
    "    numberEntryInver = 0\n",
    "    while numberEntry>0: \n",
    "        numberEntryInver = numberEntryInver*10 +  numberEntry % 10\n",
    "        numberEntry = 10  # operardor asignacion y division entera al mismo tiempo tomo todos los numeros menos el ultimo\n",
    "    isCapicua = True if numberEntryOrginal == numberEntryInver else False\n",
    "    return isCapicua\n",
    "\n",
    "numberEntry = int(input('Introduce un número '))\n",
    "print(f'El numero {numberEntry} es capicua'  if esCapicua(numberEntry) else f'El numero {numberEntry} NO es capicua')"
   ]
  },
  {
   "cell_type": "markdown",
   "metadata": {},
   "source": [
    "Complementario 7\n",
    "Los empleados de una fábrica trabajan en dos turnos: diurno y nocturno. \n",
    "Diseña una función para calcular el jornal diario según las siguientes reglas:\n",
    "  \n",
    "La tarifa de horas diurnas es de $90.\n",
    "  \n",
    "La tarifa de horas nocturnas es de $125.\n",
    "  \n",
    "En días festivos, la tarifa se incrementa en un 10% \n",
    "para el turno diurno y en un 15% para el turno nocturno.\n",
    "  \t\t\n",
    "El programa debe solicitar al usuario: el nombre del trabajador, el día de la semana,\n",
    "el turno (diurno o nocturno), y la cantidad de horas trabajadas. \n",
    "Además, debe preguntar si el día era festivo para calcular el jornal diario."
   ]
  },
  {
   "cell_type": "code",
   "execution_count": 92,
   "metadata": {},
   "outputs": [
    {
     "name": "stdout",
     "output_type": "stream",
     "text": [
      "Para carlos\n",
      "el dia lunes\n",
      "En el Turno Nocturno\n",
      "para esta 15 horas\n",
      "Debe cobrar por el jornal  1875 pesos\n"
     ]
    }
   ],
   "source": [
    "def calculoLaboral(choice, holiday, quantity):\n",
    "    if holiday == 'S':\n",
    "        return 90*1.1*quantity if choice == 'D' else 125*1.15*quantity\n",
    "    else:\n",
    "        return 90*quantity if choice == 'D' else 125*quantity\n",
    "\n",
    "name = input('Escribe, el nombre ')\n",
    "weakDay = input('Escribe, el dia de la semana ')\n",
    "choice = input('Escribe, turno (D)iurno o (N)octurno ')\n",
    "choice = choice.upper()\n",
    "holiday = input('Escribe, si es festivo (S/N) ')\n",
    "holiday = holiday.upper()\n",
    "quantity = int(input('Escribe, la cantidad de horas'))\n",
    "\n",
    "print(f'Para {name}')\n",
    "print(f'el dia {weakDay}')\n",
    "print('En el Turno Diurno' if choice == 'D' else 'En el Turno Nocturno')\n",
    "if holiday == 'S':\n",
    "    print('y como es festivo')\n",
    "print(f'para esta {quantity} horas')\n",
    "print(f'Debe cobrar por el jornal  {calculoLaboral(choice, holiday, quantity)} pesos')"
   ]
  },
  {
   "cell_type": "markdown",
   "metadata": {},
   "source": [
    "Complementario 8\n",
    "Crea una función que convierta una temperatura de grados Celsius a grados Fahrenheit. Luego, \n",
    "en el programa principal, solicita al usuario una temperatura en Celsius y utiliza la función \n",
    "para convertirla y mostrar el resultado. Fórmula de conversión: F = C * 9/5 + 32"
   ]
  },
  {
   "cell_type": "code",
   "execution_count": 95,
   "metadata": {},
   "outputs": [
    {
     "name": "stdout",
     "output_type": "stream",
     "text": [
      "Con temperatura 0 °C es equivalente a 32.0 °F\n"
     ]
    }
   ],
   "source": [
    "def conversionAfahrenheit(centigrado):\n",
    "    return 9*centigrado/5 +32\n",
    "\n",
    "centigrado = int(input('Introduce un número '))\n",
    "print(f'Con temperatura {centigrado} °C es equivalente a {conversionAfahrenheit(centigrado)} °F')"
   ]
  },
  {
   "cell_type": "markdown",
   "metadata": {},
   "source": [
    "Complementario 9 EN REALIDAD NO PODIA HACERSE SIN ARREGLO O RECURSIVA QUE NO SE HAN VISTO\n",
    "Crea una función que calcule el promedio de una lista de números. En el programa principal, solicita \n",
    "al usuario una serie de números , usa la función para calcular el promedio y muestra el resultado.\n"
   ]
  },
  {
   "cell_type": "code",
   "execution_count": 104,
   "metadata": {},
   "outputs": [
    {
     "name": "stdout",
     "output_type": "stream",
     "text": [
      "El promedio es: 2.5\n"
     ]
    }
   ],
   "source": [
    "# usando arreglo para hacer el problema como desde pseint\n",
    "def promedio(arreglo,numberEntry):\n",
    "    sum = 0\n",
    "    for number in range(numberEntry):\n",
    "        sum += arreglo[number]\n",
    "    return sum/numberEntry\n",
    "\n",
    "numberEntry = int(input('Introduce la cantidad de datos a promediar '))\n",
    "arreglo = []\n",
    "for number in range(numberEntry):\n",
    "        arreglo.append(int(input('Introduce un número ')))\n",
    "        \n",
    "print(f'El promedio es: {promedio(arreglo,numberEntry)}' if numberEntry else 'No se puede dividir entre 0')"
   ]
  },
  {
   "cell_type": "code",
   "execution_count": 109,
   "metadata": {},
   "outputs": [
    {
     "name": "stdout",
     "output_type": "stream",
     "text": [
      "El promedio es: 2.5\n"
     ]
    }
   ],
   "source": [
    "# usando arreglo para hacer el problema considerando mejor recorrer el arreglo\n",
    "def promedio(arreglo):\n",
    "    sum = 0\n",
    "    for number in arreglo:\n",
    "        sum += number\n",
    "    return sum/len(arreglo)\n",
    "\n",
    "numberEntry = int(input('Introduce la cantidad de datos a promediar '))\n",
    "arreglo = []\n",
    "for number in range(numberEntry):\n",
    "        arreglo.append(int(input('Introduce un número ')))\n",
    "        \n",
    "print(f'El promedio es: {promedio(arreglo)}' if numberEntry else 'No se puede dividir entre 0')"
   ]
  },
  {
   "cell_type": "code",
   "execution_count": 118,
   "metadata": {},
   "outputs": [
    {
     "name": "stdout",
     "output_type": "stream",
     "text": [
      "El promedio es: 2.5\n"
     ]
    }
   ],
   "source": [
    "# usando recursivo\n",
    "def sumar(numberEntry):\n",
    "    if not numberEntry:\n",
    "        sum = 0\n",
    "    else:        \n",
    "        sum = int(input('Introduce un número ')) + sumar(numberEntry-1)\n",
    "    return sum\n",
    "\n",
    "numberEntry = int(input('Introduce la cantidad de datos a promediar '))\n",
    "        \n",
    "print(f'El promedio es: {sumar(numberEntry)/numberEntry}' if numberEntry else 'No se puede dividir entre 0')"
   ]
  },
  {
   "cell_type": "code",
   "execution_count": 120,
   "metadata": {},
   "outputs": [
    {
     "name": "stdout",
     "output_type": "stream",
     "text": [
      "El promedio es: 2.5\n"
     ]
    }
   ],
   "source": [
    "# usando la forma poliargumentos *args mas facil en python\n",
    "# esto se basa en una propiedad de los datos estructurados listas y tuplas por ejemplo:\n",
    "# lista_o_tupla = [1,2,3] esto se llama empaquetar\n",
    "# a, b, c = [1,2,3] esto se llama desempaquetar a toma el valor 1, b el valor 2 y c toma el valor 4\n",
    "# una forma de desempaquetar global es *lista o tupla lo cual separa cada elemento\n",
    "# despues usas la funcion sum de python y resuelto\n",
    "def promedio(*arreglo):\n",
    "    return sum(arreglo)/len(arreglo)\n",
    "\n",
    "numberEntry = int(input('Introduce la cantidad de datos a promediar '))\n",
    "arreglo = []\n",
    "for number in range(numberEntry):\n",
    "        arreglo.append(int(input('Introduce un número ')))\n",
    "        \n",
    "print(f'El promedio es: {promedio(*arreglo)}' if numberEntry else 'No se puede dividir entre 0')"
   ]
  },
  {
   "cell_type": "markdown",
   "metadata": {},
   "source": [
    "Complementario 10\n",
    "Crea dos funciones: una para calcular el área y otra para calcular el perímetro de un rectángulo dado su ancho y su alto. En el programa principal, solicita al usuario el ancho y el alto del rectángulo, utiliza las funciones para calcular el área y el perímetro, y muestra los resultados.  \n",
    "Fórmula del área: A = ancho * alto  \n",
    "Fórmula del perímetro: P = 2 * (ancho + alto)"
   ]
  },
  {
   "cell_type": "code",
   "execution_count": null,
   "metadata": {},
   "outputs": [
    {
     "name": "stdout",
     "output_type": "stream",
     "text": [
      "Con este ancho 2 y esta altura 2  el area es  4\n",
      "Con este ancho 2 y esta altura 2  el perimetro es  8\n"
     ]
    }
   ],
   "source": [
    "def  perimetro(ancho,altura):\n",
    "    return 2*(ancho + altura)\n",
    "\n",
    "def  area(ancho,altura):\n",
    "    return ancho * altura\n",
    "\n",
    "ancho = int(input('Escribe el ancho '))\n",
    "altura = int(input('Escribe la altura '))\n",
    "\n",
    "print(f'Con este ancho {ancho} y esta altura {altura}  el area es  {area(ancho,altura)}')\n",
    "print(f'Con este ancho {ancho} y esta altura {altura}  el perimetro es  {perimetro(ancho,altura)}')"
   ]
  }
 ],
 "metadata": {
  "kernelspec": {
   "display_name": "base",
   "language": "python",
   "name": "python3"
  },
  "language_info": {
   "codemirror_mode": {
    "name": "ipython",
    "version": 3
   },
   "file_extension": ".py",
   "mimetype": "text/x-python",
   "name": "python",
   "nbconvert_exporter": "python",
   "pygments_lexer": "ipython3",
   "version": "3.11.5"
  }
 },
 "nbformat": 4,
 "nbformat_minor": 2
}
