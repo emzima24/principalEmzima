{
 "cells": [
  {
   "cell_type": "markdown",
   "metadata": {},
   "source": [
    "Complementario 10\n",
    "Crea dos funciones: una para calcular el área y otra para calcular el perímetro de un rectángulo dado su ancho y su alto. En el programa principal, solicita al usuario el ancho y el alto del rectángulo, utiliza las funciones para calcular el área y el perímetro, y muestra los resultados.  \n",
    "Fórmula del área: A = ancho * alto  \n",
    "Fórmula del perímetro: P = 2 * (ancho + alto)"
   ]
  },
  {
   "cell_type": "code",
   "execution_count": 2,
   "metadata": {},
   "outputs": [
    {
     "name": "stdout",
     "output_type": "stream",
     "text": [
      "Con este ancho 2 y esta altura 2  el area es  4\n",
      "Con este ancho 2 y esta altura 2  el perimetro es  8\n"
     ]
    }
   ],
   "source": [
    "def  perimetro(ancho,altura):\n",
    "    return 2*(ancho + altura)\n",
    "\n",
    "def  area(ancho,altura):\n",
    "    return ancho * altura\n",
    "\n",
    "ancho = int(input('Escribe el ancho '))\n",
    "altura = int(input('Escribe la altura '))\n",
    "\n",
    "print(f'Con este ancho {ancho} y esta altura {altura}  el area es  {area(ancho,altura)}')\n",
    "print(f'Con este ancho {ancho} y esta altura {altura}  el perimetro es  {perimetro(ancho,altura)}')"
   ]
  },
  {
   "cell_type": "markdown",
   "metadata": {},
   "source": [
    "Actividad 2\n",
    "Crea una función esImpar que determine si un número es impar. Si es impar, la función debe \n",
    "devolver True; en caso contrario, debe devolver False. Nota: la función no debe incluir mensajes\n",
    "que indiquen si el número es par o impar; esto debe manejarse en el programa principal. Recuerda nombrar y guardar tu algoritmo."
   ]
  },
  {
   "cell_type": "code",
   "execution_count": 10,
   "metadata": {},
   "outputs": [
    {
     "name": "stdout",
     "output_type": "stream",
     "text": [
      "El 104 es par\n"
     ]
    }
   ],
   "source": [
    "# cumplimos con lo que pidieron y siempre se puede hacer mejor\n",
    "# Fijate que como podemos usar print para cada caso\n",
    "# Fiajte que para devolver el valor usamos return y no usamos variable pero se puede usar tambien\n",
    "\n",
    "def  isImpar(number):\n",
    "    return True if not number%2 else False\n",
    "\n",
    "number = int(input('Escribe un numero '))\n",
    "\n",
    "print(f'El {number} es par') if isImpar(number) else print(f'El {number} es impar')"
   ]
  },
  {
   "cell_type": "code",
   "execution_count": 11,
   "metadata": {},
   "outputs": [
    {
     "name": "stdout",
     "output_type": "stream",
     "text": [
      "El 104 es par\n"
     ]
    }
   ],
   "source": [
    "# Pero python no hubiese perdido tiempo \n",
    "\n",
    "number = int(input('Escribe un numero '))\n",
    "\n",
    "print(f'El {number} es par') if not number%2 else print(f'El {number} es impar')"
   ]
  },
  {
   "cell_type": "markdown",
   "metadata": {},
   "source": [
    "Actividad 3\n",
    "Crea una función esMultiplo que reciba dos números proporcionados por el usuario y valide si el \n",
    "primer número es múltiplo del segundo. La función debe devolver True si el primer número es \n",
    "múltiplo del segundo, y False en caso contrario. Recuerda nombrar y guardar tu algoritmo."
   ]
  },
  {
   "cell_type": "code",
   "execution_count": 15,
   "metadata": {},
   "outputs": [
    {
     "name": "stdout",
     "output_type": "stream",
     "text": [
      "El 11 es multiplo de 77\n"
     ]
    }
   ],
   "source": [
    "# fijate como escribimos el print ves lo versatil de python y los dos se leen muy bien\n",
    "def  isMultiplo(number,numberMultiplo):\n",
    "    return True if not number%numberMultiplo else False\n",
    "\n",
    "numberMultiplo = int(input('introduce un numero para saber si es multiplo'))\n",
    "number = int(input('del numero que ahora introduces '))\n",
    "\n",
    "print(f'El {numberMultiplo} es multiplo de {number}' if isMultiplo(number,numberMultiplo) else f'El {numberMultiplo} NO es multiplo de {number}')"
   ]
  },
  {
   "cell_type": "code",
   "execution_count": 16,
   "metadata": {},
   "outputs": [
    {
     "name": "stdout",
     "output_type": "stream",
     "text": [
      "El 4 es multiplo de 56\n"
     ]
    }
   ],
   "source": [
    "# fijate no necesitabas la funcion recuerda que se puede aprovechar que cero es False y 1 o superior es True\n",
    " \n",
    "\n",
    "numberMultiplo = int(input('introduce un numero para saber si es multiplo'))\n",
    "number = int(input('del numero que ahora introduces '))\n",
    "\n",
    "print(f'El {numberMultiplo} es multiplo de {number}' if not number%numberMultiplo else f'El {numberMultiplo} NO es multiplo de {number}')"
   ]
  },
  {
   "cell_type": "markdown",
   "metadata": {},
   "source": [
    "Actividad 4\n",
    "Diseña una función que reciba una frase y una letra proporcionadas por el usuario y devuelva \n",
    "la cantidad de veces que la letra aparece en la frase. Recuerda nombrar y guardar tu algoritmo."
   ]
  },
  {
   "cell_type": "code",
   "execution_count": 19,
   "metadata": {},
   "outputs": [
    {
     "name": "stdout",
     "output_type": "stream",
     "text": [
      "La frase (Una frase tan larga que contenga la letra en mayúscula. Un ejemplo por ejemplo) tiene  4 letras u\n"
     ]
    }
   ],
   "source": [
    "def letrasFrase(frase,letra):\n",
    "    qtyLetrasFrase = 0\n",
    "    frase = frase.lower()\n",
    "    letra = letra.lower()\n",
    "    for letter in frase:\n",
    "        qtyLetrasFrase = qtyLetrasFrase + 1 if letter==letra else qtyLetrasFrase \n",
    "    return qtyLetrasFrase\n",
    "\n",
    "frase = input('introduce una frase ')\n",
    "letra = input('introduce una letra ')\n",
    "\n",
    "print(f'La frase ({frase}) tiene  {letrasFrase(frase,letra)} letras {letra}')\n"
   ]
  },
  {
   "cell_type": "markdown",
   "metadata": {},
   "source": [
    "Actividad 5\n",
    "Crea una función que determine si un número ingresado por el usuario es primo. Un número es primo\n",
    "si solo es divisible por 1 y por sí mismo (por ejemplo: 2, 3, 5, 7, 11, 13, 17, etc.) . Recuerda nombrar y guardar tu algoritmo."
   ]
  },
  {
   "cell_type": "code",
   "execution_count": 30,
   "metadata": {},
   "outputs": [
    {
     "name": "stdout",
     "output_type": "stream",
     "text": [
      "El número 109 es primo\n"
     ]
    }
   ],
   "source": [
    "def esPrimo(numberEntry):\n",
    "    sumDiv = 0\n",
    "    for number in range(1,numberEntry+1): \n",
    "        if  count <3:\n",
    "            count = count + 1 if not (numberEntry % number) else count\n",
    "        else:\n",
    "            break\n",
    "    return count\n",
    "\n",
    "\n",
    "numberEntry = int(input('Introduce un número '))\n",
    "if numberEntry>1:                \n",
    "    if esPrimo(numberEntry) == 2:\n",
    "        print(f'El número {numberEntry} es primo')\n",
    "    else:\n",
    "        print(f'El número {numberEntry} NO es primo') \n",
    "else:\n",
    "    print(f'El número {numberEntry} no es ni primo ni compuesto')"
   ]
  },
  {
   "cell_type": "markdown",
   "metadata": {},
   "source": [
    "Complementario  1\n",
    "Diseña una función que calcule y retorne la suma de todos los divisores de un número n, excluyendo n.\n",
    "El valor de n debe ser ingresado por el usuario. Recuerda nombrar y guardar tu algoritmo."
   ]
  },
  {
   "cell_type": "code",
   "execution_count": 31,
   "metadata": {},
   "outputs": [
    {
     "name": "stdout",
     "output_type": "stream",
     "text": [
      "La suma de los divisores del número 32  da como resultado  5\n"
     ]
    }
   ],
   "source": [
    "def sumaDivisores(numberEntry):\n",
    "    sumDiv = 0\n",
    "    for number in range(1,numberEntry): \n",
    "        sumDiv = sumDiv + 1 if not (numberEntry % number) else sumDiv\n",
    "    return sumDiv\n",
    "\n",
    "\n",
    "numberEntry = int(input('Introduce un número '))\n",
    "if numberEntry>1:                \n",
    "    print(f'La suma de los divisores del número {numberEntry}  da como resultado  {sumaDivisores(numberEntry)}')\n",
    "else:\n",
    "    print(f'El número {numberEntry} no aplica para el concepto\"')"
   ]
  },
  {
   "cell_type": "markdown",
   "metadata": {},
   "source": [
    "Complementario 2\n",
    "Crea una función llamada Login que reciba un nombre de usuario y una contraseña, devolviendo True \n",
    "si el nombre de usuario es \"usuario1\" y la contraseña es \"asdasd\". La función también debe contar\n",
    "los intentos de inicio de sesión, permitiendo solo 3 intentos. Si se superan los intentos permitidos,\n",
    "la función debe devolver False. Recuerda nombrar y guardar tu algoritmo.\n"
   ]
  },
  {
   "cell_type": "code",
   "execution_count": null,
   "metadata": {},
   "outputs": [],
   "source": []
  },
  {
   "cell_type": "markdown",
   "metadata": {},
   "source": [
    "Complementario 3\n",
    "Crea una función que calcule la suma de los dígitos de un número. Ejemplo: 25 = 2 + 5 = 7. \n",
    "Nota: para obtener el último dígito de un número de 2 cifras o más, utiliza el resto \n",
    "de una división entre 10. Recuerda el uso de las funciones Mod y Trunc."
   ]
  },
  {
   "cell_type": "code",
   "execution_count": null,
   "metadata": {},
   "outputs": [],
   "source": []
  },
  {
   "cell_type": "markdown",
   "metadata": {},
   "source": [
    "Complementario 4\n",
    "Diseña una función que determine si todos los dígitos de un número ingresado por el usuario son\n",
    "impares (por ejemplo: 333, 55, etc.). Para ello, separa el número en dígitos y verifica si cada\n",
    "uno es par o impar. Nota: recuerda el uso de las funciones Mod y Trunc. No conviertas el número a cadena para realizar el ejercicio."
   ]
  },
  {
   "cell_type": "code",
   "execution_count": null,
   "metadata": {},
   "outputs": [],
   "source": []
  },
  {
   "cell_type": "markdown",
   "metadata": {},
   "source": [
    "Complementario 5\n",
    "Crea una función que devuelva el término n de la sucesión de Fibonacci. \n",
    "La sucesión de Fibonacci es: 1, 1, 2, 3, 5, 8, 13, 21, 34, ... \n",
    "donde cada número se calcula sumando los dos anteriores. Por ejemplo:\n",
    "\n",
    "Fibonacci(2) = 1 + 1  \n",
    "Fibonacci(3) = 1 + 2  \n",
    "Fibonacci(5) = 2 + 3\n",
    "\n",
    "La sucesión de Fibonacci se define como:  \t\n",
    "Fibonacci(n) = Fibonacci(n-1) + Fibonacci(n-2) para todo n > 1  \n",
    "Fibonacci(n) = 1 para todo n <= 1  \n",
    "Crea una función que reciba el valor de n y calcule la serie hasta llegar a ese valor. Para más información sobre la sucesión de Fibonacci, consulte wikipedia"
   ]
  },
  {
   "cell_type": "code",
   "execution_count": null,
   "metadata": {},
   "outputs": [],
   "source": []
  },
  {
   "cell_type": "markdown",
   "metadata": {},
   "source": [
    "Complementario 6\n",
    "Diseña una función que determine si un número ingresado por el usuario es capicúa (por ejemplo: 12321).\n",
    "Nota: recuerda el uso de MOD y Trunc. No conviertas el número a cadena para realizar el ejercicio.\n",
    "Se define real porque es menos probable que se rompa en ejecucion en el ingreso de la variable y se mantiene para todos los casos por economia de codigo"
   ]
  },
  {
   "cell_type": "code",
   "execution_count": null,
   "metadata": {},
   "outputs": [],
   "source": []
  },
  {
   "cell_type": "markdown",
   "metadata": {},
   "source": [
    "Complementario 7\n",
    "Los empleados de una fábrica trabajan en dos turnos: diurno y nocturno. \n",
    "Diseña una función para calcular el jornal diario según las siguientes reglas:\n",
    "  \n",
    "La tarifa de horas diurnas es de $90.\n",
    "  \n",
    "La tarifa de horas nocturnas es de $125.\n",
    "  \n",
    "En días festivos, la tarifa se incrementa en un 10% \n",
    "para el turno diurno y en un 15% para el turno nocturno.\n",
    "  \t\t\n",
    "El programa debe solicitar al usuario: el nombre del trabajador, el día de la semana,\n",
    "el turno (diurno o nocturno), y la cantidad de horas trabajadas. \n",
    "Además, debe preguntar si el día era festivo para calcular el jornal diario."
   ]
  },
  {
   "cell_type": "code",
   "execution_count": null,
   "metadata": {},
   "outputs": [],
   "source": []
  },
  {
   "cell_type": "markdown",
   "metadata": {},
   "source": [
    "Complementario 8\n",
    "Crea una función que convierta una temperatura de grados Celsius a grados Fahrenheit. Luego, \n",
    "en el programa principal, solicita al usuario una temperatura en Celsius y utiliza la función \n",
    "para convertirla y mostrar el resultado. Fórmula de conversión: F = C * 9/5 + 32"
   ]
  },
  {
   "cell_type": "code",
   "execution_count": null,
   "metadata": {},
   "outputs": [],
   "source": []
  },
  {
   "cell_type": "markdown",
   "metadata": {},
   "source": [
    "Complementario 9 EN REALIDAD NO PODIA HACERSE SIN ARREGLO O RECURSIVA QUE NO SE HAN VISTO\n",
    "Crea una función que calcule el promedio de una lista de números. En el programa principal, solicita \n",
    "al usuario una serie de números , usa la función para calcular el promedio y muestra el resultado.\n"
   ]
  },
  {
   "cell_type": "code",
   "execution_count": null,
   "metadata": {},
   "outputs": [],
   "source": []
  },
  {
   "cell_type": "markdown",
   "metadata": {},
   "source": [
    "Complementario 10\n",
    "Crea dos funciones: una para calcular el área y otra para calcular el perímetro de un rectángulo dado su ancho y su alto. En el programa principal, solicita al usuario el ancho y el alto del rectángulo, utiliza las funciones para calcular el área y el perímetro, y muestra los resultados.\n",
    "  \n",
    "Fórmula del área: A = ancho * alto\n",
    "  \t\n",
    "Fórmula del perímetro: P = 2 * (ancho + alto)"
   ]
  }
 ],
 "metadata": {
  "kernelspec": {
   "display_name": "base",
   "language": "python",
   "name": "python3"
  },
  "language_info": {
   "codemirror_mode": {
    "name": "ipython",
    "version": 3
   },
   "file_extension": ".py",
   "mimetype": "text/x-python",
   "name": "python",
   "nbconvert_exporter": "python",
   "pygments_lexer": "ipython3",
   "version": "3.11.5"
  }
 },
 "nbformat": 4,
 "nbformat_minor": 2
}
