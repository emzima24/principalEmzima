{
 "cells": [
  {
   "cell_type": "markdown",
   "metadata": {},
   "source": [
    "Actividad: Instrucciones de escritura\n",
    "Crea un algoritmo llamado 'Saludo' que imprima 'Bienvenido a tu curso de Fundamentos de Programación' en la pantalla.\n",
    "\t\t\n",
    "Ejecuta el programa y valida que el saludo se muestre de manera correcta en la pantalla emergente.\n",
    "\t\t\n",
    "Nombre y guarda el algoritmo en la carpeta creada previamente para dicho fin. "
   ]
  },
  {
   "cell_type": "code",
   "execution_count": 1,
   "metadata": {},
   "outputs": [
    {
     "name": "stdout",
     "output_type": "stream",
     "text": [
      "Bienvenido a tu curso de Fundamentos de Programación\n"
     ]
    }
   ],
   "source": [
    "print('Bienvenido a tu curso de Fundamentos de Programación')"
   ]
  },
  {
   "cell_type": "markdown",
   "metadata": {},
   "source": [
    "Actividad: Iniciando con variables \n",
    "Crea un nuevo algoritmo llamado 'SaludoNuevo'\n",
    "\t\n",
    "Define una variable llamada tuNombre del tipo cadena.\n",
    "\t\n",
    "Solicita al usuario su nombre por pantalla y asigna el valor ingresado en la variable previamente declarada\n",
    "\t\n",
    "Muestra un saludo personalizado, concatenando el saludo con el valor almacenado en la variable declarada.\n",
    "\t\n",
    "Ejecuta el programa y valida que el saludo se muestre de manera correcta en la pantalla emergente.\n",
    "\t\n",
    "Guarda  el algoritmo en la carpeta creada previamente para dicho fin"
   ]
  },
  {
   "cell_type": "code",
   "execution_count": 1,
   "metadata": {},
   "outputs": [
    {
     "name": "stdout",
     "output_type": "stream",
     "text": [
      "Hola  Emiliano , ¿Cómo estas?\n"
     ]
    }
   ],
   "source": [
    "# hay varias formas de usar el print por ahora usaremos la mas simple\n",
    "tuNombre = input('Por favor, Escribe tu nombre ')\n",
    "print('Hola ',tuNombre,', ¿Cómo estas?')"
   ]
  },
  {
   "cell_type": "markdown",
   "metadata": {},
   "source": [
    "Actividad 1\n",
    "Solicita al usuario ingresar el valor del radio de una circunferencia y luego calcula y muestra por pantalla el área y perímetro. Para calcular estos valores, puedes usar las siguientes fórmulas:\n",
    "\n",
    "Area = PI * radio2\n",
    "\n",
    "Perimetro = 2 * PI * radio\n",
    "\n",
    "Recuerda que en matemáticas, ? (PI) representa el número aproximado de 3.14\n",
    "\n",
    "Recuerda que al realizar cálculos, tienes la opción de almacenar el resultado en una variable para su uso posterior, \n",
    "o bien ejecutar la operación directamente en una instrucción de salida, como por ejemplo, al escribir el resultado."
   ]
  },
  {
   "cell_type": "code",
   "execution_count": 6,
   "metadata": {},
   "outputs": [
    {
     "name": "stdout",
     "output_type": "stream",
     "text": [
      "El area, para el radio  4.0 cm, es de  50.24  cm2\n",
      "El perimetro, para el radio  4.0 cm, es de  25.12  cm\n"
     ]
    }
   ],
   "source": [
    "# en python un input siempre es un caracter (string para python)\n",
    "# con float() lo convertimos en decimal y con int() lo convertimos a entero\n",
    "radio = float(input('Indica el radio de la circunferencia (en cm) '))\n",
    "area = 3.14*radio**2\n",
    "perimetro = 3.14*radio*2\n",
    "print('El area, para el radio ', radio,'cm, es de ',area,' cm2')\n",
    "print('El perimetro, para el radio ', radio,'cm, es de ',perimetro,' cm')"
   ]
  },
  {
   "cell_type": "code",
   "execution_count": 7,
   "metadata": {},
   "outputs": [
    {
     "name": "stdout",
     "output_type": "stream",
     "text": [
      "El area, para el radio  4.0 cm, es de  50.24  cm2\n",
      "El area, para el radio  4.0 cm, es de  25.12  cm2\n"
     ]
    }
   ],
   "source": [
    "print('El area, para el radio ', radio,'cm, es de ',3.14*radio**2,' cm2')\n",
    "print('El area, para el radio ', radio,'cm, es de ',3.14*radio*2,' cm2')"
   ]
  },
  {
   "cell_type": "code",
   "execution_count": 8,
   "metadata": {},
   "outputs": [
    {
     "name": "stdout",
     "output_type": "stream",
     "text": [
      "El area, para el radio  4.0 cm, es de  50.26548245743669  cm2\n",
      "El area, para el radio  4.0 cm, es de  25.132741228718345  cm2\n"
     ]
    }
   ],
   "source": [
    "# o llamando a una libreria de python math y usar el valor de pi\n",
    "import math\n",
    "print('El area, para el radio ', radio,'cm, es de ',math.pi *radio**2,' cm2')\n",
    "print('El area, para el radio ', radio,'cm, es de ',math.pi *radio*2,' cm2')"
   ]
  },
  {
   "cell_type": "markdown",
   "metadata": {},
   "source": [
    "Actividad 2\n",
    "Escribe un programa que calcule el precio promedio de un producto. El precio promedio se debe calcular a partir del precio del mismo producto en tres establecimientos distintos.\n",
    "\n",
    "Nota: Asegúrate de solicitar al usuario que ingrese tres valores del producto, los cuales serán almacenados en tres variables previamente definidas.\n",
    "Posteriormente, podrás llevar a cabo la operación correspondiente.\n",
    "\t\n",
    "Recuerda nombrar y guardar tu algoritmo."
   ]
  },
  {
   "cell_type": "code",
   "execution_count": 9,
   "metadata": {},
   "outputs": [
    {
     "name": "stdout",
     "output_type": "stream",
     "text": [
      "El promedio de  2.0 ,  3.0  y  4.0  es de  3.0\n"
     ]
    }
   ],
   "source": [
    "firstProd = float(input('Cuanto vale el primer producto '))\n",
    "secundProd = float(input('Cuanto vale el segundo producto '))\n",
    "thirdProd = float(input('Cuanto vale el tercer producto '))\n",
    "mean = (firstProd+secundProd+thirdProd)/3\n",
    "print('El promedio de ',firstProd,', ',secundProd,' y ',thirdProd,' es de ', mean)\n"
   ]
  },
  {
   "cell_type": "markdown",
   "metadata": {},
   "source": [
    "Actividad 3\n",
    "A partir de una conocida cantidad de metros que el usuario ingresa a través del teclado se debe obtener su equivalente en centímetros, en milímetros y en pulgadas.\n",
    "\n",
    "Equivalencias: \n",
    "\t\n",
    "1 metro equivale a 100 centímetros.\n",
    "\t\n",
    "1 metro equivale a 1000 milímetros.\n",
    "\t\n",
    "1 pulgada equivale a 2.54 centímetros.\n",
    "\t\n",
    "Recuerda nombrar y guardar tu algoritmo."
   ]
  },
  {
   "cell_type": "code",
   "execution_count": 11,
   "metadata": {},
   "outputs": [
    {
     "name": "stdout",
     "output_type": "stream",
     "text": [
      "La medida  2.0  en metros es equivalente a  200.0  cm\n",
      "La medida  2.0  en metros es equivalente a  2000.0  mm\n",
      "La medida  2.0  en metros es equivalente a  78.74015748031496  in\n"
     ]
    }
   ],
   "source": [
    "medida = float(input('Cuanto vale la medida en metros '))\n",
    "enCentimetros = medida *100\n",
    "enMilimetros = medida *1000\n",
    "enPulgadas = medida *100/2.54\n",
    "print('La medida ',medida,' en metros es equivalente a ',enCentimetros, ' cm')\n",
    "print('La medida ',medida,' en metros es equivalente a ',enMilimetros, ' mm')\n",
    "print('La medida ',medida,' en metros es equivalente a ',enPulgadas, ' in')"
   ]
  },
  {
   "cell_type": "markdown",
   "metadata": {},
   "source": [
    "Actividad 4\n",
    "Escribe un programa que calcule cuántos litros de combustible consumió un automóvil. \n",
    "El usuario ingresará una cantidad de litros de combustible cargados en la estación \n",
    "y una cantidad de kilómetros recorridos, después, el programa calculará el consumo (km/lt) \n",
    "y se lo mostrará al usuario. Recuerda nombrar y guardar tu algoritmo."
   ]
  },
  {
   "cell_type": "code",
   "execution_count": null,
   "metadata": {},
   "outputs": [],
   "source": [
    "volumen = float(input('Indica el volumen de combustible cargado (en L) '))\n",
    "distancia = float(input('Indica la distancia recorrida (en Km) '))\n",
    "consumo = distancia/volumen\n",
    "print('El consumo para estas condiciones es ', consumo,' Km/L')"
   ]
  },
  {
   "cell_type": "markdown",
   "metadata": {},
   "source": [
    "Actividad 5\n",
    "Escribe un programa que permita al usuario ingresar el valor de dos variables numéricas de tipo entero. \n",
    "Posteriormente, el programa debe intercambiar los valores de ambas variables y mostrar el resultado final por pantalla.\n",
    "\n",
    "Por ejemplo, si el usuario ingresa los valores num1 = 9 y num2 = 3, la salida a del programa deberá mostrar: num1 = 3 y num2 = 9.\n",
    "\t\t\n",
    "Ayuda: Para intercambiar los valores de dos variables se debe utilizar una variable auxiliar."
   ]
  },
  {
   "cell_type": "code",
   "execution_count": 13,
   "metadata": {},
   "outputs": [
    {
     "name": "stdout",
     "output_type": "stream",
     "text": [
      "Originalmente la primera variable es  43.0  y la segunda variable es  34.0\n",
      "Si se intercambian la primera variable es ahora  34.0  y la segunda variable es  43.0\n"
     ]
    }
   ],
   "source": [
    "# podes hacerlo como lo hace pseint con una variable intercambio ensayalo si quieres pero usaremos el mejor metodo luego si quieres puedes saber porque\n",
    "VariableUno = float(input('Indica la primera variable, recuerda que solo puede ser un numero entero '))\n",
    "VariableDos = float(input('Indica la segunda variable, recuerda que solo puede ser un numero entero '))\n",
    "print('Originalmente la primera variable es ', VariableUno,' y la segunda variable es ', VariableDos)\n",
    "VariableUno, VariableDos = VariableDos, VariableUno\n",
    "print('Si se intercambian la primera variable es ahora ', VariableUno,' y la segunda variable es ', VariableDos)"
   ]
  },
  {
   "cell_type": "markdown",
   "metadata": {},
   "source": [
    "Complementario 1 COMO PUEDE HACERSE SIN ALGO QUE NO SE HA VISTO\n",
    "Desarrolla un programa que permita calcular la remuneración total que recibirá un vendedor al finalizar el mes. \n",
    "El vendedor recibe un salario base más un 10% adicional por comisión sobre sus ventas.  \n",
    "El programa debe solicitar al usuario el salario base del vendedor y luego pedir el valor de cada una de las ventas realizadas en el mes. \n",
    "Después, calculará y mostrará el monto total que recibirá el vendedor, considerando tanto su salario base como las comisiones por las ventas realizadas en el período."
   ]
  },
  {
   "cell_type": "code",
   "execution_count": 14,
   "metadata": {},
   "outputs": [
    {
     "name": "stdout",
     "output_type": "stream",
     "text": [
      "La remuneración total es  110.0  dolares\n"
     ]
    }
   ],
   "source": [
    "salarioBase = float(input('Cuanto es el salario base en dolares '))\n",
    "totalVentas = float(input('Cuanto fue el total de las ventas '))\n",
    "salarioTotal = salarioBase + totalVentas*.1\n",
    "print('La remuneración total es ', salarioTotal, ' dolares')"
   ]
  },
  {
   "cell_type": "markdown",
   "metadata": {},
   "source": [
    "Complementario 2 COMO PUEDE HACERSE MAS FACIL\n",
    "Diseña un algoritmo que permita obtener el número invertido de un número de dos cifras. Ejemplo, si se introduce 23 que muestre 32."
   ]
  },
  {
   "cell_type": "code",
   "execution_count": 20,
   "metadata": {},
   "outputs": [
    {
     "name": "stdout",
     "output_type": "stream",
     "text": [
      "El número entero  1234  es  4321\n"
     ]
    }
   ],
   "source": [
    "# se trabaja como caracter para hacerlo mas facil pero ademas se hace usando slice de python [posicioninicial:posicionfinal:paso]\n",
    "# vale para todos los casos 1 o mas cifras\n",
    "numeroUsuario = input('Escribir un número entero de dos cifras ')\n",
    "print('El número entero ',numeroUsuario, ' es ',numeroUsuario[::-1])"
   ]
  },
  {
   "cell_type": "markdown",
   "metadata": {},
   "source": [
    "Complementario 3 \n",
    "A partir de una conocida cantidad de días que el usuario ingresa a través del teclado, \n",
    "escribe un programa para convertir los días en horas, en minutos y en segundos. \n",
    "Por ejemplo: 1 día = 24 horas = 1440 minutos = 86400 segundos."
   ]
  },
  {
   "cell_type": "code",
   "execution_count": 21,
   "metadata": {},
   "outputs": [
    {
     "name": "stdout",
     "output_type": "stream",
     "text": [
      "2.0  dias es equivalente a  48.0  horas\n",
      "2.0  dias es equivalente a  2880.0  minutos\n",
      "2.0  dias es equivalente a  172800.0  segundos\n"
     ]
    }
   ],
   "source": [
    "cantidadDias = float(input('Introduce la cantidad de dias '))\n",
    "enHoras = cantidadDias*24\n",
    "enMinutos = cantidadDias*24*60\n",
    "enSegundos = cantidadDias*24*60*60\n",
    "print(cantidadDias,' dias es equivalente a ',enHoras, ' horas')\n",
    "print(cantidadDias,' dias es equivalente a ',enMinutos, ' minutos')\n",
    "print(cantidadDias,' dias es equivalente a ',enSegundos, ' segundos')"
   ]
  },
  {
   "cell_type": "markdown",
   "metadata": {},
   "source": [
    "Complementario 5 \n",
    "Escribe un programa que permita calcular la edad de una persona en meses. \n",
    "Para ello, deberás solicitar la edad actual al usuario y realizar el cálculo correspondiente. \n",
    "Muestra en pantalla un mensaje con la equivalencia."
   ]
  },
  {
   "cell_type": "code",
   "execution_count": 22,
   "metadata": {},
   "outputs": [
    {
     "name": "stdout",
     "output_type": "stream",
     "text": [
      "10.0  años es equivalente a  120.0  meses\n"
     ]
    }
   ],
   "source": [
    "cantidadAnhos = float(input('Introduce la cantidad de años '))\n",
    "enMeses = cantidadAnhos*12\n",
    "print(cantidadAnhos,' años es equivalente a ',enMeses, ' meses')"
   ]
  }
 ],
 "metadata": {
  "kernelspec": {
   "display_name": "base",
   "language": "python",
   "name": "python3"
  },
  "language_info": {
   "codemirror_mode": {
    "name": "ipython",
    "version": 3
   },
   "file_extension": ".py",
   "mimetype": "text/x-python",
   "name": "python",
   "nbconvert_exporter": "python",
   "pygments_lexer": "ipython3",
   "version": "3.11.5"
  }
 },
 "nbformat": 4,
 "nbformat_minor": 2
}
