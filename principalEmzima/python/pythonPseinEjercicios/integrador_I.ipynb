{
 "cells": [
  {
   "cell_type": "markdown",
   "metadata": {},
   "source": [
    "actividad 1  \n",
    "1. Programa de Visualización de Números y Asteriscos:  \n",
    "Realiza un programa que lea cinco números enteros, cada uno comprendido entre 1 y 20, e imprima \n",
    "cada número seguido de una cantidad de asteriscos equivalente a su valor. Por ejemplo:  \n",
    "Para el número 5, imprimir: 5 *****  \n",
    "Para el número 3, imprimir: 3 ***  \n",
    "Para el número 11, imprimir: 11 ***********  \n",
    "Para el número 2, imprimir: 2 **  \t\t\n",
    "Para el número 9, imprimir: 9 *********"
   ]
  },
  {
   "cell_type": "code",
   "execution_count": 5,
   "metadata": {},
   "outputs": [
    {
     "name": "stdout",
     "output_type": "stream",
     "text": [
      "20 ********************\n",
      "19 *******************\n",
      "14 **************\n",
      "2 **\n",
      "6 ******\n"
     ]
    }
   ],
   "source": [
    "for i in range(5):\n",
    "    number = 0\n",
    "    while not number or number > 20:\n",
    "        number= int(input(f'Introduce un numero {i+1} '))\n",
    "    print(number,number*'*') "
   ]
  },
  {
   "cell_type": "markdown",
   "metadata": {},
   "source": [
    "actividad 2  \n",
    "2. Contador de Dígitos:  \n",
    "Escribe un programa que lea un número entero y devuelva la cantidad de dígitos que lo componen. Por ejemplo, \n",
    "si ingresamos el número 12345, el programa deberá devolver 5. Este cálculo se realizará utilizando operaciones \n",
    "matemáticas, teniendo en cuenta que las variables de tipo entero truncan los números o resultados."
   ]
  },
  {
   "cell_type": "code",
   "execution_count": 10,
   "metadata": {},
   "outputs": [
    {
     "name": "stdout",
     "output_type": "stream",
     "text": [
      "El numero 123456789 tiene 9 cifras\n"
     ]
    }
   ],
   "source": [
    "numeroEntry = int(input('Escribe un numero entero '))\n",
    "numeroEntryOrig = numeroEntry\n",
    "cantidadDigitos = 1\n",
    "while numeroEntry//10 :\n",
    "    numeroEntry /= 10\n",
    "    cantidadDigitos += 1\n",
    "\n",
    "print(f'El numero {numeroEntryOrig} tiene {cantidadDigitos} cifras')"
   ]
  },
  {
   "cell_type": "markdown",
   "metadata": {},
   "source": [
    "integrador\n",
    "Sistema de Reciclaje de Botellas Automático:\n",
    "  \n",
    "Se requiere desarrollar un sistema para una máquina de reciclaje de botellas que recompensará \n",
    "a los usuarios por la cantidad de plástico reciclado. El sistema solicitará a los usuarios \n",
    "que ingresen su nombre de usuario y contraseña para cargar el saldo correspondiente a su cuenta.\n",
    "  \t\t\n",
    "Condición Simple Anidada:  En esta estructura, se verificará inicialmente el nombre de usuario. \n",
    "Si el nombre de usuario coincide con \"Albus_D\", se procederá a validar la contraseña como \"caramelosDeLimon\". \n",
    "Si la contraseña es correcta, se establecerá la variable lógica \"Login\" como verdadera. \n",
    "En resumen, la variable \"Login\" solo se activará cuando tanto el nombre de usuario \n",
    "como la contraseña coincidan con los esperados.\n",
    "  \t\t\t\t\n",
    "Bucle Mientras: La validación de la contraseña se llevará a cabo dentro de un bucle Mientras,\n",
    "lo que permitirá al usuario tener un máximo de tres intentos para ingresar la contraseña correctamente.\n",
    "  \t\t\t\t\t\t\n",
    "Bucle Hacer Mientras (Repetir): Una vez que el inicio de sesión sea exitoso (es decir, cuando \n",
    "\"Login\" sea verdadero), el usuario podrá acceder al menú de opciones, que incluye:\n",
    "  \t\t\t\t\t\t\t\t\t\n",
    "\t\t1- Ingresar Botellas: Inicialmente,el usuario ingresará la cantidad de botellas a reciclar, y \n",
    "\t\tse generará un peso aleatorio para cada botella (entre 100 y 3000 gramos). Según el peso unitario, \n",
    "\t\tse asignará un valor monetario utilizando un condicional múltiple.\n",
    "  \t\t\t\t\t\t\t\t\t\t\n",
    "\t\t\tSi el peso es menos de 500 gr, corresponden $50\n",
    "  \t\n",
    "\t\t\tSi el peso es entre 501 gr y 1500 gr, corresponden $125 \n",
    "  \t\t\t\t\t\t\t\t\t\t\t\t\n",
    "\t\t\tSi el peso es más de 1501 gr, corresponden $200 \n",
    "  \t\t\t\t\t\t\t\t\t\t\t\t\t\n",
    "\t\tHecho esto, el programa debe informar al usuario por pantalla el valor que se le ofrece por el total \n",
    "\t\tde las botellas ingresadas. Si el usuario acepta, lo acreditamos a su saldo, si no se debe devolver \n",
    "\t\tel material (sólo mostrar en pantalla \"Devolviendo material\"). Para esto se debe utilizar un condicional doble. \n",
    "  \t\t\t\t\t\t\t\t\t\t\t\t\t\t\t\t\n",
    "\t\t2- Consultar Saldo: Se mostrará al usuario el valor monetario actual en su saldo,\n",
    "\t\ten una variable definida previamente que \"acumula\" dicho importe. .\n",
    "  \t\t\t\t\t\t\t\t\t\t\t\t\t\t\t\t\n",
    "\t\t3- Salir: Permitirá al usuario salir del sistema.\n",
    "  \t\t\t\t\t\t\t\t\t\t\t\t\t\t\t\t\n",
    "\t\t6. Finalización de Opciones: Después de completar las acciones de \"Ingresar Botellas\" \n",
    "\t\to \"Consultar Saldo\", el programa volverá al menú principal automáticamente.\n",
    "  \t\t\t\t\t\t\t\t\t\t\t\t\t\t\t\t\n",
    "\t\t7. Bucle Para (Incorporación opcional):El bucle Para se utilizará específicamente dentro de la\n",
    "\t\topción \"Ingresar Botellas\". Permitirá al usuario ingresar múltiples botellas en una misma sesión, si así lo desea.\n",
    "  \t\t\t\t\t\t\t\t\t\t\t\t\t\t\t\t\t\t\t\n",
    "Si lo desean, pueden incorporar alguna otra funcionalidad o validación que consideren que optimizará el funcionamiento de su sistema.  "
   ]
  },
  {
   "cell_type": "code",
   "execution_count": 22,
   "metadata": {},
   "outputs": [
    {
     "name": "stdout",
     "output_type": "stream",
     "text": [
      "Tome su dinero\n",
      "El saldo disponible es $ 0\n",
      "Menu \n",
      "1- Ingresar botellas \n",
      "2- Consultar saldo\n",
      "3- Retirar dinero\n",
      "4- Salir\n",
      "Hasta la vista baby\n",
      "Bye\n"
     ]
    }
   ],
   "source": [
    "from IPython.display import clear_output\n",
    "import random as rn\n",
    "\n",
    "control = 1\n",
    "saldo = rn.randint(100,3000)\n",
    "password_secret = 'a'\n",
    "is_login = False\n",
    "username = input('Escribe, tu nombre de usuario ')\n",
    "\n",
    "if username=='admin':\n",
    "    password = input(f'Escribe la clave, intento {control} ')\n",
    "    while password_secret!=password and control<3:\n",
    "        control += 1\n",
    "        password = input(f'Escribe la clave, intento {control} ')\n",
    "    if password_secret==password:\n",
    "        is_login = True\n",
    "        while is_login:\n",
    "            print('Menu ')\n",
    "            print('1- Ingresar botellas ')\n",
    "            print('2- Consultar saldo')\n",
    "            print('3- Retirar dinero')\n",
    "            print('4- Salir')\n",
    "            choice = input('Selecciona alguna de las opciones anteriores ')\n",
    "            match choice:\n",
    "                case '1':\n",
    "                    clear_output(wait=True)\n",
    "                    type_bottle = int(input(f'Cuantas tipos de botellas son '))\n",
    "                    for i in range(type_bottle):\n",
    "                        bottle = int(input(f'Cuantas botellas son del tipo {i}'))\n",
    "                        peso = rn.randint(100,3000)\n",
    "                        if peso<500:\n",
    "                            oferta = bottle*50\n",
    "                        elif peso>1501:\n",
    "                            oferta = bottle*200\n",
    "                        else:\n",
    "                            oferta = bottle*125\n",
    "                        print('La oferta por ', bottle, ' botellas es $', oferta, ', $', oferta/(bottle), ' por botella')\n",
    "                        acuerdo = input('Estas de acuerdo con esta oferta (S/N)')\n",
    "                        if acuerdo in ['S','s']:\n",
    "                            saldo += oferta\n",
    "                        else: \n",
    "                            print('Devolviendo el material')\n",
    "                case '2':\n",
    "                    clear_output(wait=True)\n",
    "                    print(f'El saldo es $ {saldo}')\n",
    "                case '3':\n",
    "                    clear_output(wait=True)\n",
    "                    salir = 'N'\n",
    "                    while salir not in ['S','s']:\n",
    "                        retiro = int(input(f'Cuanto desea retirar, recuerde que su saldo es $ {saldo}'))\n",
    "                        if retiro>saldo or retiro<0:\n",
    "                            print(f'Asi no se puede ejecutar el retiro boludo tu saldo es $ {saldo}')\n",
    "                        else:\n",
    "                            print('Tome su dinero')\n",
    "                            saldo -= retiro\n",
    "                        print(f'El saldo disponible es $ {saldo}')\n",
    "                        salir = input('Desea salir (S/N)')\n",
    "                case '4':\n",
    "                    is_login = False\n",
    "                    print('Hasta la vista baby')\n",
    "                case _:\n",
    "                    print('Che boludo entre lo que esta escrito')\n",
    "    else:\n",
    "        print('Sos un turro, te olvidaste la clave')\n",
    "        print('Bye boludx')\n",
    "else:\n",
    "    print('El nombre de usuario no corresponde')\n",
    "    print('Bye boludx')\n",
    "print('Bye')"
   ]
  }
 ],
 "metadata": {
  "kernelspec": {
   "display_name": "base",
   "language": "python",
   "name": "python3"
  },
  "language_info": {
   "codemirror_mode": {
    "name": "ipython",
    "version": 3
   },
   "file_extension": ".py",
   "mimetype": "text/x-python",
   "name": "python",
   "nbconvert_exporter": "python",
   "pygments_lexer": "ipython3",
   "version": "3.11.5"
  }
 },
 "nbformat": 4,
 "nbformat_minor": 2
}
