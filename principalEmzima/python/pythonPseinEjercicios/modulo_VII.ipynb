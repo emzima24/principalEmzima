{
 "cells": [
  {
   "cell_type": "markdown",
   "metadata": {},
   "source": [
    "Actividad 1\n",
    "Realiza un procedimiento que permita intercambiar el valor de dos variables de tipo entero. \n",
    "La variable A debe terminar con el valor de la variable B, y viceversa. Este cambio debe ser \n",
    "de forma permanente, es decir, los valores deben ser sobre escritos.  Recuerda nombrar y guardar tu algoritmo.\n",
    "  \n",
    "Nota: Ten presente el paso por referencia, el cual te permite modificar los valores de variables declaradas en el algoritmo principal"
   ]
  },
  {
   "cell_type": "code",
   "execution_count": 7,
   "metadata": {},
   "outputs": [
    {
     "name": "stdout",
     "output_type": "stream",
     "text": [
      "Originalmente la primera variable es  23  y la segunda variable es  654\n",
      "Si se intercambian la primera variable es ahora  654  y la segunda variable es  23\n"
     ]
    }
   ],
   "source": [
    "# Python no tiene subprocesos por definicion pero si pueden \n",
    "# no retornar valores y cambiar valores segun la voluntad del desarrollador\n",
    "# para ello se usa global dentro de la funcion para que quede claro que tome los valores \n",
    "# de codigo principal y si ocurren cambios los devuelva\n",
    " \n",
    "def intercambio():\n",
    "    global num1, num2\n",
    "    num1,num2 = num2,num1\n",
    "\n",
    "num1 = int(input('introduce un numero '))\n",
    "num2 = int(input('introduce otro numero '))\n",
    "print('Originalmente la primera variable es ', num1,' y la segunda variable es ', num2)\n",
    "intercambio()\n",
    "print('Si se intercambian la primera variable es ahora ', num1,' y la segunda variable es ', num2)"
   ]
  },
  {
   "cell_type": "markdown",
   "metadata": {},
   "source": [
    "Actividad 2\n",
    "Crea un procedimiento que calcule la temperatura media de un día a partir de la temperatura máxima \n",
    "y mínima. Luego, desarrolla un programa principal que, utilizando este procedimiento, solicite \n",
    "la temperatura máxima y mínima de n días y muestre la media de cada día. El programa pedirá al \n",
    "usuario el número de días a introducir. Recuerda nombrar y guardar tu algoritmo."
   ]
  },
  {
   "cell_type": "code",
   "execution_count": 13,
   "metadata": {},
   "outputs": [
    {
     "name": "stdout",
     "output_type": "stream",
     "text": [
      "Para la temperatura mínima de 23°C y máxima de 24°C. La media es de 23.5°C, el dia 1\n",
      "Para la temperatura mínima de 24°C y máxima de 25°C. La media es de 24.5°C, el dia 2\n"
     ]
    }
   ],
   "source": [
    "# como no trae ningun resultado global se convierte en un return\n",
    "# a la variable que ya existe en el codigo principal\n",
    "# fijate que le podes pasar parametros con la ventaja que no seran \n",
    "# modificados dentro del bloque de la funcion\n",
    "# recuerda que lo que sucede en la funcion queda en la funcion menos con return y con global\n",
    "def media(tempMinima, tempMaxima):\n",
    "    global tempMedia\n",
    "    tempMedia = (tempMaxima+tempMinima)/2\n",
    "\n",
    "cantidad = int(input('Escribe cantidad de dias'))\n",
    "for dia in range(cantidad):\n",
    "    tempMinima = int(input('Escribe la temperatura mínima'))\n",
    "    tempMaxima = int(input('Escribe la temperatura máxima'))\n",
    "    media(tempMinima, tempMaxima)\n",
    "    print(f'Para la temperatura mínima de {tempMinima}°C y máxima de {tempMaxima}°C. La media es de {tempMedia }°C, el dia {dia+1}')\n"
   ]
  },
  {
   "cell_type": "markdown",
   "metadata": {},
   "source": [
    "Actividad 3\n",
    "Realiza un procedimiento que permita realizar la división entre dos números y muestre el \n",
    "cociente y el residuo utilizando el método de restas sucesivas. Este método consiste en  \n",
    "restar el divisor del dividendo repetidamente hasta obtener un resultado menor que el divisor. \n",
    "El residuo será el resultado final y el número de restas realizadas será el cociente. Por ejemplo, para 50 / 13:\n",
    "  \n",
    "50 - 13 = 37 (una resta)  \n",
    "37 - 13 = 24 (dos restas)  \n",
    "24 - 13 = 11 (tres restas)  \n",
    "  \n",
    "Como 11 es menor que 13, el residuo es 11 y el cociente es 3. Recuerda nombrar y guardar tu algoritmo."
   ]
  },
  {
   "cell_type": "code",
   "execution_count": 14,
   "metadata": {},
   "outputs": [
    {
     "name": "stdout",
     "output_type": "stream",
     "text": [
      "El cociente es 3 el residuo es 11 el divisor es 13\n"
     ]
    }
   ],
   "source": [
    "def division(divisor, dividendo):\n",
    "    global isTodoOk, residuo,cociente\n",
    "    isTodoOk = False\n",
    "    count = 0\n",
    "    numTemp = dividendo\n",
    "    if divisor:\n",
    "        isTodoOk = True\n",
    "        if dividendo < divisor:\n",
    "            residuo = dividendo\n",
    "            cociente = count\n",
    "        else:\n",
    "            while numTemp >= divisor:\n",
    "                numTemp -= divisor\n",
    "                count += 1\n",
    "            residuo = numTemp\n",
    "            cociente = count\n",
    "\n",
    "divisor = int(input('Escribe numero divisor'))\n",
    "dividendo = int(input('Escribe numero dividendo'))\n",
    "division(divisor, dividendo)\n",
    "print(f'El cociente es {cociente} el residuo es {residuo} el divisor es {divisor}' if isTodoOk else  'El divisor es 0 no se puede hacer la division')"
   ]
  },
  {
   "cell_type": "markdown",
   "metadata": {},
   "source": [
    "Actividad 4\n",
    "Escribe un programa que procese una secuencia de caracteres ingresada por teclado y \n",
    "terminada en punto, y luego codifique la palabra o frase ingresada de la siguiente \n",
    "manera: cada vocal se reemplaza por un carácter según la tabla:  \n",
    "a -> @  \n",
    "e -> #  \n",
    "i -> $  \n",
    "o -> %  \n",
    "u -> *  \n",
    "Realiza un subprograma que reciba una secuencia de caracteres y retorne la codificación \n",
    "correspondiente, utilizando la estructura \"según\" para la transformación. Por ejemplo, \n",
    "si el usuario ingresa: \"Ayer, lunes, salimos a las once y 10.\", la salida del programa \n",
    "debería ser: \"@y#r, l*n#s, s@l$m%s @ l@s %nc# y 10.\" Considera repasar el uso de la función \n",
    "concatenar de PSeInt para armar la palabra/frase. Recuerda nombrar y guardar tu algoritmo."
   ]
  },
  {
   "cell_type": "code",
   "execution_count": 15,
   "metadata": {},
   "outputs": [
    {
     "name": "stdout",
     "output_type": "stream",
     "text": [
      "Con la frase (Ayer, lunes, salimos a las once y 10.) se codifica (@y#r, l*n#s, s@l$m%s @ l@s %nc# y 10.)\n"
     ]
    }
   ],
   "source": [
    "def codificacion(frase):\n",
    "    global fraseCodificada\n",
    "    frase = frase.lower()\n",
    "    fraseCodificada = ''\n",
    "    for letter in frase:\n",
    "        match letter:\n",
    "            case 'a':\n",
    "                fraseCodificada += '@'\n",
    "            case 'e':\n",
    "                fraseCodificada += '#'\n",
    "            case 'i':\n",
    "                fraseCodificada += '$'\n",
    "            case 'o':\n",
    "                fraseCodificada += '%'\n",
    "            case 'u':\n",
    "                fraseCodificada += '*'\n",
    "            case _:\n",
    "                fraseCodificada += letter\n",
    "\n",
    "frase = input('Escribe la frase ')\n",
    "codificacion(frase)\n",
    "print(f'Con la frase ({frase}) se codifica ({fraseCodificada})')"
   ]
  },
  {
   "cell_type": "code",
   "execution_count": 29,
   "metadata": {},
   "outputs": [
    {
     "name": "stdout",
     "output_type": "stream",
     "text": [
      "Con la frase (Ayer, lunes, salimos a las once y 10.) se codifica (@y#r, l*n#s, s@l$m%s @ l@s %nc# y 10.)\n"
     ]
    }
   ],
   "source": [
    "# usando un diccionario se puede resolver asi\n",
    "# el diccionario es una estructura un par clave:valor\n",
    "# que cada clave unica tiene un valor por relacionado \n",
    "\n",
    "dict_letter = {'a':'@','e':'#','i':'$','o':'%','u':'*'}\n",
    "def codificacion(frase):\n",
    "    global fraseCodificada\n",
    "    fraseCodificada = ''\n",
    "    for letter in frase.lower():                  # a traves de .values() trae los valores en forma de una lista\n",
    "        if letter in dict_letter.keys():   # a traves del metodo .keys() trae las claves en forma de una lista\n",
    "            fraseCodificada += dict_letter[letter]\n",
    "        else:\n",
    "            fraseCodificada += letter\n",
    "\n",
    "frase = input('Escribe la frase ')\n",
    "codificacion(frase)\n",
    "print(f'Con la frase ({frase}) se codifica ({fraseCodificada})')"
   ]
  },
  {
   "cell_type": "markdown",
   "metadata": {},
   "source": [
    "Actividad 5\n",
    "En esta actividad, el objetivo es escribir una función recursiva que calcule la suma de los primeros N enteros. \n",
    "El programa principal solicitará al usuario un número, y la función recursiva se encargará de calcular \n",
    "la suma hasta ese número de manera recursiva. Por ejemplo, si el usuario ingresa 5, \n",
    "el programa calculará la suma de 1 + 2 + 3 + 4 + 5 utilizando recursividad.\n",
    "Se define real porque es menos probable que se rompa en ejecucion en el ingreso de la variable\n",
    "Se define real porque es menos probable que se rompa en ejecucion en el ingreso de la variable y se mantiene para todos los casos por economia de codigo"
   ]
  },
  {
   "cell_type": "code",
   "execution_count": 17,
   "metadata": {},
   "outputs": [
    {
     "name": "stdout",
     "output_type": "stream",
     "text": [
      "La suma de todos los numeros hasta  5  es 15\n"
     ]
    }
   ],
   "source": [
    "def funcionSuma(numberEntry):\n",
    "    if not numberEntry:\n",
    "        sum = 0\n",
    "    else:        \n",
    "        sum = numberEntry + funcionSuma(numberEntry-1)\n",
    "    return sum\n",
    "\n",
    "numberEntry = int(input('Ingrese un número: '))\n",
    "        \n",
    "print(f'La suma de todos los numeros hasta  {numberEntry}  es {funcionSuma(numberEntry)}')"
   ]
  },
  {
   "cell_type": "markdown",
   "metadata": {},
   "source": [
    "Complementario 1\n",
    "Crea un procedimiento llamado \"convertirEspaciado\" que reciba como argumento un texto y \n",
    "muestre una cadena con un espacio adicional tras cada letra. Por ejemplo, \"Hola, tú\" debería \n",
    "devolver \"H o l a ,  t ú\". Desarrolla un programa principal que utilice este procedimiento."
   ]
  },
  {
   "cell_type": "code",
   "execution_count": 19,
   "metadata": {},
   "outputs": [
    {
     "name": "stdout",
     "output_type": "stream",
     "text": [
      "El texto como se solicito es : \"H o l a , t ú\"\n"
     ]
    }
   ],
   "source": [
    "def convertirEspaciado(textEntry):\n",
    "    global fraseEspaciado, textResult\n",
    "    textResult = ''\n",
    "    for letter in textEntry[:-1]:  # recorremos hasta la antepenultima letra para que no incluya un vacio al final de la ultima letra\n",
    "        if letter != ' ':\n",
    "            textResult += letter + ' ' # concatenamos las letras con el espacio\n",
    "    textResult += textEntry[-1]    # añadimos la ultima letra\n",
    "\n",
    "textEntry = input('Escribe una frase ')\n",
    "convertirEspaciado(textEntry)\n",
    "print(f'El texto como se solicito es : \"{textResult}\"')"
   ]
  },
  {
   "cell_type": "markdown",
   "metadata": {},
   "source": [
    "Complementario 2\n",
    "Realiza un subproceso que reciba una letra y muestre un mensaje si esa letra está \n",
    "entre las letras \"M\" y \"T\". Recuerda que PSeInt asigna un valor numérico a cada letra a través\n",
    "del Código ASCII, permitiendo el uso de operadores relacionales con letras y cadenas."
   ]
  },
  {
   "cell_type": "code",
   "execution_count": 24,
   "metadata": {},
   "outputs": [
    {
     "name": "stdout",
     "output_type": "stream",
     "text": [
      "La letra (u) NO se encuentra entre la M y la T\n"
     ]
    }
   ],
   "source": [
    "def entreMyT(letra):\n",
    "    global isTodoOk\n",
    "    isTodoOk = False\n",
    "    if 'm'<= letra.lower() <= 't':  # python tambien admite un orden alfabetico por comparadores logicos\n",
    "        isTodoOk = True\n",
    "        \n",
    "letra = input('\"Escribe una letra ')\n",
    "entreMyT(letra)\n",
    "print(f'La letra ({letra}) se encuentra entre la M y la T' if isTodoOk else  f'La letra ({letra}) NO se encuentra entre la M y la T')"
   ]
  },
  {
   "cell_type": "markdown",
   "metadata": {},
   "source": [
    "Complementario 3\n",
    "Crea un programa que dibuje una escalera de números, donde cada línea comience en uno y termine \n",
    "en el número de la línea. Solicita al usuario la altura de la escalera al comenzar. Ejemplo: si se ingresa el número 3:  \n",
    "1  \n",
    "12  \n",
    "123"
   ]
  },
  {
   "cell_type": "code",
   "execution_count": 26,
   "metadata": {},
   "outputs": [
    {
     "name": "stdout",
     "output_type": "stream",
     "text": [
      "1\n",
      "12\n",
      "123\n",
      "1234\n",
      "12345\n"
     ]
    }
   ],
   "source": [
    "def escalera(numberEntry):\n",
    "    figura = ''\n",
    "    if not numberEntry:  \n",
    "        print('Con 0 no hay escaleras boludo')\n",
    "    else:\n",
    "        for number in range(1,numberEntry+1):\n",
    "            figura += str(number)\n",
    "            print(figura)\n",
    "        \n",
    "numberEntry = int(input('Ingrese un número: '))\n",
    "escalera(numberEntry)\n"
   ]
  },
  {
   "cell_type": "markdown",
   "metadata": {},
   "source": [
    "Complementario 4\n",
    "Realiza un algoritmo que solicite al usuario una fecha y muestre en pantalla la fecha anterior. \n",
    "Para ello, utiliza un procedimiento llamado diaAnterior que reciba una fecha representada por \n",
    "tres enteros (día, mes y año) y retorne la fecha anterior. Asume que la fecha ingresada es válida. \n",
    "Realiza pruebas de escritorio para los valores: día=5, mes=10, año=2012 y día=1, mes=3, año=2004."
   ]
  },
  {
   "cell_type": "code",
   "execution_count": 122,
   "metadata": {},
   "outputs": [
    {
     "name": "stdout",
     "output_type": "stream",
     "text": [
      "La fecha anterior a la fecha 1/3/2004 es (29/2/2004)\n"
     ]
    }
   ],
   "source": [
    "list_days_month = [31,28,31,30,31,30,31,31,30,31,30,31]\n",
    "def isAnhoBisiesto(anho):\n",
    "    return True if anho>= 1952 and anho%4 == 0 and ((not anho%100) or anho%400) else False\n",
    "\n",
    "def fechaAnterior( dia,mes, anho ):\n",
    "    if not dia -1:\n",
    "        mes = 12 if not mes -1 else mes -1\n",
    "        anho = anho -1 if mes == 12 else anho\n",
    "        dia = list_days_month[mes-1]\n",
    "        dia = dia + 1 if mes == 2 and isAnhoBisiesto(2004) else dia \n",
    "    else:\n",
    "        dia -= 1 \n",
    "    return f'{dia}/{mes}/{anho}'\n",
    "\n",
    "dia =  int(input('Escribe la cantidad de dias '))\n",
    "mes =  int(input('Escribe el numero correspondiente al mes '))\n",
    "anho = int(input('Escribe el numero correspondiente al año '))\n",
    "\n",
    "if 1<=mes<=12: \n",
    "    print(f'La fecha anterior a la fecha {dia}/{mes}/{anho} es ({fechaAnterior( dia,mes, anho )})')\n",
    "else:\n",
    "    print('che, escribir el mes entre 1 y 12 no es tan dificil, en serio...')"
   ]
  },
  {
   "cell_type": "markdown",
   "metadata": {},
   "source": [
    "Complementario 5\n",
    "Diseña un procedimiento que reciba una frase y elimine todas las vocales repetidas. El procedimiento, en caso de encontrar una vocal repetida, mantendrá en la frase solamente la primera aparición y eliminará las siguientes. Al final, el procedimiento mostrará la frase resultante. Por ejemplo:\n",
    "  \n",
    "Entrada: \"Había una vez un barco\"\n",
    "Salida: \"Habi un vez n brco\"\n",
    "  \t\n",
    "Las vocales repetidas se marcan solo para explicar la consigna. \n",
    "Las vocales e, i y o, este caso, se conservan al no estar repetidas."
   ]
  },
  {
   "cell_type": "code",
   "execution_count": 69,
   "metadata": {},
   "outputs": [
    {
     "name": "stdout",
     "output_type": "stream",
     "text": [
      "Con la frase (Antes que sea tarde, un día. Había una vez un barco) se codifica (Antes qu s trd, n dí. Hbí n vz n brco)\n"
     ]
    }
   ],
   "source": [
    "dict_letter = {'a':0,'e':0,'i':0,'o':0,'u':0,'A':0,'E':0,'I':0,'O':0,'U':0}\n",
    "def codificacion(frase):\n",
    "    global fraseCodificada\n",
    "    fraseCodificada = ''\n",
    "    for letter in frase:\n",
    "        if letter in dict_letter.keys() or letter in dict_letter.keys():   \n",
    "            fraseCodificada += letter if dict_letter[letter.upper()] < 1 else '' \n",
    "            dict_letter[letter.upper()] = 1\n",
    "            dict_letter[letter.lower()] = 1\n",
    "        else:\n",
    "            fraseCodificada += letter\n",
    "\n",
    "\n",
    "frase = input('Escribe la frase ')\n",
    "codificacion(frase)\n",
    "print(f'Con la frase ({frase}) se codifica ({fraseCodificada})')"
   ]
  },
  {
   "cell_type": "markdown",
   "metadata": {},
   "source": [
    "Complementario 6\n",
    "Crea una función RECURSIVA que devuelva el término n de la sucesión de Fibonacci. \n",
    "La sucesión de Fibonacci es: 1, 1, 2, 3, 5, 8, 13, 21, 34, ... \n",
    "donde cada número se calcula sumando los dos anteriores. Por ejemplo:\n",
    "\n",
    "Fibonacci(0) = 0  \n",
    "Fibonacci(1) = 1  \n",
    "Fibonacci(2) = Fibonacci(1) + Fibonacci(0) = 1 + 0 = 1  \n",
    "Fibonacci(3) = Fibonacci(2) + Fibonacci(1) = 1 + 1 = 2  \n",
    "Fibonacci(4) = Fibonacci(3) + Fibonacci(2) = 2 + 1 = 3\n",
    "Fibonacci(5) = Fibonacci(4) + Fibonacci(3) = 3 + 2 = 5\n",
    "\n",
    "La sucesión de Fibonacci se define como:  \t\n",
    "Fibonacci(n) = Fibonacci(n-1) + Fibonacci(n-2) para todo n > 1  \n",
    "Fibonacci(n) = 1 para todo n <= 1  \n",
    "Crea una función que reciba el valor de n y calcule la serie hasta llegar a ese valor. Para más información sobre la sucesión de Fibonacci, consulte wikipedia"
   ]
  },
  {
   "cell_type": "code",
   "execution_count": 80,
   "metadata": {},
   "outputs": [
    {
     "name": "stdout",
     "output_type": "stream",
     "text": [
      "Con f(8) fibonacci  21\n"
     ]
    }
   ],
   "source": [
    "def fibonacci(numberEntry):\n",
    "    if not numberEntry:\n",
    "        return 0\n",
    "    else:\n",
    "        if numberEntry == 1 or numberEntry == 2:\n",
    "            return 1\n",
    "        else:\n",
    "            numberfibonacci = fibonacci(numberEntry-1) + fibonacci(numberEntry-2)\n",
    "            return numberfibonacci\n",
    "\n",
    "numberEntry = int(input('Introduce un número '))\n",
    "print(f'Con f({numberEntry}) fibonacci  {fibonacci(numberEntry)}')"
   ]
  },
  {
   "cell_type": "markdown",
   "metadata": {},
   "source": [
    "Complementario 7\n",
    "Implemente de forma recursiva una función que le dé la vuelta a una cadena de caracteres. \n",
    "NOTA: Si la cadena es un palíndromo, la cadena y su inversa coincidirán."
   ]
  },
  {
   "cell_type": "code",
   "execution_count": 102,
   "metadata": {},
   "outputs": [
    {
     "name": "stdout",
     "output_type": "stream",
     "text": [
      "La frase (casa) invertida es (asac)\n"
     ]
    }
   ],
   "source": [
    "def invertirFrase(frase,cantidadChar):\n",
    "    cantidadCharTemp = cantidadChar -1\n",
    "    fraseTemp = frase[:-1]\n",
    "    if cantidadChar<=0:\n",
    "        return ''\n",
    "    else:\n",
    "        return frase[cantidadCharTemp] + invertirFrase(fraseTemp,len(fraseTemp))\n",
    "    \n",
    "\n",
    "frase = input('Escribe la frase ')\n",
    "print(f'La frase ({frase}) invertida es ({invertirFrase(frase,len(frase))})')"
   ]
  },
  {
   "cell_type": "code",
   "execution_count": 107,
   "metadata": {},
   "outputs": [
    {
     "name": "stdout",
     "output_type": "stream",
     "text": [
      "La frase (prueba) invertida es (abeurp)\n"
     ]
    }
   ],
   "source": [
    "# no hace falta funciones para invertir las cadenas en python slice resuelve el tema\n",
    "# lo anterior es para practicar no mas\n",
    "\n",
    "frase = input('Escribe la frase ')\n",
    "print(f'La frase ({frase}) invertida es ({frase[::-1]})')"
   ]
  },
  {
   "cell_type": "markdown",
   "metadata": {},
   "source": [
    "Complementario 8\n",
    "Realizar una función que reciba un número ingresado por el usuario y averigüe si el número es \n",
    "capicúa o no (Por ejemplo: 12321). Nota: recordar el uso del MOD y el Trunc. \n",
    "No podemos transformar el número a cadena para realizar el ejercicio.\n"
   ]
  },
  {
   "cell_type": "code",
   "execution_count": 94,
   "metadata": {},
   "outputs": [
    {
     "name": "stdout",
     "output_type": "stream",
     "text": [
      "El numero 44744 es capicua\n"
     ]
    }
   ],
   "source": [
    "def invertir(cifra,cifraInvertida):\n",
    "    if not cifra:\n",
    "        return cifraInvertida\n",
    "    else:\n",
    "        return invertir(cifra//10,cifraInvertida*10 + cifra%10)\n",
    "\n",
    "def esCapicua(cifra):\n",
    "    cifraOrigen = cifra\n",
    "    cifraInvertida = 0\n",
    "    cifraInvertida = invertir(cifra,cifraInvertida)\n",
    "    return True if cifraInvertida == cifraOrigen else False  # insistir en el poder del operador ternario para realizar la operacion y dar la respuesta\n",
    "    \n",
    "\n",
    "cifra = int(input('Introduce un número '))\n",
    "print(f'El numero {cifra} es capicua'  if esCapicua(cifra) else f'El numero {cifra} NO es capicua')"
   ]
  },
  {
   "cell_type": "markdown",
   "metadata": {},
   "source": [
    "Complementario ANEXO NO FUE SOLICITADO PERO SE REFERENCIA CON LA VERSION \"NORMAL\" EN EL MODULO V noO4 factorialNumeros\n",
    "La función RECURSIVA factorial se aplica a números enteros positivos. El factorial de un número\n",
    "entero positivo (!n) es igual al producto de todos los enteros positivos desde 1 hasta n:\n",
    "  \n",
    "n! = 1 * 2 * 3 * 4 * 5 * ... * (n-1) * n.\n",
    "  \n",
    "Escribir un programa que calcule el factorial de todos los números enteros desde 1 hasta n\n"
   ]
  },
  {
   "cell_type": "code",
   "execution_count": 88,
   "metadata": {},
   "outputs": [
    {
     "name": "stdout",
     "output_type": "stream",
     "text": [
      "El factorial de 3 es 6\n"
     ]
    }
   ],
   "source": [
    "def funcionFactorial(numberEntry):\n",
    "    if numberEntry in [0,1]:\n",
    "        return 1\n",
    "    else:        \n",
    "        return numberEntry * funcionFactorial(numberEntry-1)\n",
    "\n",
    "numberEntry = int(input('Ingrese un número: '))\n",
    "        \n",
    "print(f'El factorial de {numberEntry} es {funcionFactorial(numberEntry)}')"
   ]
  }
 ],
 "metadata": {
  "kernelspec": {
   "display_name": "base",
   "language": "python",
   "name": "python3"
  },
  "language_info": {
   "codemirror_mode": {
    "name": "ipython",
    "version": 3
   },
   "file_extension": ".py",
   "mimetype": "text/x-python",
   "name": "python",
   "nbconvert_exporter": "python",
   "pygments_lexer": "ipython3",
   "version": "3.11.5"
  }
 },
 "nbformat": 4,
 "nbformat_minor": 2
}
