{
 "cells": [
  {
   "cell_type": "markdown",
   "metadata": {},
   "source": [
    "Actividad 1\n",
    "Realiza un procedimiento que permita intercambiar el valor de dos variables de tipo entero. \n",
    "La variable A debe terminar con el valor de la variable B, y viceversa. Este cambio debe ser \n",
    "de forma permanente, es decir, los valores deben ser sobre escritos.  Recuerda nombrar y guardar tu algoritmo.\n",
    "  \n",
    "Nota: Ten presente el paso por referencia, el cual te permite modificar los valores de variables declaradas en el algoritmo principal"
   ]
  },
  {
   "cell_type": "code",
   "execution_count": null,
   "metadata": {},
   "outputs": [],
   "source": []
  },
  {
   "cell_type": "markdown",
   "metadata": {},
   "source": [
    "Actividad 2\n",
    "Crea un procedimiento que calcule la temperatura media de un día a partir de la temperatura máxima \n",
    "y mínima. Luego, desarrolla un programa principal que, utilizando este procedimiento, solicite \n",
    "la temperatura máxima y mínima de n días y muestre la media de cada día. El programa pedirá al \n",
    "usuario el número de días a introducir. Recuerda nombrar y guardar tu algoritmo."
   ]
  },
  {
   "cell_type": "code",
   "execution_count": null,
   "metadata": {},
   "outputs": [],
   "source": []
  },
  {
   "cell_type": "markdown",
   "metadata": {},
   "source": [
    "Actividad 3\n",
    "Realiza un procedimiento que permita realizar la división entre dos números y muestre el \n",
    "cociente y el residuo utilizando el método de restas sucesivas. Este método consiste en  \n",
    "restar el divisor del dividendo repetidamente hasta obtener un resultado menor que el divisor. \n",
    "El residuo será el resultado final y el número de restas realizadas será el cociente. Por ejemplo, para 50 / 13:\n",
    "  \n",
    "50 - 13 = 37 (una resta)  \n",
    "37 - 13 = 24 (dos restas)  \n",
    "24 - 13 = 11 (tres restas)  \n",
    "  \n",
    "Como 11 es menor que 13, el residuo es 11 y el cociente es 3. Recuerda nombrar y guardar tu algoritmo."
   ]
  },
  {
   "cell_type": "code",
   "execution_count": null,
   "metadata": {},
   "outputs": [],
   "source": []
  },
  {
   "cell_type": "markdown",
   "metadata": {},
   "source": [
    "Actividad 4\n",
    "Escribe un programa que procese una secuencia de caracteres ingresada por teclado y \n",
    "terminada en punto, y luego codifique la palabra o frase ingresada de la siguiente \n",
    "manera: cada vocal se reemplaza por un carácter según la tabla:  \n",
    "a -> @  \n",
    "e -> #  \n",
    "i -> $  \n",
    "o -> %  \n",
    "u -> *  \n",
    "Realiza un subprograma que reciba una secuencia de caracteres y retorne la codificación \n",
    "correspondiente, utilizando la estructura \"según\" para la transformación. Por ejemplo, \n",
    "si el usuario ingresa: \"Ayer, lunes, salimos a las once y 10.\", la salida del programa \n",
    "debería ser: \"@y#r, l*n#s, s@l$m%s @ l@s %nc# y 10.\" Considera repasar el uso de la función \n",
    "concatenar de PSeInt para armar la palabra/frase. Recuerda nombrar y guardar tu algoritmo."
   ]
  },
  {
   "cell_type": "code",
   "execution_count": null,
   "metadata": {},
   "outputs": [],
   "source": []
  },
  {
   "cell_type": "markdown",
   "metadata": {},
   "source": [
    "Actividad 5\n",
    "En esta actividad, el objetivo es escribir una función recursiva que calcule la suma de los primeros N enteros. \n",
    "El programa principal solicitará al usuario un número, y la función recursiva se encargará de calcular \n",
    "la suma hasta ese número de manera recursiva. Por ejemplo, si el usuario ingresa 5, \n",
    "el programa calculará la suma de 1 + 2 + 3 + 4 + 5 utilizando recursividad.\n",
    "Se define real porque es menos probable que se rompa en ejecucion en el ingreso de la variable\n",
    "Se define real porque es menos probable que se rompa en ejecucion en el ingreso de la variable y se mantiene para todos los casos por economia de codigo"
   ]
  },
  {
   "cell_type": "code",
   "execution_count": null,
   "metadata": {},
   "outputs": [],
   "source": []
  },
  {
   "cell_type": "markdown",
   "metadata": {},
   "source": [
    "Complementario 1\n",
    "Crea un procedimiento llamado \"convertirEspaciado\" que reciba como argumento un texto y \n",
    "muestre una cadena con un espacio adicional tras cada letra. Por ejemplo, \"Hola, tú\" debería \n",
    "devolver \"H o l a , t ú\". Desarrolla un programa principal que utilice este procedimiento."
   ]
  },
  {
   "cell_type": "code",
   "execution_count": null,
   "metadata": {},
   "outputs": [],
   "source": []
  },
  {
   "cell_type": "markdown",
   "metadata": {},
   "source": [
    "Complementario 2\n",
    "Realiza un subproceso que reciba una letra y muestre un mensaje si esa letra está \n",
    "entre las letras \"M\" y \"T\". Recuerda que PSeInt asigna un valor numérico a cada letra a través\n",
    "del Código ASCII, permitiendo el uso de operadores relacionales con letras y cadenas."
   ]
  },
  {
   "cell_type": "code",
   "execution_count": null,
   "metadata": {},
   "outputs": [],
   "source": []
  },
  {
   "cell_type": "markdown",
   "metadata": {},
   "source": [
    "Complementario 3\n",
    "Crea un programa que dibuje una escalera de números, donde cada línea comience en uno y termine \n",
    "en el número de la línea. Solicita al usuario la altura de la escalera al comenzar. Ejemplo: si se ingresa el número 3:  \n",
    "1  \n",
    "12  \n",
    "123"
   ]
  },
  {
   "cell_type": "code",
   "execution_count": null,
   "metadata": {},
   "outputs": [],
   "source": []
  },
  {
   "cell_type": "markdown",
   "metadata": {},
   "source": [
    "Complementario 4\n",
    "Realiza un algoritmo que solicite al usuario una fecha y muestre en pantalla la fecha anterior. \n",
    "Para ello, utiliza un procedimiento llamado diaAnterior que reciba una fecha representada por \n",
    "tres enteros (día, mes y año) y retorne la fecha anterior. Asume que la fecha ingresada es válida. \n",
    "Realiza pruebas de escritorio para los valores: día=5, mes=10, año=2012 y día=1, mes=3, año=2004."
   ]
  },
  {
   "cell_type": "code",
   "execution_count": null,
   "metadata": {},
   "outputs": [],
   "source": []
  },
  {
   "cell_type": "markdown",
   "metadata": {},
   "source": [
    "Complementario 5\n",
    "Diseña un procedimiento que reciba una frase y elimine todas las vocales repetidas. El procedimiento, en caso de encontrar una vocal repetida, mantendrá en la frase solamente la primera aparición y eliminará las siguientes. Al final, el procedimiento mostrará la frase resultante. Por ejemplo:\n",
    "  \n",
    "Entrada: \"Había una vez un barco\"\n",
    "Salida: \"Habi un vez n brco\"\n",
    "  \t\n",
    "Las vocales repetidas se marcan solo para explicar la consigna. \n",
    "Las vocales e, i y o, este caso, se conservan al no estar repetidas."
   ]
  },
  {
   "cell_type": "code",
   "execution_count": null,
   "metadata": {},
   "outputs": [],
   "source": []
  },
  {
   "cell_type": "markdown",
   "metadata": {},
   "source": [
    "Complementario 5\n",
    "Crea una función RECURSIVA que devuelva el término n de la sucesión de Fibonacci. \n",
    "La sucesión de Fibonacci es: 1, 1, 2, 3, 5, 8, 13, 21, 34, ... \n",
    "donde cada número se calcula sumando los dos anteriores. Por ejemplo:\n",
    "\n",
    "Fibonacci(0) = 0  \n",
    "Fibonacci(1) = 1  \n",
    "Fibonacci(2) = Fibonacci(1) + Fibonacci(0) = 1 + 0 = 1  \n",
    "Fibonacci(3) = Fibonacci(2) + Fibonacci(1) = 1 + 1 = 2  \n",
    "Fibonacci(4) = Fibonacci(3) + Fibonacci(2) = 2 + 1 = 3\n",
    "Fibonacci(5) = Fibonacci(4) + Fibonacci(3) = 3 + 2 = 5\n",
    "\n",
    "La sucesión de Fibonacci se define como:  \t\n",
    "Fibonacci(n) = Fibonacci(n-1) + Fibonacci(n-2) para todo n > 1  \n",
    "Fibonacci(n) = 1 para todo n <= 1  \n",
    "Crea una función que reciba el valor de n y calcule la serie hasta llegar a ese valor. Para más información sobre la sucesión de Fibonacci, consulte wikipedia"
   ]
  },
  {
   "cell_type": "code",
   "execution_count": null,
   "metadata": {},
   "outputs": [],
   "source": []
  },
  {
   "cell_type": "markdown",
   "metadata": {},
   "source": [
    "Complementario 7\n",
    "Implemente de forma recursiva una función que le dé la vuelta a una cadena de caracteres. \n",
    "NOTA: Si la cadena es un palíndromo, la cadena y su inversa coincidirán."
   ]
  },
  {
   "cell_type": "code",
   "execution_count": null,
   "metadata": {},
   "outputs": [],
   "source": []
  },
  {
   "cell_type": "markdown",
   "metadata": {},
   "source": [
    "Complementario 8\n",
    "Realizar una función que reciba un número ingresado por el usuario y averigüe si el número es \n",
    "capicúa o no (Por ejemplo: 12321). Nota: recordar el uso del MOD y el Trunc. \n",
    "No podemos transformar el número a cadena para realizar el ejercicio.\n"
   ]
  },
  {
   "cell_type": "code",
   "execution_count": null,
   "metadata": {},
   "outputs": [],
   "source": []
  },
  {
   "cell_type": "markdown",
   "metadata": {},
   "source": [
    "Complementario ANEXO NO FUE SOLICITADO PERO SE REFERENCIA CON LA VERSION \"NORMAL\" EN EL MODULO V noO4 factorialNumeros\n",
    "La función RECURSIVA factorial se aplica a números enteros positivos. El factorial de un número\n",
    "entero positivo (!n) es igual al producto de todos los enteros positivos desde 1 hasta n:\n",
    "  \n",
    "n! = 1 * 2 * 3 * 4 * 5 * ... * (n-1) * n.\n",
    "  \n",
    "Escribir un programa que calcule el factorial de todos los números enteros desde 1 hasta n\n"
   ]
  },
  {
   "cell_type": "code",
   "execution_count": null,
   "metadata": {},
   "outputs": [],
   "source": []
  }
 ],
 "metadata": {
  "language_info": {
   "name": "python"
  }
 },
 "nbformat": 4,
 "nbformat_minor": 2
}
