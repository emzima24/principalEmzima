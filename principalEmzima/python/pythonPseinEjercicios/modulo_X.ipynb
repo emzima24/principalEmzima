{
 "cells": [
  {
   "cell_type": "markdown",
   "metadata": {},
   "source": [
    "Actividad 1\n",
    "Crea un programa que solicite al usuario ingresar 9 valores. Los valores ingresados deben ser almacenados en un único arreglo bidimensional (matriz).y debe mostrarlos posteriormente por pantalla. Sigue estos pasos:\n",
    "1. Declara el tipo de dato que almacenará la matriz.\n",
    "2. Define la dimensión del arreglo, en este caso, 3X3 (ya que precisamos almacenar 9 datos).\n",
    "3. Utiliza un bucle para recorrer el arreglo recién creado, posición por posición, y solicita \n",
    "al usuario que introduzca un dato. Puedes emplear una estructura de bucle \"Para\" para esta tarea.  \n",
    "Recuerda que necesitarás bucles anidados para recorrer cada fila y cada columna, \n",
    "siendo el bucle externo para las filas y el interno para las columnas."
   ]
  },
  {
   "cell_type": "markdown",
   "metadata": {},
   "source": [
    "una matriz en python es una lista de listas  \n",
    "en este ejmplo 3x3\n",
    "```python\n",
    "[\n",
    "    [0 1 2] # fila 0 con 3 columnas\n",
    "    [0 1 2] # fila 1 con 3 columnas\n",
    "    [0 1 2] # fila 2 con 3 columnas\n",
    "]\n",
    "```\n",
    "Hasta alli todo igual que antes este primer ejercicio lo vamos a resolver como se parece a pseint  \n",
    "pero en python hay librerias para manejar vectores (arreglos unidimensionales) y matrices(arreglos n dimensionales)  \n",
    "una y la principal que toma la lógica del cálculo de matrices es **numpy**... de alli se ha ampliado a librerias como  \n",
    "**pandas** dedicada al manejo de las dos dimensiones (es decir la tablas) no nos vamos a quemar el coco aprendiendo estas librerias  \n",
    "no es la idea pero si haremos uso de ellas para resolver estos ejercicios pero con el poder de python  \n",
    "Puedes si quieres construir los sistemas como los desarrollaste en pseint para practicar esta bien  \n",
    "pero el mundo python es una perdida de tiempo... lo mejor es pythonizar el codigo simplicar la vida pues "
   ]
  },
  {
   "cell_type": "code",
   "execution_count": 4,
   "metadata": {},
   "outputs": [
    {
     "name": "stdout",
     "output_type": "stream",
     "text": [
      "[10, 7, 49]\n",
      "[94, 77, 74]\n",
      "[58, 64, 15]\n"
     ]
    }
   ],
   "source": [
    "# para crear una matriz usaramos la list comprehensions \n",
    "# solo basta anidar una list dendtro de otra por ejemplo para crear las columnas\n",
    "# columnas = [rn.randint(0,100) for _ in range(3)] # te fijas que 3 en range son por las columnas \n",
    "# para crear las filas ahora habria que rellenar con las columnas anteriores algo como \n",
    "# filas = [columnas[i] for i in range(3)]\n",
    "# pero se puede hacer en una sola linea\n",
    "\n",
    "import random as rn\n",
    "matriz = [[rn.randint(0,100) for _ in range(3)] for _ in range(3)]\n",
    "print(*matriz,sep='\\n')\n",
    "\n",
    "# si quereremos que el usuario introduzca los numeros\n",
    "# matriz = [[int(input('Introduce un numero')) for _ in range(3)] for _ in range(3)]\n",
    "# si queremos que sean numeros reales\n",
    "# matriz = [[rn.uniform(0,100) for _ in range(3)] for _ in range(3)]\n",
    "# recuerda que tambien puedes imprimirlo asi\n",
    "# for fila in matriz:\n",
    "#     print(fila)"
   ]
  },
  {
   "cell_type": "code",
   "execution_count": 6,
   "metadata": {},
   "outputs": [
    {
     "name": "stdout",
     "output_type": "stream",
     "text": [
      "[[42 44  5]\n",
      " [92 67  7]\n",
      " [ 6 83 59]]\n"
     ]
    }
   ],
   "source": [
    "# como lo hace numpy\n",
    "import numpy as np\n",
    "matriz_np = np.random.randint(0,100, size=(3,3)) \n",
    "print(matriz_np)  # ya no necesitamos el desempaquetador y fijate que la muestra como esperamos\n",
    "\n",
    "# las librerias de python trabajan con POO y son clases \n",
    "# que luego instancian un objeto por ejemplo np o abajo pa (alias de pandas)\n",
    "# y ese objeto contiene metodos y atributos que vamos a usar \n",
    "# en este caso random.randint probablemente lo tomen de la libreria random\n",
    "# con el atributo size=(3,3) le indicamos la matriz 3x3"
   ]
  },
  {
   "cell_type": "code",
   "execution_count": 10,
   "metadata": {},
   "outputs": [
    {
     "data": {
      "text/html": [
       "<div>\n",
       "<style scoped>\n",
       "    .dataframe tbody tr th:only-of-type {\n",
       "        vertical-align: middle;\n",
       "    }\n",
       "\n",
       "    .dataframe tbody tr th {\n",
       "        vertical-align: top;\n",
       "    }\n",
       "\n",
       "    .dataframe thead th {\n",
       "        text-align: right;\n",
       "    }\n",
       "</style>\n",
       "<table border=\"1\" class=\"dataframe\">\n",
       "  <thead>\n",
       "    <tr style=\"text-align: right;\">\n",
       "      <th></th>\n",
       "      <th>0</th>\n",
       "      <th>1</th>\n",
       "      <th>2</th>\n",
       "    </tr>\n",
       "  </thead>\n",
       "  <tbody>\n",
       "    <tr>\n",
       "      <th>0</th>\n",
       "      <td>42</td>\n",
       "      <td>44</td>\n",
       "      <td>5</td>\n",
       "    </tr>\n",
       "    <tr>\n",
       "      <th>1</th>\n",
       "      <td>92</td>\n",
       "      <td>67</td>\n",
       "      <td>7</td>\n",
       "    </tr>\n",
       "    <tr>\n",
       "      <th>2</th>\n",
       "      <td>6</td>\n",
       "      <td>83</td>\n",
       "      <td>59</td>\n",
       "    </tr>\n",
       "  </tbody>\n",
       "</table>\n",
       "</div>"
      ],
      "text/plain": [
       "    0   1   2\n",
       "0  42  44   5\n",
       "1  92  67   7\n",
       "2   6  83  59"
      ]
     },
     "execution_count": 10,
     "metadata": {},
     "output_type": "execute_result"
    }
   ],
   "source": [
    "# como lo hace pandas\n",
    "# puede tomar datos de muchos lados pero ahora solo los tomaremos de numpy\n",
    "# la estructura de dots en pandas se llama dataframe\n",
    "import pandas as pd\n",
    "\n",
    "df = pd.DataFrame(matriz_np)\n",
    "df # ves el estilacho, y ademas podes ponerle nombre a las columnas como en las tablas pero no sera el caso\n",
    "# df = pd.DataFrame(matriz, columns=['Col1','Col2','Col3'])\n"
   ]
  },
  {
   "cell_type": "markdown",
   "metadata": {},
   "source": [
    "Actividad 2 \n",
    "Dada una matriz de tamaño n x m, donde n y m son valores \n",
    "ingresados por el usuario, se requiere implementar dos subprogramas:\n",
    "* El primer subprograma se encargará de llenar la matriz con números aleatorios.\n",
    "* El segundo subprograma calculará y mostrará la suma de todos los elementos de la matriz.\n",
    "Después de ejecutar ambos subprogramas, se mostrará la matriz \n",
    "generada junto con los resultados de la suma por pantalla."
   ]
  },
  {
   "cell_type": "code",
   "execution_count": 20,
   "metadata": {},
   "outputs": [
    {
     "name": "stdout",
     "output_type": "stream",
     "text": [
      "[71, 28, 87, 28, 71]\n",
      "[94, 1, 96, 0, 79]\n",
      "[78, 3, 24, 74, 94]\n",
      "[45, 31, 37, 25, 13]\n",
      "La suma de todos los elementos de la matriz 979\n"
     ]
    }
   ],
   "source": [
    "# como en pseint pero con list comprehension\n",
    "import random as rn\n",
    "filas = int(input('Introduce un numero de filas (n)'))\n",
    "columnas = int(input('Introduce un numero de columnas (m)'))\n",
    "matriz = [[rn.randint(0,100) for _ in range(columnas)] for _ in range(filas)]\n",
    "print(*matriz,sep='\\n')\n",
    "# para poder aplicar la funcion sum() debemos tener una lista simple\n",
    "suma_total = sum([number for lista in matriz for number in lista]) # como la list crompehensions recorriendo los numeros \n",
    "print(f'La suma de todos los elementos de la matriz {suma_total}')"
   ]
  },
  {
   "cell_type": "code",
   "execution_count": 95,
   "metadata": {},
   "outputs": [
    {
     "data": {
      "text/plain": [
       "979"
      ]
     },
     "execution_count": 95,
     "metadata": {},
     "output_type": "execute_result"
    }
   ],
   "source": [
    "# interesante es hacer la funcion suma recursiva\n",
    "def suma_recursiva(filas,columnas, i, j,matriz):\n",
    "    if not i:   # recuerda no olvides que cero es falso cuando i vale 0 not i es True\n",
    "        return 0\n",
    "    elif not j:\n",
    "        return suma_recursiva(filas,columnas, i-1,columnas,matriz)  # cambiamos la fila\n",
    "    else:\n",
    "        return matriz[i-1][j-1] + suma_recursiva(filas,columnas, i, j-1,matriz) # recorremos las columnas\n",
    "\n",
    "suma_recursiva(filas,columnas, filas, columnas,matriz)"
   ]
  },
  {
   "cell_type": "code",
   "execution_count": 26,
   "metadata": {},
   "outputs": [
    {
     "name": "stdout",
     "output_type": "stream",
     "text": [
      "[[22 30 93 28 99]\n",
      " [53 11 76 17 63]\n",
      " [39 62 66 89 27]\n",
      " [75 99 46 53 36]]\n"
     ]
    },
    {
     "data": {
      "text/plain": [
       "1084"
      ]
     },
     "execution_count": 26,
     "metadata": {},
     "output_type": "execute_result"
    }
   ],
   "source": [
    "# veamos numpy\n",
    "import numpy as np\n",
    "filas = int(input('Introduce un numero de filas (n)'))\n",
    "columnas = int(input('Introduce un numero de columnas (m)'))\n",
    "matriz_np = np.random.randint(0,100, size=(filas,columnas)) \n",
    "print(matriz_np)\n",
    "np.sum(matriz_np)"
   ]
  },
  {
   "cell_type": "code",
   "execution_count": 32,
   "metadata": {},
   "outputs": [
    {
     "data": {
      "text/html": [
       "<div>\n",
       "<style scoped>\n",
       "    .dataframe tbody tr th:only-of-type {\n",
       "        vertical-align: middle;\n",
       "    }\n",
       "\n",
       "    .dataframe tbody tr th {\n",
       "        vertical-align: top;\n",
       "    }\n",
       "\n",
       "    .dataframe thead th {\n",
       "        text-align: right;\n",
       "    }\n",
       "</style>\n",
       "<table border=\"1\" class=\"dataframe\">\n",
       "  <thead>\n",
       "    <tr style=\"text-align: right;\">\n",
       "      <th></th>\n",
       "      <th>0</th>\n",
       "      <th>1</th>\n",
       "      <th>2</th>\n",
       "      <th>3</th>\n",
       "      <th>4</th>\n",
       "    </tr>\n",
       "  </thead>\n",
       "  <tbody>\n",
       "    <tr>\n",
       "      <th>0</th>\n",
       "      <td>22</td>\n",
       "      <td>30</td>\n",
       "      <td>93</td>\n",
       "      <td>28</td>\n",
       "      <td>99</td>\n",
       "    </tr>\n",
       "    <tr>\n",
       "      <th>1</th>\n",
       "      <td>53</td>\n",
       "      <td>11</td>\n",
       "      <td>76</td>\n",
       "      <td>17</td>\n",
       "      <td>63</td>\n",
       "    </tr>\n",
       "    <tr>\n",
       "      <th>2</th>\n",
       "      <td>39</td>\n",
       "      <td>62</td>\n",
       "      <td>66</td>\n",
       "      <td>89</td>\n",
       "      <td>27</td>\n",
       "    </tr>\n",
       "    <tr>\n",
       "      <th>3</th>\n",
       "      <td>75</td>\n",
       "      <td>99</td>\n",
       "      <td>46</td>\n",
       "      <td>53</td>\n",
       "      <td>36</td>\n",
       "    </tr>\n",
       "  </tbody>\n",
       "</table>\n",
       "</div>"
      ],
      "text/plain": [
       "    0   1   2   3   4\n",
       "0  22  30  93  28  99\n",
       "1  53  11  76  17  63\n",
       "2  39  62  66  89  27\n",
       "3  75  99  46  53  36"
      ]
     },
     "metadata": {},
     "output_type": "display_data"
    },
    {
     "data": {
      "text/plain": [
       "1084"
      ]
     },
     "execution_count": 32,
     "metadata": {},
     "output_type": "execute_result"
    }
   ],
   "source": [
    "# veamos pandas\n",
    "import pandas as pd\n",
    "# df = pd.DataFrame(matriz) como habiamos comentado pandas todma datos de muchas partes inclusive de arreglos de tipo py \n",
    "df = pd.DataFrame(matriz_np)  # pero como es mas facil desde np los cosntruimos desde alli\n",
    "display(df) # la funcion display se usa en jupyter notebook para imprimir con el decorado de JS\n",
    "df.values.sum() # values es un metodo para agrupar los valores (es decir los datos, en un arreglo np) y luego operar matematicamente con el metodo sum y mostrar todo"
   ]
  },
  {
   "cell_type": "markdown",
   "metadata": {},
   "source": [
    "Actividad 3\n",
    "Crea un programa que cumpla con las siguientes condiciones:  \n",
    "* Define y dimensiona una matriz de 5x5 para almacenar datos numéricos enteros.\n",
    "* Rellena la matriz de manera aleatoria con números comprendidos entre 10 y 40.\n",
    "* Permite al usuario ingresar un número para buscarlo dentro de la matriz.\n",
    "* Si el número se encuentra, muestra en pantalla un mensaje adecuado junto \n",
    "con las coordenadas en la matriz (fila y columna). En caso de que el número \n",
    "esté repetido, solo se mostrará la posición de la primera ocurrencia.\n",
    "* Si el número no se encuentra, informa por pantalla."
   ]
  },
  {
   "cell_type": "code",
   "execution_count": 33,
   "metadata": {},
   "outputs": [
    {
     "data": {
      "text/html": [
       "<div>\n",
       "<style scoped>\n",
       "    .dataframe tbody tr th:only-of-type {\n",
       "        vertical-align: middle;\n",
       "    }\n",
       "\n",
       "    .dataframe tbody tr th {\n",
       "        vertical-align: top;\n",
       "    }\n",
       "\n",
       "    .dataframe thead th {\n",
       "        text-align: right;\n",
       "    }\n",
       "</style>\n",
       "<table border=\"1\" class=\"dataframe\">\n",
       "  <thead>\n",
       "    <tr style=\"text-align: right;\">\n",
       "      <th></th>\n",
       "      <th>0</th>\n",
       "      <th>1</th>\n",
       "      <th>2</th>\n",
       "      <th>3</th>\n",
       "      <th>4</th>\n",
       "    </tr>\n",
       "  </thead>\n",
       "  <tbody>\n",
       "    <tr>\n",
       "      <th>0</th>\n",
       "      <td>18</td>\n",
       "      <td>17</td>\n",
       "      <td>32</td>\n",
       "      <td>10</td>\n",
       "      <td>18</td>\n",
       "    </tr>\n",
       "    <tr>\n",
       "      <th>1</th>\n",
       "      <td>34</td>\n",
       "      <td>15</td>\n",
       "      <td>16</td>\n",
       "      <td>16</td>\n",
       "      <td>12</td>\n",
       "    </tr>\n",
       "    <tr>\n",
       "      <th>2</th>\n",
       "      <td>13</td>\n",
       "      <td>25</td>\n",
       "      <td>28</td>\n",
       "      <td>31</td>\n",
       "      <td>31</td>\n",
       "    </tr>\n",
       "    <tr>\n",
       "      <th>3</th>\n",
       "      <td>23</td>\n",
       "      <td>13</td>\n",
       "      <td>34</td>\n",
       "      <td>37</td>\n",
       "      <td>22</td>\n",
       "    </tr>\n",
       "    <tr>\n",
       "      <th>4</th>\n",
       "      <td>11</td>\n",
       "      <td>13</td>\n",
       "      <td>27</td>\n",
       "      <td>23</td>\n",
       "      <td>19</td>\n",
       "    </tr>\n",
       "  </tbody>\n",
       "</table>\n",
       "</div>"
      ],
      "text/plain": [
       "    0   1   2   3   4\n",
       "0  18  17  32  10  18\n",
       "1  34  15  16  16  12\n",
       "2  13  25  28  31  31\n",
       "3  23  13  34  37  22\n",
       "4  11  13  27  23  19"
      ]
     },
     "metadata": {},
     "output_type": "display_data"
    }
   ],
   "source": [
    "# en realidad al estar importado arriba ya no hace falta \n",
    "# te lo mostramos por costumbre pero no hace falta si ejecutaste una celda anterior \n",
    "# una de las ventajas de jupyter notebook es ejecuación celda a celda pero con integraciaon entre\n",
    "# celdas ejecutadas \n",
    "import numpy as np\n",
    "import pandas as pd  \n",
    "matriz_np = np.random.randint(10,40, size=(5,5))\n",
    "df = pd.DataFrame(matriz_np)\n",
    "display(df) "
   ]
  },
  {
   "cell_type": "code",
   "execution_count": 118,
   "metadata": {},
   "outputs": [
    {
     "name": "stdout",
     "output_type": "stream",
     "text": [
      "El numero 9 no esta dentro de la matriz\n"
     ]
    }
   ],
   "source": [
    "# es en esta parte donde explicaremos como hacer el contexto de busqueda\n",
    "number_search = int(input('Introduce un numero para buscar en la matriz'))\n",
    "# en pandas (heredado de np) existe la mascara de boleanos que no es mas\n",
    "# que como reacciona el dataframe ante el operador logico\n",
    "# como opera sobre cada valor obtenes la misma matriz n x m pero con puros True/False\n",
    "# dependiendo del resultado logico de la comparacion respectiva  \n",
    "# es decir df==number_search es una mascara de boelanos \n",
    "# con el metodo .any() se le pregunta si hay True si no tiene atributo axis por defaul es 0\n",
    "# es decir busca por columna, en cambio axis = 1 busca por las filas\n",
    "# al aplicarlo dos veces me dira si existe una vez al menos o no devuelve un boleano\n",
    "df_bolean = df==number_search\n",
    "if df_bolean.any().any():  # si existe en \n",
    "    posicion_fil_col = np.where(df_bolean)   # np.where() extrae las posiciones donde se encuentra\n",
    "    # como una lista de listas la primera lista son las fila en la primera posicion la primera ocurrencia [0][0] \n",
    "    # en la segunda lista son las columnas en la primera posicion la primera ocurrencia [1][0]\n",
    "    fila, columna = posicion_fil_col[0][0], posicion_fil_col[1][0] # aprovechas el concepto de tupla para asignar ambos valores  \n",
    "    print(f'El numero {number_search} esta dentro de la matriz (primera ocurrencia) en la fila {fila} y en la columna {columna}')\n",
    "else:\n",
    "    print(f'El numero {number_search} no esta dentro de la matriz')\n",
    "\n",
    "# ves como np y pd se unen constantemente? "
   ]
  },
  {
   "cell_type": "markdown",
   "metadata": {},
   "source": [
    "Complementario 1\n",
    "Se desea crear un programa que realice dos subprocesos:  \n",
    "* En el primer subproceso se rellenará una matriz cuadrada con números aleatorios, \n",
    "excepto en la diagonal principal, la cual estará compuesta por ceros. La dimensión \n",
    "de la matriz será elegida por el desarrollador mientras sea cuadrada.  \n",
    "* En el segundo subproceso se imprimirá la matriz resultante.\n",
    "Después de ejecutar ambos subprocesos, se mostrará la matriz generada por pantalla. "
   ]
  },
  {
   "cell_type": "code",
   "execution_count": 119,
   "metadata": {},
   "outputs": [
    {
     "data": {
      "text/html": [
       "<div>\n",
       "<style scoped>\n",
       "    .dataframe tbody tr th:only-of-type {\n",
       "        vertical-align: middle;\n",
       "    }\n",
       "\n",
       "    .dataframe tbody tr th {\n",
       "        vertical-align: top;\n",
       "    }\n",
       "\n",
       "    .dataframe thead th {\n",
       "        text-align: right;\n",
       "    }\n",
       "</style>\n",
       "<table border=\"1\" class=\"dataframe\">\n",
       "  <thead>\n",
       "    <tr style=\"text-align: right;\">\n",
       "      <th></th>\n",
       "      <th>0</th>\n",
       "      <th>1</th>\n",
       "      <th>2</th>\n",
       "      <th>3</th>\n",
       "    </tr>\n",
       "  </thead>\n",
       "  <tbody>\n",
       "    <tr>\n",
       "      <th>0</th>\n",
       "      <td>0</td>\n",
       "      <td>76</td>\n",
       "      <td>74</td>\n",
       "      <td>73</td>\n",
       "    </tr>\n",
       "    <tr>\n",
       "      <th>1</th>\n",
       "      <td>78</td>\n",
       "      <td>0</td>\n",
       "      <td>39</td>\n",
       "      <td>10</td>\n",
       "    </tr>\n",
       "    <tr>\n",
       "      <th>2</th>\n",
       "      <td>48</td>\n",
       "      <td>64</td>\n",
       "      <td>0</td>\n",
       "      <td>76</td>\n",
       "    </tr>\n",
       "    <tr>\n",
       "      <th>3</th>\n",
       "      <td>75</td>\n",
       "      <td>40</td>\n",
       "      <td>19</td>\n",
       "      <td>0</td>\n",
       "    </tr>\n",
       "  </tbody>\n",
       "</table>\n",
       "</div>"
      ],
      "text/plain": [
       "    0   1   2   3\n",
       "0   0  76  74  73\n",
       "1  78   0  39  10\n",
       "2  48  64   0  76\n",
       "3  75  40  19   0"
      ]
     },
     "metadata": {},
     "output_type": "display_data"
    }
   ],
   "source": [
    "# recuerda que nos ahorramos los subprocesos o las funciones \n",
    "filas_columnas = int(input('Introduce un numero de filas y columnas (sera cuadrada la matriz)'))\n",
    "matriz_np = np.random.randint(1,100, size=(filas_columnas,filas_columnas))\n",
    "np.fill_diagonal(matriz_np,0) # con este metodo rellenamos la diagonal prinicial de una matriz con 0 ambos atributos en ese orden \n",
    "df = pd.DataFrame(matriz_np)\n",
    "display(df) "
   ]
  },
  {
   "cell_type": "markdown",
   "metadata": {},
   "source": [
    "Complementario 2\n",
    "Desarrolla un programa para rellenar una matriz de tamaño 3 x 3 con \n",
    "los caracteres de una palabra de longitud 9 proporcionada por el usuario, \n",
    "asegurando que la palabra se muestre de manera continua en la matriz.\n",
    "\n",
    "Primero, se debe validar que la palabra ingresada por el usuario tenga \n",
    "exactamente 9 caracteres. Luego, se insertará un carácter en cada posición \n",
    "de la matriz. Finalmente, se imprimirá la matriz rellenada por pantalla.\n",
    "\n",
    "Por ejemplo, si el usuario ingresa la palabra \"habilidad\", la matriz resultante se vería así:  \n",
    "X   0\t1\t2  \n",
    "0\tH\tA\tB  \n",
    "1\tI\tL\tI  \n",
    "2\tD\tA\tD  \n",
    "Una explicación en forma visual de la resolución se puede ver en  \n",
    "https:docs.google.com/spreadsheets/d/1XZUC2BzjYaTDcOBipbDeZIlfXTtfCCvNFRDJzELJEUg/edit?gid=1944097503#gid=1944097503&range=B2:J16"
   ]
  },
  {
   "cell_type": "code",
   "execution_count": 12,
   "metadata": {},
   "outputs": [
    {
     "data": {
      "text/html": [
       "<div>\n",
       "<style scoped>\n",
       "    .dataframe tbody tr th:only-of-type {\n",
       "        vertical-align: middle;\n",
       "    }\n",
       "\n",
       "    .dataframe tbody tr th {\n",
       "        vertical-align: top;\n",
       "    }\n",
       "\n",
       "    .dataframe thead th {\n",
       "        text-align: right;\n",
       "    }\n",
       "</style>\n",
       "<table border=\"1\" class=\"dataframe\">\n",
       "  <thead>\n",
       "    <tr style=\"text-align: right;\">\n",
       "      <th></th>\n",
       "      <th>0</th>\n",
       "      <th>1</th>\n",
       "      <th>2</th>\n",
       "    </tr>\n",
       "  </thead>\n",
       "  <tbody>\n",
       "    <tr>\n",
       "      <th>0</th>\n",
       "      <td>h</td>\n",
       "      <td>a</td>\n",
       "      <td>b</td>\n",
       "    </tr>\n",
       "    <tr>\n",
       "      <th>1</th>\n",
       "      <td>i</td>\n",
       "      <td>l</td>\n",
       "      <td>i</td>\n",
       "    </tr>\n",
       "    <tr>\n",
       "      <th>2</th>\n",
       "      <td>d</td>\n",
       "      <td>a</td>\n",
       "      <td>d</td>\n",
       "    </tr>\n",
       "  </tbody>\n",
       "</table>\n",
       "</div>"
      ],
      "text/plain": [
       "   0  1  2\n",
       "0  h  a  b\n",
       "1  i  l  i\n",
       "2  d  a  d"
      ]
     },
     "execution_count": 12,
     "metadata": {},
     "output_type": "execute_result"
    }
   ],
   "source": [
    "# con pandas luego de crear una list comprehension la matriz requerida\n",
    "# no necesito la funcion, podes practicarla para tu experiencia personal pero no con python\n",
    "import numpy as np\n",
    "import pandas as pd\n",
    "\n",
    "palabra = ''\n",
    "while len(palabra) != 9:\n",
    "    palabra = input('Introduce una palabra de 9 letras')\n",
    "\n",
    "matriz_palabra =  [[palabra[i*3+j] for j in range(3)] for i in range(3) ] \n",
    "df = pd.DataFrame(matriz_palabra) # como dijimos antes recuerda que puedo ir directo de un arreglo de py a dataframe de pandas\n",
    "df  \n"
   ]
  },
  {
   "cell_type": "code",
   "execution_count": 19,
   "metadata": {},
   "outputs": [
    {
     "data": {
      "text/html": [
       "<div>\n",
       "<style scoped>\n",
       "    .dataframe tbody tr th:only-of-type {\n",
       "        vertical-align: middle;\n",
       "    }\n",
       "\n",
       "    .dataframe tbody tr th {\n",
       "        vertical-align: top;\n",
       "    }\n",
       "\n",
       "    .dataframe thead th {\n",
       "        text-align: right;\n",
       "    }\n",
       "</style>\n",
       "<table border=\"1\" class=\"dataframe\">\n",
       "  <thead>\n",
       "    <tr style=\"text-align: right;\">\n",
       "      <th></th>\n",
       "      <th>0</th>\n",
       "      <th>1</th>\n",
       "      <th>2</th>\n",
       "    </tr>\n",
       "  </thead>\n",
       "  <tbody>\n",
       "    <tr>\n",
       "      <th>0</th>\n",
       "      <td>h</td>\n",
       "      <td>a</td>\n",
       "      <td>b</td>\n",
       "    </tr>\n",
       "    <tr>\n",
       "      <th>1</th>\n",
       "      <td>i</td>\n",
       "      <td>l</td>\n",
       "      <td>i</td>\n",
       "    </tr>\n",
       "    <tr>\n",
       "      <th>2</th>\n",
       "      <td>d</td>\n",
       "      <td>a</td>\n",
       "      <td>d</td>\n",
       "    </tr>\n",
       "  </tbody>\n",
       "</table>\n",
       "</div>"
      ],
      "text/plain": [
       "   0  1  2\n",
       "0  h  a  b\n",
       "1  i  l  i\n",
       "2  d  a  d"
      ]
     },
     "execution_count": 19,
     "metadata": {},
     "output_type": "execute_result"
    }
   ],
   "source": [
    "palabra = ''\n",
    "while len(palabra) != 9:\n",
    "    palabra = input('Introduce una palabra de 9 letras')\n",
    "arreglo_palabra = [letra for letra in palabra]    # igual tenemos que generar el arreglo de cada letra de la palabra\n",
    "matriz_palabra =  np.array(arreglo_palabra).reshape(3,3) # con reshape(fila, columna) se convierte de  arreglo unidimensional a matriz \n",
    "df = pd.DataFrame(matriz_palabra)\n",
    "df\n",
    "# en la reconversion de arreglos recordemos que matematicamente todo arreglo unidemensional de 9 elementos (por ejemplo)\n",
    "# se puede convertir en 3x3 o cualquier relacion que sea como resultante 9 en este caso las otras son 1x9 o 9x1 \n",
    "# otro ejemplo una matriz 4x4 puede reconvertirse en 1x16, 16x1,8x2,8x2  "
   ]
  },
  {
   "cell_type": "markdown",
   "metadata": {},
   "source": [
    "Complementario 3\n",
    "Un ejemplo de una matriz mágica es una matriz cuadrada, donde el número de filas es igual al número de columnas, \n",
    "y que tiene la propiedad especial de que la suma de sus filas, columnas y diagonales es igual. Por ejemplo:  \n",
    "X   0\t1\t2  \n",
    "0\t2\t7\t6  \n",
    "1\t9\t5\t1  \n",
    "2\t4\t3\t8  \n",
    "En el ejemplo dado, las sumas siempre dan como resultado 15. Se plantea el problema de construir un algoritmo que \n",
    "verifique si una matriz de datos enteros es mágica o no. En caso de serlo, el programa debe escribir la suma total. \n",
    "Además, el programa debe validar que los números introducidos estén en el rango de 1 a 9. \n",
    "El usuario define el tamaño de la matriz, que no debe exceder un orden de 10.\n",
    "Una explicación en forma visual de la resolución se puede ver en  \n",
    "https:docs.google.com/spreadsheets/d/1XZUC2BzjYaTDcOBipbDeZIlfXTtfCCvNFRDJzELJEUg/edit?gid=1514302018#gid=1514302018&range=C2:L15"
   ]
  },
  {
   "cell_type": "code",
   "execution_count": 109,
   "metadata": {},
   "outputs": [
    {
     "name": "stdout",
     "output_type": "stream",
     "text": [
      "Opciones\n",
      "(1) tamaño decidido por el usuario \n",
      "(2) un 3x3 relleno automatico\n",
      "********************\n"
     ]
    },
    {
     "data": {
      "text/html": [
       "<div>\n",
       "<style scoped>\n",
       "    .dataframe tbody tr th:only-of-type {\n",
       "        vertical-align: middle;\n",
       "    }\n",
       "\n",
       "    .dataframe tbody tr th {\n",
       "        vertical-align: top;\n",
       "    }\n",
       "\n",
       "    .dataframe thead th {\n",
       "        text-align: right;\n",
       "    }\n",
       "</style>\n",
       "<table border=\"1\" class=\"dataframe\">\n",
       "  <thead>\n",
       "    <tr style=\"text-align: right;\">\n",
       "      <th></th>\n",
       "      <th>0</th>\n",
       "      <th>1</th>\n",
       "    </tr>\n",
       "  </thead>\n",
       "  <tbody>\n",
       "    <tr>\n",
       "      <th>0</th>\n",
       "      <td>2</td>\n",
       "      <td>6</td>\n",
       "    </tr>\n",
       "    <tr>\n",
       "      <th>1</th>\n",
       "      <td>1</td>\n",
       "      <td>5</td>\n",
       "    </tr>\n",
       "  </tbody>\n",
       "</table>\n",
       "</div>"
      ],
      "text/plain": [
       "   0  1\n",
       "0  2  6\n",
       "1  1  5"
      ]
     },
     "metadata": {},
     "output_type": "display_data"
    },
    {
     "name": "stdout",
     "output_type": "stream",
     "text": [
      "********************\n",
      "Es magica 14\n"
     ]
    }
   ],
   "source": [
    "import numpy as np\n",
    "import pandas as pd\n",
    "import random as rn\n",
    "print('Opciones')\n",
    "print('(1) tamaño decidido por el usuario ')\n",
    "print('(2) un 3x3 relleno automatico')\n",
    "choice = input('Introduce la opcion')\n",
    "if choice == '1':\n",
    "    filas_columnas = 0\n",
    "    while 2>filas_columnas or filas_columnas>10:\n",
    "        filas_columnas = int(input('Introduce un numero de filas y columnas (sera cuadrada la matriz minimo 2 maximo 10)'))\n",
    "    matriz_np = np.random.randint(1,9, size=(filas_columnas,filas_columnas))\n",
    "else:\n",
    "    lista_numeros = list(range(1,10)) \n",
    "    rn.shuffle(lista_numeros)\n",
    "    matriz_np = np.array(lista_numeros).reshape(3,3)\n",
    "print('*'*20)\n",
    "df = pd.DataFrame(matriz_np)\n",
    "display(df)\n",
    "print('*'*20)\n",
    "suma_columnas = df.sum(axis=0) # para las columnas axis = 0 o no se indica\n",
    "suma_filas = df.sum(axis=1) # recuerdas axis en sum define sumar filas (axis = 1) sino se coloca es 0 por default\n",
    "df.values.trace()  # suma la diagonal prinicipal\n",
    "df.values[::-1].trace() \n",
    "if df.values.trace() == df.values[::-1].trace():\n",
    "    if df.values.trace() == df.values[::-1].trace():\n",
    "        print('Es magica', df.values.sum())\n",
    "    else:\n",
    "        print('No es magica, pero las diagonales suman lo mismo')\n",
    "else:\n",
    "    print('No es magica')"
   ]
  },
  {
   "cell_type": "markdown",
   "metadata": {},
   "source": [
    "adicional el reto del corazon\n",
    "Construi un corazon con los caracteres como se muestra a continuacion\n",
    "```python  \n",
    "6666   9999  \n",
    "66666 99999  \n",
    " 666609999  \n",
    "  6660999   \n",
    "   66099    \n",
    "    609     \n",
    "     0     \n",
    "```"
   ]
  },
  {
   "cell_type": "code",
   "execution_count": 147,
   "metadata": {},
   "outputs": [
    {
     "name": "stdout",
     "output_type": "stream",
     "text": [
      "6666   9999\n",
      "66666 99999\n",
      " 666609999 \n",
      "  6660999  \n",
      "   66099   \n",
      "    609    \n",
      "     0     \n"
     ]
    },
    {
     "data": {
      "text/html": [
       "<div>\n",
       "<style scoped>\n",
       "    .dataframe tbody tr th:only-of-type {\n",
       "        vertical-align: middle;\n",
       "    }\n",
       "\n",
       "    .dataframe tbody tr th {\n",
       "        vertical-align: top;\n",
       "    }\n",
       "\n",
       "    .dataframe thead th {\n",
       "        text-align: right;\n",
       "    }\n",
       "</style>\n",
       "<table border=\"1\" class=\"dataframe\">\n",
       "  <thead>\n",
       "    <tr style=\"text-align: right;\">\n",
       "      <th></th>\n",
       "      <th>E</th>\n",
       "      <th>L</th>\n",
       "      <th>C</th>\n",
       "      <th>O</th>\n",
       "      <th>R</th>\n",
       "      <th>A</th>\n",
       "      <th>Z</th>\n",
       "      <th>Ó</th>\n",
       "      <th>N</th>\n",
       "      <th>P</th>\n",
       "      <th>Y</th>\n",
       "    </tr>\n",
       "  </thead>\n",
       "  <tbody>\n",
       "    <tr>\n",
       "      <th>0</th>\n",
       "      <td>6</td>\n",
       "      <td>6</td>\n",
       "      <td>6</td>\n",
       "      <td>6</td>\n",
       "      <td></td>\n",
       "      <td></td>\n",
       "      <td></td>\n",
       "      <td>9</td>\n",
       "      <td>9</td>\n",
       "      <td>9</td>\n",
       "      <td>9</td>\n",
       "    </tr>\n",
       "    <tr>\n",
       "      <th>1</th>\n",
       "      <td>6</td>\n",
       "      <td>6</td>\n",
       "      <td>6</td>\n",
       "      <td>6</td>\n",
       "      <td>6</td>\n",
       "      <td></td>\n",
       "      <td>9</td>\n",
       "      <td>9</td>\n",
       "      <td>9</td>\n",
       "      <td>9</td>\n",
       "      <td>9</td>\n",
       "    </tr>\n",
       "    <tr>\n",
       "      <th>2</th>\n",
       "      <td></td>\n",
       "      <td>6</td>\n",
       "      <td>6</td>\n",
       "      <td>6</td>\n",
       "      <td>6</td>\n",
       "      <td>0</td>\n",
       "      <td>9</td>\n",
       "      <td>9</td>\n",
       "      <td>9</td>\n",
       "      <td>9</td>\n",
       "      <td></td>\n",
       "    </tr>\n",
       "    <tr>\n",
       "      <th>3</th>\n",
       "      <td></td>\n",
       "      <td></td>\n",
       "      <td>6</td>\n",
       "      <td>6</td>\n",
       "      <td>6</td>\n",
       "      <td>0</td>\n",
       "      <td>9</td>\n",
       "      <td>9</td>\n",
       "      <td>9</td>\n",
       "      <td></td>\n",
       "      <td></td>\n",
       "    </tr>\n",
       "    <tr>\n",
       "      <th>4</th>\n",
       "      <td></td>\n",
       "      <td></td>\n",
       "      <td></td>\n",
       "      <td>6</td>\n",
       "      <td>6</td>\n",
       "      <td>0</td>\n",
       "      <td>9</td>\n",
       "      <td>9</td>\n",
       "      <td></td>\n",
       "      <td></td>\n",
       "      <td></td>\n",
       "    </tr>\n",
       "    <tr>\n",
       "      <th>5</th>\n",
       "      <td></td>\n",
       "      <td></td>\n",
       "      <td></td>\n",
       "      <td></td>\n",
       "      <td>6</td>\n",
       "      <td>0</td>\n",
       "      <td>9</td>\n",
       "      <td></td>\n",
       "      <td></td>\n",
       "      <td></td>\n",
       "      <td></td>\n",
       "    </tr>\n",
       "    <tr>\n",
       "      <th>6</th>\n",
       "      <td></td>\n",
       "      <td></td>\n",
       "      <td></td>\n",
       "      <td></td>\n",
       "      <td></td>\n",
       "      <td>0</td>\n",
       "      <td></td>\n",
       "      <td></td>\n",
       "      <td></td>\n",
       "      <td></td>\n",
       "      <td></td>\n",
       "    </tr>\n",
       "  </tbody>\n",
       "</table>\n",
       "</div>"
      ],
      "text/plain": [
       "   E  L  C  O  R  A  Z  Ó  N  P  Y\n",
       "0  6  6  6  6           9  9  9  9\n",
       "1  6  6  6  6  6     9  9  9  9  9\n",
       "2     6  6  6  6  0  9  9  9  9   \n",
       "3        6  6  6  0  9  9  9      \n",
       "4           6  6  0  9  9         \n",
       "5              6  0  9            \n",
       "6                 0               "
      ]
     },
     "execution_count": 147,
     "metadata": {},
     "output_type": "execute_result"
    }
   ],
   "source": [
    "def cada_linea(ini,top, ini2, top2,i):\n",
    "    # global fila           # se puede resolver con global fila pero hay que eliminar el return al final \n",
    "    fila=[]\n",
    "    for j in range(11):\n",
    "        if ini<=j<=top:\n",
    "            print(6,end='')\n",
    "            fila.append(6)\n",
    "        elif j==5 and i>=2:\n",
    "            print(0,end='')\n",
    "            fila.append(0)\n",
    "        elif not (ini2<=j<=top2):\n",
    "            print(' ',end='')\n",
    "            fila.append(' ')\n",
    "        else:\n",
    "            print(9,end='')\n",
    "            fila.append(9)\n",
    "    print()\n",
    "    return fila\n",
    "\n",
    "arreglo6ini = [0,*range(0,6)]          # fijate como usamos el desempaquetado de range\n",
    "arreglo6top = [3,*[4]*6]               # o en este caso donde se desempaqueta luego de sextuplicar el arreglo [4]\n",
    "arreglo9top = [10,*range(10,4,-1)]\n",
    "arreglo9ini = [*range(7,5,-1),*range(6,3,-1),4,10]\n",
    "matriz = []\n",
    "\n",
    "for i in range(7):\n",
    "    fila = cada_linea(arreglo6ini[i],arreglo6top[i],arreglo9ini[i],arreglo9top[i],i)\n",
    "    matriz.append(fila)\n",
    "\n",
    "df = pd.DataFrame(matriz,columns=['E','L','C','O','R','A','Z','Ó','N','P','Y'])\n",
    "df"
   ]
  }
 ],
 "metadata": {
  "kernelspec": {
   "display_name": "base",
   "language": "python",
   "name": "python3"
  },
  "language_info": {
   "codemirror_mode": {
    "name": "ipython",
    "version": 3
   },
   "file_extension": ".py",
   "mimetype": "text/x-python",
   "name": "python",
   "nbconvert_exporter": "python",
   "pygments_lexer": "ipython3",
   "version": "3.11.5"
  }
 },
 "nbformat": 4,
 "nbformat_minor": 2
}
