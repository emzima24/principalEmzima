{
 "cells": [
  {
   "cell_type": "markdown",
   "metadata": {},
   "source": [
    "Actividad 1\n",
    "Crea un programa que solicite al usuario ingresar el tamaño deseado para dos vectores. El primero\n",
    "almacenará nombres de personas como cadenas, mientras que el segundo vector contendrá la longitud \n",
    "de cada uno de los nombres. Luego, se mostrarán en pantalla los nombres junto con su respectiva longitud."
   ]
  },
  {
   "cell_type": "code",
   "execution_count": 11,
   "metadata": {},
   "outputs": [
    {
     "name": "stdout",
     "output_type": "stream",
     "text": [
      "El nombre carlos tiene 6 caracteres\n",
      "El nombre luis tiene 4 caracteres\n",
      "El nombre pedro tiene 5 caracteres\n"
     ]
    }
   ],
   "source": [
    "# vamos a hacerlo sin la logica de match case solo ejecuciones  simples\n",
    "# y tambien vamos a empezar a usar las buenas pracicas en python como por ejemplo\n",
    "# los nombres de las variables seran de estilo snake_case  \n",
    "\n",
    "lista_name = [input(f'introduce el nombre {i}') for i in range(int(input('introduce el tamaño del arreglo ')))]\n",
    "lista_len_name = [len(name) for name in lista_name]\n",
    "print(*(f'El nombre {name} tiene {len_name} caracteres' for name, len_name in zip(lista_name,lista_len_name)), sep='\\n')"
   ]
  },
  {
   "cell_type": "markdown",
   "metadata": {},
   "source": [
    "Para mas información sobre buenas practicas  \n",
    "[pep8 version acotada](https://docs.python.org/es/dev/tutorial/controlflow.html#intermezzo-coding-style)   \n",
    "[pep8 version completa](https://peps.python.org/pep-0008/)"
   ]
  },
  {
   "cell_type": "markdown",
   "metadata": {},
   "source": [
    "Actividad 2\n",
    "Crea un vector que contenga 100 notas de 100 supuestos estudiantes, con valores \n",
    "entre 0 y 10 generadas aleatoriamente.. Luego, de acuerdo a las notas \n",
    "almacenadas en el arreglo, el programa debe indicar cuántos estudiantes son:  \n",
    "Deficientes: 0-3  \n",
    "Regulares: 4-6  \n",
    "Buenos: 7-8  \n",
    "Excelentes: 9-10  "
   ]
  },
  {
   "cell_type": "code",
   "execution_count": 15,
   "metadata": {},
   "outputs": [
    {
     "name": "stdout",
     "output_type": "stream",
     "text": [
      "Los estudiantes categorizados como deficientes son 43\n",
      "Los estudiantes categorizados como regulares son 28\n",
      "Los estudiantes categorizados como buenos son 22\n",
      "Los estudiantes categorizados como excelentes son 7\n"
     ]
    }
   ],
   "source": [
    "import random\n",
    "def cantidad_caso(lista, mini, maxi,categ):\n",
    "    qty = [number for number in lista if mini<=number<=maxi]\n",
    "    return f'Los estudiantes categorizados como {categ} son {len(qty)}'\n",
    "\n",
    "lista = [random.randint(0,10) for _ in range(100)]\n",
    "print(cantidad_caso(lista, 0, 3,'deficientes'))\n",
    "print(cantidad_caso(lista, 4, 6,'regulares'))\n",
    "print(cantidad_caso(lista, 7, 8,'buenos'))\n",
    "print(cantidad_caso(lista, 9, 10,'excelentes'))\n"
   ]
  },
  {
   "cell_type": "markdown",
   "metadata": {},
   "source": [
    "Actividad 3\n",
    "Desarrolla un programa que inicialice un arreglo de números, permitiéndote elegir el tipo y tamaño \n",
    "del arreglo. Puedes generar datos aleatorios para poblar el arreglo o asignar valores manualmente. \n",
    "Posteriormente, crea una función que calcule y devuelva la diferencia entre el valor más pequeño \n",
    "y el valor más grande de este arreglo. Para cumplir con las necesidades de la actividad, se sugiere \n",
    "dividir el proceso en subprocesos o funciones, esto te permitirá tener un código más modular y fácil \n",
    "de entender, cumpliendo con las necesidades de la actividad y facilitando futuras modificaciones o expansiones del programa."
   ]
  },
  {
   "cell_type": "code",
   "execution_count": 69,
   "metadata": {},
   "outputs": [
    {
     "name": "stdout",
     "output_type": "stream",
     "text": [
      "La lista seleccionada 6.26 36.32 13.73 16.64 43.07 49.2 3.71 39.07 6.83 36.41 27.18 3.74 38.24 3.21 5.57 10.37 36.61 45.5 42.17 3.86\n",
      "La diferencia entre max 49.2 y min 3.21 es 45.99\n"
     ]
    }
   ],
   "source": [
    "def mostrar_vector(vector,letter):\n",
    "    print(f'La lista {letter}',*vector)  \n",
    "\n",
    "tamanho = int(input('introduce el tamaño del arreglo'))\n",
    "tipo_arreglo = input('introduce el tipo del arreglo (R)eal o (E)ntero')\n",
    "lista = [round(random.uniform(0,50),2) for _ in range(tamanho)] if tipo_arreglo.upper() =='R' else [random.randint(0,50) for _ in range(tamanho)]\n",
    "\n",
    "mostrar_vector(lista, 'seleccionada')\n",
    "print(f'La diferencia entre max {max(lista)} y min {min(lista)} es {max(lista)-min(lista)}')"
   ]
  },
  {
   "cell_type": "markdown",
   "metadata": {},
   "source": [
    "Actividad 4\n",
    "Diseña un programa que trabaje con un vector de datos lógicos \n",
    "de tamaño 5. El programa debe realizar las siguientes tareas:\n",
    "1. Llenar el vector con valores lógicos (verdadero o falso)\n",
    "\tingresados por el usuario.\n",
    "2. Mostrar en pantalla el vector original.\n",
    "3. Determinar y mostrar un mensaje en pantalla indicando \n",
    "\tsi todos los elementos del vector son verdaderos.\n",
    "4. Determinar y mostrar un mensaje en pantalla indicando si al menos \n",
    "\tuno de los elementos del vector es verdadero, junto \n",
    "\tcon la posición en la que se encuentra.\n",
    "5. Determinar y mostrar un mensaje en pantalla indicando \n",
    "\tsi todos los elementos del vector son falsos.\n",
    "6. Determinar y mostrar un mensaje en pantalla indicando si al menos \n",
    "\tuno de los elementos del vector es falso, junto \n",
    "\tcon la posición en la que se encuentra."
   ]
  },
  {
   "cell_type": "code",
   "execution_count": 178,
   "metadata": {},
   "outputs": [
    {
     "name": "stdout",
     "output_type": "stream",
     "text": [
      "[False, False, False, False, False]\n",
      "Son todos False\n"
     ]
    }
   ],
   "source": [
    "# para que lo introduzca el usuario descomentar la linea 3 y comentar la 4\n",
    "\n",
    "#lista = [bool(input(f'introduce True o False {i}')) for i in range(5)]\n",
    "lista = [bool(random.randint(0,1)) for _ in range(5)]\n",
    "print(lista)\n",
    "if not lista.count(True) or not lista.count(False):\n",
    "    print('Son todos True' if lista.count(True) else 'Son todos False')\n",
    "else:\n",
    "    print(*(f'El boleano {boleano} esta en la posicion {posc}' for posc, boleano in enumerate(lista) if boleano), sep='\\n')\n",
    "    print(*(f'El boleano {boleano} esta en la posicion {posc}' for posc, boleano in enumerate(lista) if not boleano), sep='\\n')"
   ]
  },
  {
   "cell_type": "markdown",
   "metadata": {},
   "source": [
    "Complementario 1\n",
    "Desarrolla un programa que ordene un vector lleno de números enteros aleatorios de menor a mayor. \n",
    "La dimensión del vector debe ser solicitada al usuario. Puedes investigar el método de ordenamiento \n",
    "burbuja para implementarlo. Para obtener más información sobre el ordenamiento burbuja, puedes consultar en wikipedia"
   ]
  },
  {
   "cell_type": "code",
   "execution_count": 181,
   "metadata": {},
   "outputs": [
    {
     "name": "stdout",
     "output_type": "stream",
     "text": [
      "La lista introducida 0 16 18 8 50 36 44 28 25 43 43 17 22 28 30\n",
      "La lista ordenda 0 8 16 17 18 22 25 28 28 30 36 43 43 44 50\n"
     ]
    }
   ],
   "source": [
    "# debido al metodo sort de las listas se hace innecesario el metodo de burbujas\n",
    "\n",
    "def mostrar_vector(vector,letter):\n",
    "    print(f'La lista {letter}',*vector)  \n",
    "\n",
    "tamanho = int(input('introduce el tamaño del arreglo'))\n",
    "#lista = [int(input(f'introduce un numero {i}')) for i in range(tamanho)]\n",
    "lista = [random.randint(0,50) for _ in range(tamanho)]\n",
    "\n",
    "mostrar_vector(lista, 'introducida')\n",
    "lista.sort()                        # el ordenamiento es inplace o the list itself is modified manteniendo valores repetidos\n",
    "mostrar_vector(lista, 'ordenda')"
   ]
  },
  {
   "cell_type": "markdown",
   "metadata": {},
   "source": [
    "Complementario 2\n",
    "Desarrolla una función recursiva que calcula la suma de un arreglo de números enteros o reales, \n",
    "según la preferencia del usuario. La función debe tomar como entrada el arreglo, su longitud y el \n",
    "tipo de números contenidos en él. Luego, devolverá la suma total de todos los elementos del arreglo. \n",
    "Esta función puede ser aplicada a arreglos de cualquier tamaño deseado, permitiendo al usuario \n",
    "manipular conjuntos de datos de manera eficiente y versátil. La implementación de esta función \n",
    "proporcionará práctica en el uso de la recursión para operaciones sobre arreglos."
   ]
  },
  {
   "cell_type": "code",
   "execution_count": 188,
   "metadata": {},
   "outputs": [
    {
     "name": "stdout",
     "output_type": "stream",
     "text": [
      "La lista seleccionada 29.0 84.59 35.08 68.59 75.68 52.98 96.38 68.21 93.46 33.02 13.48 71.64 86.98 11.86 2.79\n",
      "La suma entre todos los elementos del arreglo es 823.74\n",
      "823.74\n"
     ]
    }
   ],
   "source": [
    "def mostrar_vector(vector,letter):\n",
    "    print(f'La lista {letter}',*vector) \n",
    "\n",
    "def suma_recursiva(tamanho,lista,letter):\n",
    "    return 0 if not tamanho else lista[tamanho-1] + suma_recursiva(tamanho-1,lista,letter)\n",
    "\n",
    "tamanho = int(input('introduce el tamaño del arreglo'))\n",
    "tipo_arreglo = input('introduce el tipo del arreglo (R)eal o (E)ntero')\n",
    "lista = [round(random.uniform(0,100),2) for _ in range(tamanho)] if tipo_arreglo.upper() =='R' else [random.randint(0,100) for _ in range(tamanho)]\n",
    "\n",
    "mostrar_vector(lista, 'seleccionada')\n",
    "print(f'La suma entre todos los elementos del arreglo es {suma_recursiva(tamanho,lista,\"seleccionada\")}')\n",
    "# print(sum(lista)) comprobacion no es solicitada"
   ]
  },
  {
   "cell_type": "markdown",
   "metadata": {},
   "source": [
    "Complementario 3\n",
    "Desarrolla un programa que inicialice un arreglo de números, permitiéndote elegir \n",
    "el tipo y tamaño del arreglo. Asigna valores aleatorios entre 15 y 155. Posteriormente:\n",
    "1. Crea una función para calcular la suma de TODOS LOS ELEMENTOS CON ÍNDICE IMPAR. El número 0(cero) no será contemplado en este grupo. Es decir, los elementos del vector con índice 1,3,5 etc. \n",
    "2. Crea una función para calcular la suma de TODOS LOS ELEMENTOS CON ÍNDICE PAR. El número 0(cero) debe ser contemplado en este grupo. Es decir, los elementos del vector con índice 0,2,4,6 etc. "
   ]
  },
  {
   "cell_type": "code",
   "execution_count": 189,
   "metadata": {},
   "outputs": [
    {
     "name": "stdout",
     "output_type": "stream",
     "text": [
      "La lista seleccionada 68 105 130 11 29 120 134 137 95 80 22 20 68 93 33\n",
      "La lista par 68 130 29 134 95 22 68 33\n",
      "La lista impar 105 11 120 137 80 20 93\n",
      "La suma entre todos los elementos de index impar del arreglo es 566\n",
      "La suma entre todos los elementos de index par del arreglo es 579\n",
      "1145\n"
     ]
    }
   ],
   "source": [
    "# facil sin funciones solo con lo solicitado\n",
    "def mostrar_vector(vector,letter):\n",
    "    print(f'La lista {letter}',*vector) \n",
    "\n",
    "tamanho = int(input('introduce el tamaño del arreglo'))\n",
    "tipo_arreglo = input('introduce el tipo del arreglo (R)eal o (E)ntero')\n",
    "lista = [round(random.uniform(5,155),2) for _ in range(tamanho)] if tipo_arreglo.upper() =='R' else [random.randint(5,155) for _ in range(tamanho)]\n",
    "lista_index_impar = [number for index,number in enumerate(lista) if index%2]\n",
    "lista_index_par = [number for index,number in enumerate(lista) if not index%2]\n",
    "mostrar_vector(lista, 'seleccionada')\n",
    "mostrar_vector(lista_index_par, 'par')\n",
    "mostrar_vector(lista_index_impar, 'impar')\n",
    "print(f'La suma entre todos los elementos de index impar del arreglo es {sum(lista_index_impar)}')\n",
    "print(f'La suma entre todos los elementos de index par del arreglo es {sum(lista_index_par)}')\n",
    "# print(sum(lista)) comprobacion no es solicitada"
   ]
  },
  {
   "cell_type": "markdown",
   "metadata": {},
   "source": [
    "Complementario 4\n",
    "Diseña un programa que trabaje con un vector de cadenas de caracteres de dimensión 10, donde cada \n",
    "cadena representa un nombre ingresado por el usuario. El programa debe realizar las siguientes tareas:\n",
    "  \n",
    "1. Llenar el vector con nombres ingresados por el usuario.\n",
    "2. Mostrar el vector original en pantalla.\n",
    "3. Contar y mostrar cuántas veces se repite cada vocal en todos los nombres \n",
    "del vector. Es decir el total de A-E-I-O-U utilizadas en todo el vector.\n",
    "4. Encontrar y mostrar el nombre más largo y el nombre más corto del vector.\n",
    "5. Crear un nuevo vector que contenga solo los nombres que comiencen con una \n",
    "letra específica ingresada por el usuario.Mostrar el nuevo vector en pantalla.  \n"
   ]
  },
  {
   "cell_type": "code",
   "execution_count": 203,
   "metadata": {},
   "outputs": [
    {
     "name": "stdout",
     "output_type": "stream",
     "text": [
      "***************\n",
      "Carlos\n",
      "Camilo\n",
      "Carolina\n",
      "felipe\n",
      "***************\n",
      "La cantidad de A es 4\n",
      "La cantidad de E es 2\n",
      "La cantidad de I es 3\n",
      "La cantidad de O es 3\n",
      "La cantidad de U es 0\n",
      "***************\n",
      "Uno de los nombres con mas caracteres es Carolina \n",
      "Uno de los nombres con menos caracteres es Carlos \n",
      "Uno de los nombres con menos caracteres es Camilo \n",
      "Uno de los nombres con menos caracteres es felipe \n",
      "***************\n",
      "La lista de los que comienzan con c\n",
      "Carlos\n",
      "Camilo\n",
      "Carolina\n"
     ]
    }
   ],
   "source": [
    "lista_name = [input(f'introduce el nombre {i}') for i in range(10)]\n",
    "lista_len_name = [len(name) for name in lista_name]\n",
    "print('*'*15)\n",
    "print(*lista_name, sep='\\n')\n",
    "print('*'*15)\n",
    "print(f'La cantidad de A es', sum([name.upper().count('A') for name in lista_name]))\n",
    "print(f'La cantidad de E es', sum([name.upper().count('E') for name in lista_name]))\n",
    "print(f'La cantidad de I es', sum([name.upper().count('I') for name in lista_name]))\n",
    "print(f'La cantidad de O es', sum([name.upper().count('O') for name in lista_name]))\n",
    "print(f'La cantidad de U es', sum([name.upper().count('U') for name in lista_name]))\n",
    "print('*'*15)\n",
    "print(*(f'Uno de los nombres con mas caracteres es {name} ' for name, len_name in zip(lista_name,lista_len_name) if len_name == max(lista_len_name)), sep='\\n')\n",
    "print(*(f'Uno de los nombres con menos caracteres es {name} ' for name, len_name in zip(lista_name,lista_len_name) if len_name == min(lista_len_name)), sep='\\n')\n",
    "print('*'*15)\n",
    "text_search = input('introduce la inicial para agrupar nombres ')\n",
    "lista_search = [name for name in lista_name if name.upper().startswith(text_search.upper())]\n",
    "print(f'La lista de los que comienzan con {text_search}',*lista_search, sep='\\n')"
   ]
  }
 ],
 "metadata": {
  "kernelspec": {
   "display_name": "base",
   "language": "python",
   "name": "python3"
  },
  "language_info": {
   "codemirror_mode": {
    "name": "ipython",
    "version": 3
   },
   "file_extension": ".py",
   "mimetype": "text/x-python",
   "name": "python",
   "nbconvert_exporter": "python",
   "pygments_lexer": "ipython3",
   "version": "3.11.5"
  }
 },
 "nbformat": 4,
 "nbformat_minor": 2
}
