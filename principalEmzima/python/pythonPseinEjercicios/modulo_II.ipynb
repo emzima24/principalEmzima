{
 "cells": [
  {
   "cell_type": "markdown",
   "metadata": {},
   "source": [
    "Actividad 1\n",
    "Un arquero de fútbol desea saber si su promedio de tapadas es mayor a la media, el programa le pedirá al usuario su promedio actual y el valor de la media actual. Si el promedio del arquero es mayor a la media se debe mostrar un mensaje por pantalla indicándolo. Para ello: \n",
    "\n",
    "Crea un nuevo algoritmo llamado \"Promedio\"\n",
    "\t\n",
    "Define 2 variables llamadas promedioActual y mediaActual del tipo real.\n",
    "\t\n",
    "Solicita al usuario que ingrese su promedio y asigna el valor ingresado en la variable previamente declarada.\n",
    "\t\n",
    "Solicita al usuario que ingrese el valor de la media actual y asigna el valor ingresado en la variable previamente declarada.\n",
    "\t\n",
    "Utilizando una estructura de control condicional simple, compara ambos valores y, en caso de el promedio del arquero ser MAYOR o IGUAL a la media actual, muestra un mensaje en pantalla de felicitaciones.\n",
    "\t\n",
    "Ejecuta el programa y valida que se comporte según lo esperado.\n",
    "\t\n",
    "Guarda  el algoritmo en la carpeta creada previamente para dicho fin. "
   ]
  },
  {
   "cell_type": "code",
   "execution_count": 1,
   "metadata": {},
   "outputs": [
    {
     "name": "stdout",
     "output_type": "stream",
     "text": [
      "sos un crac\n"
     ]
    }
   ],
   "source": [
    "# if else requiere dos condiciones importantes/obligatorias \n",
    "# 1) los : puntos despues del condicional\n",
    "# 2) la indentacion para indicar que ese bloque pertenece a esa parte del codigo\n",
    "promedioActual = float(input('Escribe, cuanto es tu promedio '))\n",
    "mediaActual = float(input('Escribe, cuanto es la media de la liga '))\n",
    "if promedioActual >= mediaActual:\n",
    "    print('Sos un crac')\n",
    "else:\n",
    "    print('Sos un cracso... perdido')\n"
   ]
  },
  {
   "cell_type": "markdown",
   "metadata": {},
   "source": [
    "Actividad 2\n",
    "Diseña un programa que solicite al usuario ingresar su nombre de usuario y contraseña. \n",
    "El programa debe verificar si el nombre de usuario es')admin\" y si la contraseña es')1234\". \n",
    "Si ambos son correctos, el programa debe imprimir un mensaje de bienvenida. Recuerda nombrar y guardar tu algoritmo."
   ]
  },
  {
   "cell_type": "code",
   "execution_count": null,
   "metadata": {},
   "outputs": [],
   "source": [
    "username = float(input('Escribe, tu nombre de usuario '))\n",
    "password = float(input('Escribe, tu contraseña '))\n",
    "if username == 'admin' and password == '1234':\n",
    "    print('Bien, ya estas adentro')\n",
    "else:\n",
    "    print('El nombre de usuario y/o la contraseña no corresponden')"
   ]
  },
  {
   "cell_type": "markdown",
   "metadata": {},
   "source": [
    "Actividad 3\n",
    "Crea un programa que permita ingresar un número de jugador, si el número es mayor de 10, \n",
    "se debe calcular y mostrar en pantalla el 18% de este. Recuerda nombrar y guardar tu algoritmo."
   ]
  },
  {
   "cell_type": "code",
   "execution_count": 25,
   "metadata": {},
   "outputs": [
    {
     "name": "stdout",
     "output_type": "stream",
     "text": [
      "No piden hacer nada pero bueno en fin no me gusta dejarlo vacio tu numero es 10.0\n"
     ]
    }
   ],
   "source": [
    "numeroJugador = float(input('Escribe, tu numero de jugador '))\n",
    "if numeroJugador > 10:\n",
    "    print('Bueno tu número es en realidad',numeroJugador*.18)\n",
    "else:\n",
    "    print('No piden hacer nada pero bueno en fin no me gusta dejarlo vacio tu numero es', numeroJugador)"
   ]
  },
  {
   "cell_type": "markdown",
   "metadata": {},
   "source": [
    "Actividad 4\n",
    "Realiza un programa que solicite al usuario un caracter. Si el caracter ingresado es S o N, se deberá de imprimir un mensaje por pantalla que diga \"CORRECTO\",\n",
    "en caso contrario, se deberá imprimir \"INCORRECTO\". Recuerda nombrar y guardar tu algoritmo"
   ]
  },
  {
   "cell_type": "code",
   "execution_count": 3,
   "metadata": {},
   "outputs": [
    {
     "name": "stdout",
     "output_type": "stream",
     "text": [
      "INCORRECTO\n"
     ]
    }
   ],
   "source": [
    "caracterIngresado = input('Escribe, un caracter ')\n",
    "if caracterIngresado == 'S' or caracterIngresado == 'N' or caracterIngresado == 's' or caracterIngresado == 'n':\n",
    "    print('CORRECTO')\n",
    "else:\n",
    "    print('INCORRECTO')"
   ]
  },
  {
   "cell_type": "code",
   "execution_count": 9,
   "metadata": {},
   "outputs": [
    {
     "name": "stdout",
     "output_type": "stream",
     "text": [
      "CORRECTO\n"
     ]
    }
   ],
   "source": [
    "# Haciendo uso de la propiedad del objeto caracter que tiene upper que la convierte en mayuscula y se almacena\n",
    "caracterIngresado = input('Escribe, un caracter ')\n",
    "caracterIngresado = caracterIngresado.upper()\n",
    "if caracterIngresado == 'S' or caracterIngresado == 'N':\n",
    "    print('CORRECTO')\n",
    "else:\n",
    "    print('INCORRECTO')"
   ]
  },
  {
   "cell_type": "markdown",
   "metadata": {},
   "source": [
    "Actividad 5\n",
    "Elabora un programa que solicite al usuario ingresar un día de la semana y, tras un análisis, \n",
    "determine si es un día de entrenamiento o no (los días de entrenamiento son de lunes a jueves). \n",
    "Por ahora, no es necesario considerar validaciones de entrada de datos, como mayúsculas o minúsculas, \n",
    "asumiendo que el usuario ingresará el día de la semana en mayúsculas(cada uno de sus caracteres). Recuerda nombrar guardar tu algoritmo."
   ]
  },
  {
   "cell_type": "code",
   "execution_count": 26,
   "metadata": {},
   "outputs": [
    {
     "name": "stdout",
     "output_type": "stream",
     "text": [
      "Si el LUNES es un día de entrenamiento\n"
     ]
    }
   ],
   "source": [
    "diaIngresado = input('Escribe, un dia para saber si entrenas ')\n",
    "diaIngresado = diaIngresado.upper()\n",
    "if diaIngresado == 'LUNES' or diaIngresado == 'MARTES' or diaIngresado == 'MIÉRCOLES' or diaIngresado == 'JUEVES':\n",
    "    print('Si el',diaIngresado,'es un día de entrenamiento')\n",
    "else:\n",
    "    print('No el',diaIngresado,'no es de entrenamiento, es un día de reposición')"
   ]
  },
  {
   "cell_type": "markdown",
   "metadata": {},
   "source": [
    "Actividad 6\n",
    "Crea un programa que solicite al usuario un número entero y determine si es par o impar. \n",
    "Luego, mostrar en pantalla un mensaje indicando si el número es par o impar. Para determinar si un número es par, \n",
    "se debe dividir entre dos y verificar que el resto sea igual a 0. Se recomienda investigar la función mod de PSeInt \n",
    "para lograr esta verificación de manera eficiente. Recuerda nombrar y guardar tu algoritmo."
   ]
  },
  {
   "cell_type": "code",
   "execution_count": 27,
   "metadata": {},
   "outputs": [
    {
     "name": "stdout",
     "output_type": "stream",
     "text": [
      "El 2.0 es Par\n"
     ]
    }
   ],
   "source": [
    "# en python el modulo correponde con el simbolo %\n",
    "numeroIngresado = float(input('Escribe, un numero entero '))\n",
    "if numeroIngresado % 2 == 0:\n",
    "    print('El',numeroIngresado,'es Par')\n",
    "else:\n",
    "    print('El',numeroIngresado,'es Impar')"
   ]
  },
  {
   "cell_type": "code",
   "execution_count": 28,
   "metadata": {},
   "outputs": [
    {
     "name": "stdout",
     "output_type": "stream",
     "text": [
      "El 0.0 es Par\n"
     ]
    }
   ],
   "source": [
    "# en python se puede aprovechar el hecho 0 equivalente a False y 1 o distinto de 0 se considera True\n",
    "# con el not invertirmos el valor 0 de False a True \n",
    "# por cierto si el 0 es par\n",
    "numeroIngresado = float(input('Escribe, un numero '))\n",
    "if not numeroIngresado % 2:\n",
    "    print('El',numeroIngresado,'es Par')\n",
    "else:\n",
    "    print('El',numeroIngresado,'es Impar')"
   ]
  },
  {
   "cell_type": "markdown",
   "metadata": {},
   "source": [
    "Actividad 7\n",
    "Desarrolla un programa que solicite al usuario ingresar un nombre para su competencia, \n",
    "el cual debe constar de una frase o palabra de exactamente 6 caracteres. Si el usuario \n",
    "ingresa una frase o palabra de 6 caracteres, el programa imprimirá por pantalla el mensaje \"LONGITUD  CORRECTA\". \n",
    "En caso contrario, se imprimirá \"LONGITUD INCORRECTA\". Se sugiere investigar la función Longitud() de PSeInt \n",
    "para realizar esta verificación de manera eficiente. Recuerda nombrar y guardar tu algoritmo."
   ]
  },
  {
   "cell_type": "code",
   "execution_count": 17,
   "metadata": {},
   "outputs": [
    {
     "name": "stdout",
     "output_type": "stream",
     "text": [
      "Es CORRECTA. El texto  cadena  tiene exactamente 6 caracteres\n"
     ]
    }
   ],
   "source": [
    "# en python la longitud de una cadena de texto es len\n",
    "cadenaIngresado = input('Escribe, una cadena de texto de 6 caracteres ')\n",
    "if len(cadenaIngresado) == 6:\n",
    "    print('Es CORRECTA. El texto',cadenaIngresado,'tiene exactamente 6 caracteres')\n",
    "else:\n",
    "    print('Es INCORRECTA. El texto',cadenaIngresado,'no tiene 6 caracteres tiene ', len(cadenaIngresado))"
   ]
  },
  {
   "cell_type": "markdown",
   "metadata": {},
   "source": [
    "Complementario 1\n",
    "Diseña un algoritmo que lea un número de tres cifras correspondiente a la posición táctica del equipo \n",
    "(433, 343, 253, etc.) y determine si es o no capicúa. Un número es capicúa cuando se lee igual \n",
    "de izquierda a derecha que de derecha a izquierda.Recuerda nombrar y guardar tu algoritmo."
   ]
  },
  {
   "cell_type": "code",
   "execution_count": 24,
   "metadata": {},
   "outputs": [
    {
     "name": "stdout",
     "output_type": "stream",
     "text": [
      "La 434 es capicua\n"
     ]
    }
   ],
   "source": [
    "posicionTactica = input('Escribe, los numeros de la posicion táctica ')\n",
    "if posicionTactica == posicionTactica[::-1]:\n",
    "    print('La',posicionTactica,'es capicua')\n",
    "else:\n",
    "    print('El',posicionTactica,'NO ES capicua')"
   ]
  },
  {
   "cell_type": "code",
   "execution_count": 29,
   "metadata": {},
   "outputs": [
    {
     "name": "stdout",
     "output_type": "stream",
     "text": [
      "El 443 NO ES capicua\n"
     ]
    }
   ],
   "source": [
    "# otra forma usando la misma propiedad slice pero comparando solo las primera y la ultima posicion \n",
    "# considerando que sea de tipo impar en slice -1 es la ultima posicion y -2 la penultima y asi sucesevamente\n",
    "posicionTactica = input('Escribe, los numeros de la posicion táctica ')\n",
    "if posicionTactica[0] == posicionTactica[-1]:\n",
    "    print('La',posicionTactica,'es capicua')\n",
    "else:\n",
    "    print('El',posicionTactica,'NO ES capicua')"
   ]
  },
  {
   "cell_type": "markdown",
   "metadata": {},
   "source": [
    "Complementario 2\n",
    "La entrada al cine cuesta 5 dólares por persona, sin embargo. Si la edad de la persona es menor a 12 años\n",
    "se le aplica un descuento del 30%. Escribir el algoritmo que calcule y muestre lo que pagará la entrada al cine según su edad."
   ]
  },
  {
   "cell_type": "code",
   "execution_count": 30,
   "metadata": {},
   "outputs": [
    {
     "name": "stdout",
     "output_type": "stream",
     "text": [
      "El precio es 5\n"
     ]
    }
   ],
   "source": [
    "edad = float(input('Escribe, tu edad '))\n",
    "if edad < 12:\n",
    "    print('El precio es',5*.70)\n",
    "else:\n",
    "    print('El precio es',5)"
   ]
  },
  {
   "cell_type": "markdown",
   "metadata": {},
   "source": [
    "Complementario 3\n",
    "Desarrolla un programa que solicite al usuario ingresar un nombre para su competencia, \n",
    "el cual puede ser una frase o palabra. Si la frase o palabra tiene una longitud de 4 caracteres, \n",
    "el programa concatenará un signo de exclamación al final de la cadena; de lo contrario, \n",
    "añadirá un signo de interrogación. Posteriormente, el programa mostrará la frase final resultante. \n",
    "Se recomienda investigar las funciones Longitud() y Concatenar() de PSeInt para realizar esta tarea de manera eficiente."
   ]
  },
  {
   "cell_type": "code",
   "execution_count": 33,
   "metadata": {},
   "outputs": [
    {
     "name": "stdout",
     "output_type": "stream",
     "text": [
      "El texto aca? tiene ahora 4 caracteres\n"
     ]
    }
   ],
   "source": [
    "# para concatenar en python los string pueden usar dos operaciones + lo cual es unir dos string\n",
    "# pero tambien se puede usar el * para indicar las veces que se repite un string (no se usa en este ejemplo)\n",
    "cadenaIngresado = input('Escribe, una cadena de texto de 4 caracteres ')\n",
    "if len(cadenaIngresado) == 4:\n",
    "    print('El texto',cadenaIngresado+'!','tiene ahora 5 caracteres')\n",
    "else:\n",
    "    print('El texto',cadenaIngresado+'?','tiene ahora',len(cadenaIngresado)+1,'caracteres')"
   ]
  },
  {
   "cell_type": "code",
   "execution_count": 34,
   "metadata": {},
   "outputs": [
    {
     "name": "stdout",
     "output_type": "stream",
     "text": [
      "El texto caso! tiene ahora 5 caracteres\n"
     ]
    }
   ],
   "source": [
    "# en python hay una funcion mas poderosa para usar con print pero tambien para trabajar string con variables\n",
    "# f'Todo entre las comillas es texto {pero en la llave es una variable proceso o funcion que se ejecuta con la linea} sigue el texto {nuevo variable}'\n",
    "# notese el uso de comillas distintas para concatenar los signos\n",
    "# en python la linea larga no es buena practica pero no queremos complicar ahora la cosa\n",
    "cadenaIngresado = input('Escribe, una cadena de texto de 4 caracteres ')\n",
    "if len(cadenaIngresado) == 4:\n",
    "    print(f'El texto {cadenaIngresado+\"!\"} tiene ahora 5 caracteres')\n",
    "else:\n",
    "    print(f'El texto {cadenaIngresado+\"?\"} tiene ahora {len(cadenaIngresado)+1} caracteres')"
   ]
  },
  {
   "cell_type": "markdown",
   "metadata": {},
   "source": [
    "Complementario 4\n",
    "Escribe un programa que te pida ingresar los resultados de los últimos 3 partidos de tu equipo\n",
    "y valide si la suma de las anotaciones está entre 1 y 10. Si se encuentran dentro de estos parámetros,\n",
    "se debe establecer como verdadera una variable lógica y, en caso contrario, como falsa. \n",
    "Al final del programa, se deberá indicar si los 3 resultados son correctos utilizando la variable lógica."
   ]
  },
  {
   "cell_type": "code",
   "execution_count": 36,
   "metadata": {},
   "outputs": [
    {
     "name": "stdout",
     "output_type": "stream",
     "text": [
      "Los resultados no son correctos\n"
     ]
    }
   ],
   "source": [
    "isCorrecto = True\n",
    "resultadoPrimero = float(input('Ingrese el resultado del primer partido '))\n",
    "resultadoSegundo = float(input('Ingrese el resultado del segundo partido '))\n",
    "resultadoTercero = float(input('Ingrese el resultado del tercer partido '))\n",
    "total = resultadoPrimero+ resultadoSegundo+ resultadoTercero\n",
    "if total > 10:\n",
    "    isCorrecto = False\n",
    "if isCorrecto:\n",
    "    print('Los resultados son correctos')\n",
    "else:\n",
    "    print('Los resultados no son correctos')\n"
   ]
  },
  {
   "cell_type": "markdown",
   "metadata": {},
   "source": [
    "Complementario 5\n",
    "Escribe un programa que solicite el nombre de un equipo de fútbol y valide \n",
    "si la primera letra de ese nombre es una 'A'. Si la primera letra es una 'A', \n",
    "se imprimirá un mensaje que diga \"CORRECTO\"; de lo contrario, se imprimirá \"INCORRECTO\". \n",
    "Se sugiere investigar la función Subcadena de PSeInt para realizar esta tarea de manera eficiente.\n",
    "Se define real porque es menos probable que se rompa en ejecucion"
   ]
  },
  {
   "cell_type": "code",
   "execution_count": 37,
   "metadata": {},
   "outputs": [
    {
     "name": "stdout",
     "output_type": "stream",
     "text": [
      "Es CORRECTO. El equipo Albacete inicia con A\n"
     ]
    }
   ],
   "source": [
    "equipoIngresado = input('Escribe, el nombre de un equipo ')\n",
    "equipoIngresadoComp = equipoIngresado.upper() \n",
    "if equipoIngresadoComp[0] == 'A':\n",
    "    print(f'Es CORRECTO. El equipo {equipoIngresado} inicia con A')\n",
    "else:\n",
    "    print(f'Es INCORRECTO. El equipo {equipoIngresado} no inicia con A')"
   ]
  },
  {
   "cell_type": "markdown",
   "metadata": {},
   "source": [
    "Complementario 6\n",
    "Continuando con el ejercicio anterior, ahora se solicitará el nombre del equipo y se validará \n",
    "si la primera letra del nombre es igual a la última letra del nombre. Si ambas letras son iguales, \n",
    "se imprimirá un mensaje que diga \"CORRECTO\"; de lo contrario, se imprimirá \"INCORRECTO\".\n",
    "Se define real porque es menos probable que se rompa en ejecucion"
   ]
  },
  {
   "cell_type": "code",
   "execution_count": 38,
   "metadata": {},
   "outputs": [
    {
     "name": "stdout",
     "output_type": "stream",
     "text": [
      "Es INCORRECTO. El equipo Albacete inicia con letra A y termina con letra e\n"
     ]
    }
   ],
   "source": [
    "equipoIngresado = input('Escribe, el nombre de un equipo ')\n",
    "equipoIngresadoComp = equipoIngresado.upper() \n",
    "if equipoIngresadoComp[0] == equipoIngresadoComp[-1]:\n",
    "    print(f'Es CORRECTO. El equipo {equipoIngresado} inicia con la misma letra {equipoIngresado[0]}')\n",
    "else:\n",
    "    print(f'Es INCORRECTO. El equipo {equipoIngresado} inicia con letra {equipoIngresado[0]} y termina con letra {equipoIngresado[-1]}')"
   ]
  },
  {
   "cell_type": "markdown",
   "metadata": {},
   "source": [
    "Complementario 7\n",
    "Escribe un programa que solicite al usuario ingresar tres notas y determine si un alumno \n",
    "//aprueba o reprueba un curso. El criterio para aprobar es que el promedio de las tres notas \n",
    "sea igual o mayor a 70. Si el promedio cumple con este criterio, el programa imprimirá \"\n",
    "El alumno aprueba el curso\"; de lo contrario, imprimirá \"El alumno reprueba el curso\"."
   ]
  },
  {
   "cell_type": "code",
   "execution_count": 39,
   "metadata": {},
   "outputs": [
    {
     "name": "stdout",
     "output_type": "stream",
     "text": [
      "El alumno aprueba el curso, felicitaciones\n"
     ]
    }
   ],
   "source": [
    "priNota = float(input('Escribe, Cuanto la primera nota'))\n",
    "segNota = float(input('Escribe, Cuanto la segunda nota'))\n",
    "terNota = float(input('Escribe, Cuanto la tercera nota'))\n",
    "promedio = (priNota+segNota+terNota)/3\n",
    "if promedio >= 70:\n",
    "\tprint('El alumno aprueba el curso, felicitaciones')\n",
    "else:\n",
    "    print('El alumno reprueba el curso, lo sentimos')"
   ]
  },
  {
   "cell_type": "markdown",
   "metadata": {},
   "source": [
    "Complementario 8\n",
    "Una tienda ofrece un descuento del 10% sobre el total de la compra realizada por un cliente \n",
    "en los meses de septiembre, octubre y noviembre. El programa solicitará al usuario que ingrese \n",
    "el mes y el importe de la compra. Luego, calculará y mostrará por pantalla el monto total \n",
    "que se debe cobrar al cliente, considerando el descuento si corresponde."
   ]
  },
  {
   "cell_type": "code",
   "execution_count": 42,
   "metadata": {},
   "outputs": [
    {
     "name": "stdout",
     "output_type": "stream",
     "text": [
      "Como en noviembre es un mes de descuento, pagas solo 900.0\n"
     ]
    }
   ],
   "source": [
    "total = float(input('Escribe, el monto total '))\n",
    "mesIngresado = input('Escribe, el nombre del mes para saber cuanto debes pagar ')\n",
    "mesIngresado = mesIngresado.lower()\n",
    "if mesIngresado == 'septiembre' or mesIngresado == 'octubre' or mesIngresado == 'noviembre':\n",
    "    print(f'Como en {mesIngresado} es un mes de descuento, pagas solo {total*.90}')\n",
    "else:\n",
    "    print(f'El pago es de {total}')"
   ]
  },
  {
   "cell_type": "markdown",
   "metadata": {},
   "source": [
    "Complementario 9\n",
    "Pide al usuario que ingrese dos números enteros y determina si ambos son pares o impares. \n",
    "Si ambos números son pares, el programa imprimirá \"Ambos números son pares\"; de lo contrario, \n",
    "imprimirá \"Los números no son pares, o uno de ellos no es par\".\n",
    "Se define real porque es menos probable que se rompa en ejecucion"
   ]
  },
  {
   "cell_type": "code",
   "execution_count": 45,
   "metadata": {},
   "outputs": [
    {
     "name": "stdout",
     "output_type": "stream",
     "text": [
      "Los números 7.0 y 7.0 al menos uno de ellos es impar, o ambos son impares\n"
     ]
    }
   ],
   "source": [
    "# el parentesis en el condicional no es obligatorio pero si es visualmente valido\n",
    "# cuando python interprete que es ambiguo te lo hara saber para que lo incluyas\n",
    "numeroIngresadoUno = float(input('Escribe, el primer numero entero '))\n",
    "numeroIngresadoDos = float(input('Escribe, el segundo numero entero '))\n",
    "if (numeroIngresadoUno % 2 == 0) and (numeroIngresadoDos % 2 == 0) :\n",
    "    print(f'Los números {numeroIngresadoUno} y {numeroIngresadoDos} son pares ambos')\n",
    "else:\n",
    "    print(f'Los números {numeroIngresadoUno} y {numeroIngresadoDos} al menos uno de ellos es impar, o ambos son impares')"
   ]
  },
  {
   "cell_type": "markdown",
   "metadata": {},
   "source": [
    "Complementario 10\n",
    "La empresa \"Te llevo a todos lados\" tiene un sistema de tarifa para el alquiler de autos \n",
    "por hora. Si el cliente devuelve el auto dentro de las 2 horas de uso, el costo es de $400 pesos \n",
    "y la nafta es gratuita. Si el cliente devuelve el auto después de las 2 horas, se ingresa \n",
    "la cantidad de litros de nafta gastados y el tiempo transcurrido en horas. El programa calculará \n",
    "el total a pagar por el cliente, considerando un costo de $40 por litro de \n",
    "nafta y $5,20 por minuto de uso después de las primeras 2 horas.\n"
   ]
  },
  {
   "cell_type": "code",
   "execution_count": 46,
   "metadata": {},
   "outputs": [
    {
     "name": "stdout",
     "output_type": "stream",
     "text": [
      "Con este tiempo de 3.0 horas y la cantidad de nafta consumida 100.0 litros debes pagar $ 4312.0\n"
     ]
    }
   ],
   "source": [
    "# al igual que el acao anterior no teos los parentesis son obligatorios solo se quizo ser especifico\n",
    "horasIngreso = float(input('Escribe, las cantidad de horas de uso '))\n",
    "if horasIngreso <= 2:\n",
    "    print(f'Con este tiempo de {horasIngreso} horas debes pagar $ {400}')\n",
    "else:\n",
    "    cantidadNafta = float(input('Escribe, la cantidad de nafta gastado, en litros '))\n",
    "    print(f'Con este tiempo de {horasIngreso} horas y la cantidad de nafta consumida {cantidadNafta} litros debes pagar $ {((horasIngreso-2)*60*5.20)+(40*cantidadNafta)}')"
   ]
  }
 ],
 "metadata": {
  "kernelspec": {
   "display_name": "base",
   "language": "python",
   "name": "python3"
  },
  "language_info": {
   "codemirror_mode": {
    "name": "ipython",
    "version": 3
   },
   "file_extension": ".py",
   "mimetype": "text/x-python",
   "name": "python",
   "nbconvert_exporter": "python",
   "pygments_lexer": "ipython3",
   "version": "3.11.5"
  }
 },
 "nbformat": 4,
 "nbformat_minor": 2
}
