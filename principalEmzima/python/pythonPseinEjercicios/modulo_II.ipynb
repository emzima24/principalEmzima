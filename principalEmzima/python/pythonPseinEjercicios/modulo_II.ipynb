{
 "cells": [
  {
   "cell_type": "markdown",
   "metadata": {},
   "source": [
    "Actividad 1\n",
    "Un arquero de fútbol desea saber si su promedio de tapadas es mayor a la media, el programa le pedirá al usuario su promedio actual y el valor de la media actual. Si el promedio del arquero es mayor a la media se debe mostrar un mensaje por pantalla indicándolo. Para ello: \n",
    "\n",
    "Crea un nuevo algoritmo llamado \"Promedio\"\n",
    "\t\n",
    "Define 2 variables llamadas promedioActual y mediaActual del tipo real.\n",
    "\t\n",
    "Solicita al usuario que ingrese su promedio y asigna el valor ingresado en la variable previamente declarada.\n",
    "\t\n",
    "Solicita al usuario que ingrese el valor de la media actual y asigna el valor ingresado en la variable previamente declarada.\n",
    "\t\n",
    "Utilizando una estructura de control condicional simple, compara ambos valores y, en caso de el promedio del arquero ser MAYOR o IGUAL a la media actual, muestra un mensaje en pantalla de felicitaciones.\n",
    "\t\n",
    "Ejecuta el programa y valida que se comporte según lo esperado.\n",
    "\t\n",
    "Guarda  el algoritmo en la carpeta creada previamente para dicho fin. "
   ]
  },
  {
   "cell_type": "code",
   "execution_count": 1,
   "metadata": {},
   "outputs": [
    {
     "name": "stdout",
     "output_type": "stream",
     "text": [
      "sos un crac\n"
     ]
    }
   ],
   "source": [
    "# if else requiere dos condiciones importantes/obligatorias \n",
    "# 1) los : puntos despues del condicional\n",
    "# 2) la indentacion para indicar que ese bloque pertenece a esa parte del codigo\n",
    "promedioActual = float(input('Escribe, cuanto es tu promedio '))\n",
    "mediaActual = float(input('Escribe, cuanto es la media de la liga '))\n",
    "if promedioActual >= mediaActual:\n",
    "    print('Sos un crac')\n",
    "else:\n",
    "    print('Sos un cracso... perdido')\n"
   ]
  },
  {
   "cell_type": "markdown",
   "metadata": {},
   "source": [
    "Actividad 2\n",
    "Diseña un programa que solicite al usuario ingresar su nombre de usuario y contraseña. \n",
    "El programa debe verificar si el nombre de usuario es \"admin\" y si la contraseña es \"1234\". \n",
    "Si ambos son correctos, el programa debe imprimir un mensaje de bienvenida. Recuerda nombrar y guardar tu algoritmo."
   ]
  },
  {
   "cell_type": "code",
   "execution_count": null,
   "metadata": {},
   "outputs": [],
   "source": [
    "username = float(input('Escribe, tu nombre de usuario '))\n",
    "password = float(input('Escribe, tu contraseña '))\n",
    "if username == 'admin' and password == '1234':\n",
    "    print('Bien, ya estas adentro')\n",
    "else:\n",
    "    print('El nombre de usuario y/o la contraseña no corresponden')"
   ]
  },
  {
   "cell_type": "markdown",
   "metadata": {},
   "source": [
    "Actividad 3\n",
    "Crea un programa que permita ingresar un número de jugador, si el número es mayor de 10, \n",
    "se debe calcular y mostrar en pantalla el 18% de este. Recuerda nombrar y guardar tu algoritmo."
   ]
  },
  {
   "cell_type": "code",
   "execution_count": 2,
   "metadata": {},
   "outputs": [
    {
     "name": "stdout",
     "output_type": "stream",
     "text": [
      "No piden hacer nada pero bueno en fin no me gusta dejarlo vacio tu numero es  10.0\n"
     ]
    }
   ],
   "source": [
    "numeroJugador = float(input('Escribe, tu numero de jugador '))\n",
    "if numeroJugador > 10:\n",
    "    print('Bueno tu número es en realidad ',numeroJugador*.18)\n",
    "else:\n",
    "    print('No piden hacer nada pero bueno en fin no me gusta dejarlo vacio tu numero es ', numeroJugador)"
   ]
  },
  {
   "cell_type": "markdown",
   "metadata": {},
   "source": [
    "Actividad 4\n",
    "Realiza un programa que solicite al usuario un caracter. Si el caracter ingresado es S o N, se deberá de imprimir un mensaje por pantalla que diga \"CORRECTO\",\n",
    "en caso contrario, se deberá imprimir \"INCORRECTO\". Recuerda nombrar y guardar tu algoritmo"
   ]
  },
  {
   "cell_type": "code",
   "execution_count": 3,
   "metadata": {},
   "outputs": [
    {
     "name": "stdout",
     "output_type": "stream",
     "text": [
      "INCORRECTO\n"
     ]
    }
   ],
   "source": [
    "caracterIngresado = input('Escribe, un caracter ')\n",
    "if caracterIngresado == 'S' or caracterIngresado == 'N' or caracterIngresado == 's' or caracterIngresado == 'n':\n",
    "    print('CORRECTO')\n",
    "else:\n",
    "    print('INCORRECTO')"
   ]
  },
  {
   "cell_type": "code",
   "execution_count": 9,
   "metadata": {},
   "outputs": [
    {
     "name": "stdout",
     "output_type": "stream",
     "text": [
      "CORRECTO\n"
     ]
    }
   ],
   "source": [
    "# Haciendo uso de la propiedad del objeto caracter que tiene upper que la convierte en mayuscula y se almacena\n",
    "caracterIngresado = input('Escribe, un caracter ')\n",
    "caracterIngresado = caracterIngresado.upper()\n",
    "if caracterIngresado == 'S' or caracterIngresado == 'N':\n",
    "    print('CORRECTO')\n",
    "else:\n",
    "    print('INCORRECTO')"
   ]
  },
  {
   "cell_type": "markdown",
   "metadata": {},
   "source": [
    "Actividad 5\n",
    "Elabora un programa que solicite al usuario ingresar un día de la semana y, tras un análisis, \n",
    "determine si es un día de entrenamiento o no (los días de entrenamiento son de lunes a jueves). \n",
    "Por ahora, no es necesario considerar validaciones de entrada de datos, como mayúsculas o minúsculas, \n",
    "asumiendo que el usuario ingresará el día de la semana en mayúsculas(cada uno de sus caracteres). Recuerda nombrar guardar tu algoritmo."
   ]
  },
  {
   "cell_type": "code",
   "execution_count": 10,
   "metadata": {},
   "outputs": [
    {
     "name": "stdout",
     "output_type": "stream",
     "text": [
      "Si el  LUNES  es un día de entrenamiento\n"
     ]
    }
   ],
   "source": [
    "diaIngresado = input('Escribe, un caracter ')\n",
    "diaIngresado = diaIngresado.upper()\n",
    "if diaIngresado == 'LUNES' or diaIngresado == 'MARTES' or diaIngresado == 'MIÉRCOLES' or diaIngresado == 'JUEVES':\n",
    "    print('Si el ',diaIngresado,' es un día de entrenamiento')\n",
    "else:\n",
    "    print('No el ',diaIngresado,' no es de entrenamienyo, es un día de reposición')"
   ]
  },
  {
   "cell_type": "markdown",
   "metadata": {},
   "source": [
    "Actividad 6\n",
    "Crea un programa que solicite al usuario un número entero y determine si es par o impar. \n",
    "Luego, mostrar en pantalla un mensaje indicando si el número es par o impar. Para determinar si un número es par, \n",
    "se debe dividir entre dos y verificar que el resto sea igual a 0. Se recomienda investigar la función mod de PSeInt \n",
    "para lograr esta verificación de manera eficiente. Recuerda nombrar y guardar tu algoritmo."
   ]
  },
  {
   "cell_type": "code",
   "execution_count": 12,
   "metadata": {},
   "outputs": [
    {
     "name": "stdout",
     "output_type": "stream",
     "text": [
      "El  10.0  es Par\n"
     ]
    }
   ],
   "source": [
    "# en python el modulo correponde con el simbolo %\n",
    "numeroIngresado = float(input('Escribe, tu contraseña '))\n",
    "if numeroIngresado % 2 == 0:\n",
    "    print('El ',numeroIngresado,' es Par')\n",
    "else:\n",
    "    print('El ',numeroIngresado,' es Impar')"
   ]
  },
  {
   "cell_type": "code",
   "execution_count": 14,
   "metadata": {},
   "outputs": [
    {
     "name": "stdout",
     "output_type": "stream",
     "text": [
      "El  4.0  es Par\n"
     ]
    }
   ],
   "source": [
    "# en python se puede aprovechar el hecho 0 equivalente a False y 1 o distinto de 0 se considera True\n",
    "# con el not invertirmos el valor 0 de False a True \n",
    "numeroIngresado = float(input('Escribe, un numero '))\n",
    "if not numeroIngresado % 2:\n",
    "    print('El ',numeroIngresado,' es Par')\n",
    "else:\n",
    "    print('El ',numeroIngresado,' es Impar')"
   ]
  },
  {
   "cell_type": "markdown",
   "metadata": {},
   "source": [
    "Actividad 7\n",
    "Desarrolla un programa que solicite al usuario ingresar un nombre para su competencia, \n",
    "el cual debe constar de una frase o palabra de exactamente 6 caracteres. Si el usuario \n",
    "ingresa una frase o palabra de 6 caracteres, el programa imprimirá por pantalla el mensaje \"LONGITUD  CORRECTA\". \n",
    "En caso contrario, se imprimirá \"LONGITUD INCORRECTA\". Se sugiere investigar la función Longitud() de PSeInt \n",
    "para realizar esta verificación de manera eficiente. Recuerda nombrar y guardar tu algoritmo."
   ]
  },
  {
   "cell_type": "code",
   "execution_count": 17,
   "metadata": {},
   "outputs": [
    {
     "name": "stdout",
     "output_type": "stream",
     "text": [
      "Es CORRECTA. El texto  cadena  tiene exactamente 6 caracteres\n"
     ]
    }
   ],
   "source": [
    "# en python la longitud de una cadena de texto es len\n",
    "cadenaIngresado = input('Escribe, una cadena de texto de 6 caracteres ')\n",
    "if len(cadenaIngresado) == 6:\n",
    "    print('Es CORRECTA. El texto ',cadenaIngresado,' tiene exactamente 6 caracteres')\n",
    "else:\n",
    "    print('Es INCORRECTA. El texto ',cadenaIngresado,' no tiene 6 caracteres tiene ', len(cadenaIngresado))"
   ]
  }
 ],
 "metadata": {
  "kernelspec": {
   "display_name": "base",
   "language": "python",
   "name": "python3"
  },
  "language_info": {
   "codemirror_mode": {
    "name": "ipython",
    "version": 3
   },
   "file_extension": ".py",
   "mimetype": "text/x-python",
   "name": "python",
   "nbconvert_exporter": "python",
   "pygments_lexer": "ipython3",
   "version": "3.11.5"
  }
 },
 "nbformat": 4,
 "nbformat_minor": 2
}
