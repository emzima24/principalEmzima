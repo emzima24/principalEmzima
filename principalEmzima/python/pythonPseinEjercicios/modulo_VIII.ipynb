{
 "cells": [
  {
   "cell_type": "markdown",
   "metadata": {},
   "source": [
    "Actividad 1\n",
    "Crea un programa que solicite al usuario ingresar 5 valores. Los valores ingresados deben ser \n",
    "almacenados en un único arreglo.y debe mostrarlos posteriormente por pantalla. Sigue estos pasos:\n",
    "  \n",
    "1. Declara el tipo de dato que almacenará el vector.\n",
    "2. Define la dimensión del arreglo.\n",
    "3. Utiliza un bucle para recorrer el arreglo recién creado, posición por posición, y solicitar \n",
    "al usuario que introduzca un dato. Puedes emplear una estructura de bucle \"Para\" para esta tarea. \n",
    "Se define real porque es menos probable que se rompa en ejecucion en el ingreso de la variable\n",
    "Se define real por costumbre mas que por otra razon cuando la memoria importe lo consideraremos distinto"
   ]
  },
  {
   "cell_type": "code",
   "execution_count": 12,
   "metadata": {},
   "outputs": [
    {
     "name": "stdout",
     "output_type": "stream",
     "text": [
      "1 2 3 4 5\n",
      "[1, 2, 3, 4, 5]\n",
      "<class 'list'>\n",
      "1 2 3 4 5 "
     ]
    }
   ],
   "source": [
    "# existen dos estructuras de datos en python la mas usada por que es equivalente en algunos\n",
    "# codigos son los arreglos que dependen de los corchete para definirlo \n",
    "# se separa por coma y puede ser homogenea o heterogena y se recorren con for facilmente\n",
    "# tienen varios metodos para añadir un elemento (arreglo.append()) otro para borrar el ultimo (arreglo.pop())\n",
    "# y tienen posiciones definidas entre 0 y n-1 la longitud del arreglo se averigua con len(arreglo)\n",
    "# pero tambien se puede usar slice para segmentarlo\n",
    "\n",
    "lista = []\n",
    "for i in range(5):\n",
    "    lista.append(int(input('introduce un numero ')))\n",
    "print(*lista)\n",
    "print(lista)\n",
    "print(type(lista))\n",
    "for number in lista:\n",
    "    print(number, end=' ')\n"
   ]
  },
  {
   "cell_type": "code",
   "execution_count": 13,
   "metadata": {},
   "outputs": [
    {
     "name": "stdout",
     "output_type": "stream",
     "text": [
      "9 8 7 6 5\n",
      "(9, 8, 7, 6, 5)\n",
      "<class 'tuple'>\n",
      "9 8 7 6 5 "
     ]
    }
   ],
   "source": [
    "# existen dos estructuras de datos en python la mas usada por que es equivalente en algunos\n",
    "# codigos son las tuplas que dependen de las comas para definirlo \n",
    "# se puede colocar entre parentesis y puede ser homogenea o heterogena y se recorren con for facilmente\n",
    "# tienen varios metodos pocos metods porque porque no se pueden modificar y justifica muchas de las operaciones\n",
    "# que py usa en sus funciones o en sus librerias\n",
    "# y tienen posiciones definidas entre 0 y n-1 la longitud del arreglo se averigua con len(arreglo)\n",
    "# pero tambien se puede usar slice para segmentarlo\n",
    "\n",
    "lista = []\n",
    "for i in range(5):\n",
    "     lista.append(int(input('introduce un numero ')))\n",
    "tupla = tuple(lista) \n",
    "print(*tupla)\n",
    "print(tupla)\n",
    "print(type(tupla))\n",
    "for number in tupla:\n",
    "    print(number, end=' ')"
   ]
  },
  {
   "cell_type": "markdown",
   "metadata": {},
   "source": [
    "Actividad 2\n",
    "Realiza un programa que lea 10 números reales por teclado, los almacene en un arreglo y \n",
    "muestre por pantalla la suma y multiplicación de todos los números ingresados al arreglo.\n",
    "Se define real porque es menos probable que se rompa en ejecucion en el ingreso de la variable\n",
    "Se define real por costumbre mas que por otra razon cuando la memoria importe lo consideraremos distinto"
   ]
  },
  {
   "cell_type": "code",
   "execution_count": 15,
   "metadata": {},
   "outputs": [
    {
     "name": "stdout",
     "output_type": "stream",
     "text": [
      "1 2 3 4 5 6 7 8 9 10\n",
      "La suma es 55\n",
      "la multiplicacion es 3628800\n"
     ]
    }
   ],
   "source": [
    "suma = 0\n",
    "mult = 1\n",
    "lista = []\n",
    "for i in range(1,11):\n",
    "    lista.append(i)\n",
    "for number in lista:\n",
    "    suma += number\n",
    "    mult *= number\n",
    "print(*lista) \n",
    "print(f'La suma es {suma}')\n",
    "print(f'la multiplicacion es {mult}')\n"
   ]
  },
  {
   "cell_type": "code",
   "execution_count": 31,
   "metadata": {},
   "outputs": [
    {
     "name": "stdout",
     "output_type": "stream",
     "text": [
      "1 2 3 4 5 6 7 8 9 10\n",
      "La suma es 110\n",
      "la multiplicacion es 13168189440000\n"
     ]
    }
   ],
   "source": [
    "# vamos a introducir ahora list comprehension (o lista por comprension)\n",
    "# fijate que solo basta con unir las lineas 3 y 5... ahorrandote el append \n",
    "# y la primera variable i corresponde con lo que se va a añadir\n",
    "# esto es valido para listas... tuplas y diccionarionarios\n",
    "lista = [i for i in range(1,11)]\n",
    "for number in lista:\n",
    "    suma += number\n",
    "    mult *= number\n",
    "print(*lista) \n",
    "print(f'La suma es {suma}')\n",
    "print(f'la multiplicacion es {mult}')"
   ]
  },
  {
   "cell_type": "code",
   "execution_count": 35,
   "metadata": {},
   "outputs": [
    {
     "name": "stdout",
     "output_type": "stream",
     "text": [
      "0.5 1.0 1.5 2.0 2.5 3.0 3.5 4.0 4.5 5.0\n",
      "0 2 4 6 8 10 12 14 16 18\n",
      "1 3 5 7 9 11 13 15 17 19\n"
     ]
    }
   ],
   "source": [
    "# pero podemos ademas hacer operaciones previas y \n",
    "# colocar condicionales para que se añadan segun ese criterio\n",
    "\n",
    "lista = [number/2 for number in range(1,11)] # la lista numeros decimales, al ser dividios entre 2\n",
    "print(*lista) \n",
    "lista_2 = [number for number in range(0,20) if not number%2 ] # la lista con los primeros 10 elementos pares\n",
    "print(*lista_2) \n",
    "lista_3 = [number for number in range(1,20) if number%2 ] # la lista con los primeros 10 elementos impares\n",
    "print(*lista_3) \n"
   ]
  },
  {
   "cell_type": "markdown",
   "metadata": {},
   "source": [
    "Actividad 3\n",
    "Desarrolla un programa que defina un vector de tamaño n, que almacene números,\n",
    "determinando por el usuario el tamaño que tendrá dicho arreglo. Este tamaño debe\n",
    "ser solicitado al usuario por teclado, y almacenado en una variable para dicho fin. \n",
    "  \n",
    "Haciendo uso de la variable creada para ese fin, dimensionar el arreglo, \n",
    "y llenar cada una de sus posiciones con valores aleatorios entre 1 y 25. \n",
    "  \t\n",
    "Luego, se solicitará al usuario que ingrese un número para buscar dentro del arreglo. \n",
    "El programa buscará el elemento dentro del arreglo y mostrará la posición donde se encuentra.\n",
    "  \t\t\n",
    "Si el número se encuentra dentro del arreglo, se imprimirán todas las posiciones \n",
    "donde se encuentra ese valor, en caso de que estuviera repetido.\n",
    "  \t\t\t\n",
    "Si el número a buscar no está dentro del arreglo, se mostrará un mensaje indicándolo."
   ]
  },
  {
   "cell_type": "code",
   "execution_count": 21,
   "metadata": {},
   "outputs": [
    {
     "name": "stdout",
     "output_type": "stream",
     "text": [
      "97\n",
      "31 55 15 64 23 65 7 67 86 97 34 92 93 51 2 90 26 87 80 39\n"
     ]
    }
   ],
   "source": [
    "# importamos la libreria random para desde ese objeto usar el metodo \n",
    "# .randint en el que indicamos dos posiciones comienzo y fin de los \n",
    "# numeros enteros aleatorios entre ellos inclusive \n",
    "# enumerate, es una funcion de python que permite que las posiciones queden expuestas\n",
    "# lo hace creando una tupla de listas de la posicion y el valor asociado\n",
    "# sigamos pythonizando el codigo observaras que i no tiene ningun efecto\n",
    "# para ello se puede utilizar _ para indicar a python que lo que está alli lo puede usar internamente\n",
    "# pero para el codigo no tendra importancia\n",
    "import random\n",
    "\n",
    "lista = []\n",
    "numberEntry = int(input('introduce el tamaño del arreglo '))\n",
    "for _ in range(numberEntry):                       # _ ya que no tiene ningun efecto\n",
    "    lista.append(random.randint(1,25)) # de la\n",
    "\n",
    "numberSearch = int(input('introduce el numero a buscar '))\n",
    "\n",
    "if  not number in lista:\n",
    "    print(f'El numero {number} no esta')\n",
    "else:\n",
    "    for posc, number in enumerate(lista): # enumerate \n",
    "        if number == numberSearch:\n",
    "            print(f'El numero {number} esta en la posicion {posc}')\n",
    "\n",
    "print(*lista) "
   ]
  },
  {
   "cell_type": "code",
   "execution_count": 44,
   "metadata": {},
   "outputs": [
    {
     "name": "stdout",
     "output_type": "stream",
     "text": [
      "El numero 10 esta en la posicion 30\n",
      "El numero 10 esta en la posicion 46\n",
      "19 18 16 19 11 24 15 4 11 13 22 25 16 16 18 2 14 1 5 4 7 16 19 3 3 4 4 11 20 19 10 24 14 14 1 5 3 6 17 9 6 20 16 18 5 19 10 5 11 1\n"
     ]
    }
   ],
   "source": [
    "# con list comprehension \n",
    "numberEntry = int(input('introduce el tamaño del arreglo '))\n",
    "lista = [random.randint(1,25) for _ in range(numberEntry)]\n",
    "numberSearch = int(input('introduce el numero a buscar '))\n",
    "listaSearch = [(posc,number) for posc,number in enumerate(lista) if number == numberSearch]\n",
    "for posc, number in listaSearch: # te recuerdas que hablamos de las tuplas como muy usadas internamente en python que es posc, number?\n",
    "    print(f'El numero {number} esta en la posicion {posc}')\n",
    "print(*lista)"
   ]
  },
  {
   "cell_type": "code",
   "execution_count": 45,
   "metadata": {},
   "outputs": [
    {
     "name": "stdout",
     "output_type": "stream",
     "text": [
      "El numero 10 esta en la posicion 9\n",
      "8 4 19 18 4 1 1 18 22 10 14 11 7 19 18 3 21 18 8 23 12 8 15 8 17 18 15 23 13 22 3 12 4 7 21 12 23 14 18 12 19 22 11 6 4 22 25 13 7 25\n"
     ]
    }
   ],
   "source": [
    "# pero te podes quemar la cabeza tambien podes imprimir con list comprehension\n",
    "lista = [random.randint(1,25) for _ in range(int(input('introduce el tamaño del arreglo ')))]\n",
    "numberSearch = int(input('introduce el numero a buscar ')) # porque no podes meter numberSearch dentro? porque es un ciclo y se repetira cada vez con el tamaño de lista\n",
    "listaSearch = [(posc,number) for posc,number in enumerate(lista) if number == numberSearch]\n",
    "[print(f'El numero {number} esta en la posicion {posc}') for posc, number in listaSearch]\n",
    "print(*lista)"
   ]
  },
  {
   "cell_type": "markdown",
   "metadata": {},
   "source": [
    "Actividad 4\n",
    "Desarrolla un programa que rellene un vector de tamaño N, con valores numéricos ingresados por el usuario.\n",
    "A continuación, se deberá crear una función que reciba el vector y devuelva el valor más grande del arreglo."
   ]
  },
  {
   "cell_type": "code",
   "execution_count": 47,
   "metadata": {},
   "outputs": [
    {
     "name": "stdout",
     "output_type": "stream",
     "text": [
      "97\n",
      "44 82 59 71 75 16 47 12 74 54 58 82 16 54 50 19 29 21 29 97 89 74 54 92 81 30 56 81 89 18 9 81 68 54 97 74 66 35 19 73 12 87 76 66 94 9 68 66 57 62\n"
     ]
    }
   ],
   "source": [
    "# importamos la libreria random para hacerlo mas facil\n",
    "# el maximo se calcula mediante la funcion max()\n",
    "import random\n",
    "\n",
    "lista = []\n",
    "numberEntry = int(input('introduce el tamaño del arreglo '))\n",
    "for i in range(numberEntry):\n",
    "    lista.append(int(input('introduce un numero '))) # descomenta este y comenta el de abajo\n",
    "    # lista.append(random.randint(1,100)) # de la\n",
    "\n",
    "print(max(*lista))\n",
    "print(*lista) "
   ]
  },
  {
   "cell_type": "code",
   "execution_count": 48,
   "metadata": {},
   "outputs": [
    {
     "name": "stdout",
     "output_type": "stream",
     "text": [
      "100\n",
      "36 20 33 59 49 57 10 80 51 26 14 73 6 57 53 29 83 10 28 71 99 49 60 36 74 19 36 41 2 77 23 62 68 72 26 48 18 44 97 4 48 67 10 77 46 84 58 20 51 100\n"
     ]
    }
   ],
   "source": [
    "# con list comprehensive \n",
    "lista = [int(input('introduce un numero ')) for i in range(int(input('introduce el tamaño del arreglo ')))]\n",
    "# lista = [random.randint(1,100) for i in range(int(input('introduce el tamaño del arreglo ')))]\n",
    "\n",
    "print(max(*lista))\n",
    "print(*lista) "
   ]
  },
  {
   "cell_type": "markdown",
   "metadata": {},
   "source": [
    "Complementario 1 OTRO DESARROLLADO EN EL VIVO\n",
    "Desarrolla un programa con un menú de opciones que permita al usuario realizar diversas operaciones \n",
    "con vectores hasta que elija la opción 'Salir'. El menú contempla las siguientes opciones: \n",
    "  \n",
    "1. Llenar Vector A: Este vector, de tamaño N, se llena de manera aleatoria \n",
    "\tutilizando la función Aleatorio(valorMin, valorMax) de PSeInt.\n",
    "2. Llenar Vector B: Este vector, de tamaño N, se llena de manera aleatoria \n",
    "\tutilizando la función Aleatorio(valorMin, valorMax) de PSeInt.\n",
    "3. Llenar Vector C con la suma de los vectores A y B: La suma se realiza \n",
    "\telemento a elemento (es decir, C[i] = A[i] + B[i]). Esto quiere decir, \n",
    "\tpor ejemplo, que la posición 1 del vector C será el número resultante \n",
    "\tde la suma de la posición 1 del vector A y la posición 1 del vector B.\n",
    "4. Llenar Vector C con la resta de los vectores B y A: La resta se realiza \n",
    "\telemento a elemento (es decir, C[i] = B[i] - A[i]). Esto quiere decir, \n",
    "\tpor ejemplo, que la posición 1 del vector C será el número resultante \n",
    "\tde la resta de la posición 1 del vector A y la posición 1 del vector B.\n",
    "5. Mostrar: Esta opción permite al usuario decidir qué vector desea mostrar: Vector A, B o C. \n",
    "6. Salir.\n",
    "\n",
    "\tTener en cuenta: \n",
    "\n",
    "El rango de los números aleatorios para los vectores será de -100 a 100. La longitud para \n",
    "todos los vectores será la misma, por lo tanto, esa información solo se solicitará una vez.\n",
    "\t\t\n",
    "Utiliza funciones o subprocesos para mejorar la reutilización de código."
   ]
  },
  {
   "cell_type": "code",
   "execution_count": 80,
   "metadata": {},
   "outputs": [
    {
     "name": "stdout",
     "output_type": "stream",
     "text": [
      "Opciones\n",
      "1- llenar vector A\n",
      "2- llenar vector B\n",
      "3- llenar vector C (A+B)\n",
      "4- llenar vector C (B-A)\n",
      "5- mostrar\n",
      "6- salir\n"
     ]
    }
   ],
   "source": [
    "# los vectores estan inicializados vacios para evitar \n",
    "# el error al llamarlos sin que valores de las opciones 1, 2 3 o 4\n",
    "# La impresion de los vectores debe mejorarse un poco aun porque aveces no muestra el menu\n",
    "# error random que aun no se entiende como se produce\n",
    "from IPython.display import clear_output\n",
    "vectorA = []\n",
    "vectorB = []\n",
    "vectorC = []\n",
    "\n",
    "def mostrarVector(vector,letter):\n",
    "    print(f'El vector {letter} esta vacio') if not len(vector) else print(f'Vector {letter}',*vector)   \n",
    "\n",
    "def menu():\n",
    "    global vectorA,vectorB,vectorC\n",
    "    numberEntry = int(input('introduce el tamaño del arreglo '))\n",
    "    isSalir = False\n",
    "    while not isSalir:\n",
    "        print('Opciones')\n",
    "        print('1- llenar vector A')\n",
    "        print('2- llenar vector B')\n",
    "        print('3- llenar vector C (A+B)')\n",
    "        print('4- llenar vector C (B-A)')\n",
    "        print('5- mostrar')\n",
    "        print('6- salir')\n",
    "        choice = input('selecciona una opcion ')\n",
    "        match choice:\n",
    "            case \"1\":\n",
    "                clear_output(wait=True)\n",
    "                vectorA = [random.randint(-100,100) for _ in range(numberEntry)]\n",
    "            case \"2\":\n",
    "                clear_output(wait=True)\n",
    "                vectorB = [random.randint(-100,100) for _ in range(numberEntry)]\n",
    "            case \"3\":\n",
    "                clear_output(wait=True)\n",
    "                vectorC = [x+y for x,y in zip(vectorA,vectorB)]\n",
    "            case \"4\":\n",
    "                clear_output(wait=True)\n",
    "                vectorC = [y-x for x,y in zip(vectorA,vectorB)]\n",
    "            case \"5\":\n",
    "                clear_output(wait=True)\n",
    "                mostrarVector(vectorA,'A')\n",
    "                mostrarVector(vectorB,'B')\n",
    "                mostrarVector(vectorC,'C')\n",
    "                print()\n",
    "            case \"6\":\n",
    "                isSalir = True\n",
    "                print('Hasta la vista baby')\n",
    "            case _:\n",
    "                clear_output(wait=True)\n",
    "                print('Solo los numeros indicadas boludo')\n",
    "\n",
    "menu()"
   ]
  },
  {
   "cell_type": "markdown",
   "metadata": {},
   "source": [
    "Complementario 2\n",
    "Se requiere desarrollar un programa que maneje un vector unidimensional de 20 \n",
    "elementos de tipo carácter. El programa debe realizar las siguientes tareas:\n",
    "\n",
    "1. Solicita al usuario una frase y luego ingresa cada una de sus letras en el arreglo, \n",
    "asegurándote de que se consideren los espacios en blanco como caracteres. Para facilitar \n",
    "esta tarea, puedes utilizar la función Subcadena de PSeInt. Asegúrate también de \n",
    "validar que la frase tenga como máximo 20 caracteres.  \n",
    "\n",
    "2. Posteriormente, solicitar al usuario un carácter y una posición dentro del arreglo. \n",
    "El programa debe intentar insertar el carácter en la posición indicada, siempre y cuando \n",
    "haya espacio disponible (es decir, la posición esté vacía o contenga un espacio en blanco). \n",
    "Si la operación es exitosa, se mostrará el vector con la frase y el carácter ingresado. \n",
    "En caso contrario, se emitirá un mensaje al usuario indicando que la posición está ocupada.  \n",
    "\n",
    "Por ejemplo, suponiendo la siguiente frase y los subíndices del vector:  \n",
    "B\ti\te\tn\tv\te\tn\ti\td\to\t \tu\ts\tu\ta\tr\ti\to\t!   \n",
    "0\t1\t2\t3\t4\t5\t6\t7\t8\t9\t10\t11\t12\t13\t14\t15\t16\t17\t18\t19  \n",
    "\n",
    "Si se desea ingresar el carácter \"%\" en la posición 10, entonces el resultado sería:  \n",
    "B\ti\te\tn\tv\te\tn\ti\td\to\t%\tu\ts\tu\ta\tr\ti\to\t!  \n",
    "0\t1\t2\t3\t4\t5\t6\t7\t8\t9\t10\t11\t12\t13\t14\t15\t16\t17\t18\t19  \n",
    "Se define real porque es menos probable que se rompa en ejecucion en el ingreso de la variable  \n",
    "Se define real por costumbre mas que por otra razon cuando la memoria importe lo consideraremos distinto  "
   ]
  },
  {
   "cell_type": "code",
   "execution_count": 4,
   "metadata": {},
   "outputs": [
    {
     "name": "stdout",
     "output_type": "stream",
     "text": [
      "El arreglo es( C r e a @ u n   s u b p r o c e s o   a )\n",
      "\n",
      "Opciones\n",
      "0- Ingresar frase\n",
      "1- Crear el vector con la frase\n",
      "2- Modificar el Vector\n",
      "3- Mostrar el vector\n",
      "4- salir\n",
      "Hasta la vista baby\n"
     ]
    }
   ],
   "source": [
    "# en la logica de este problema la realidad en python es mucho mas simple\n",
    "# considera que un string es un elemento iterable osea es un arreglo una lista\n",
    "# se ejecuta bien en ur archivo tipo py pero el manejar la cell output genera algunos conflictos random\n",
    "\n",
    "from IPython.display import clear_output\n",
    "textEntry = ''\n",
    "lista_texto_20 = ''\n",
    "\n",
    "def isControl(arreglo):\n",
    "    return True if len(arreglo) else False \n",
    "\n",
    "def menu():\n",
    "    global textEntry,lista_texto_20,lista_texto_20_new\n",
    "    isSalir = False\n",
    "    while not isSalir:\n",
    "        print('Opciones')\n",
    "        print('0- Ingresar frase')\n",
    "        print('1- Crear el vector con la frase')\n",
    "        print('2- Modificar el Vector')\n",
    "        print('3- Mostrar el vector')\n",
    "        print('4- salir')\n",
    "        choice = input('selecciona una opcion ')\n",
    "        match choice:\n",
    "            case \"0\":\n",
    "                clear_output(wait=True)\n",
    "                textEntry = input('introduce una frase ')\n",
    "                while 1> len(textEntry) or len(textEntry)>20:\n",
    "                    textEntry = input('introduce una frase ')\n",
    "            case \"1\":\n",
    "                clear_output(wait=True)\n",
    "                if isControl(textEntry):\n",
    "                    lista_texto_20 = [textEntry[i] if i < len(textEntry) else ' ' for i in range(20)] \n",
    "                    lista_texto_20_new = [letter for letter in lista_texto_20]\n",
    "                else:\n",
    "                    print('La frase está vacia')\n",
    "                \n",
    "            case \"2\":\n",
    "                clear_output(wait=True)\n",
    "                if isControl(textEntry):\n",
    "                    caracter = input('introduce un caracter ')\n",
    "                    posicion = int(input('introduce la posicion donde se va a colocar '))\n",
    "                    lista_texto_20_new = [caracter if i==posicion and lista_texto_20[i] == ' ' else lista_texto_20[i] for i in range(20)]\n",
    "                    print(f'NO Fue añadido el {caracter} en la posicion {posicion} indicada' if lista_texto_20_new == lista_texto_20 else f'Fue añadido el {caracter} en la posicion {posicion} indicada')\n",
    "                else:\n",
    "                    print('La frase está vacia')\n",
    "            case \"3\":\n",
    "                clear_output(wait=True)\n",
    "                print(f'El arreglo esta vacio') if not len(lista_texto_20_new) else print(f'El arreglo es(',*lista_texto_20_new,')') \n",
    "                print()\n",
    "            case \"4\":\n",
    "                isSalir = True\n",
    "                print('Hasta la vista baby')\n",
    "            case _:\n",
    "                clear_output(wait=True)\n",
    "                print('Solo los numeros indicadas boludo')\n",
    "\n",
    "menu()"
   ]
  },
  {
   "cell_type": "markdown",
   "metadata": {},
   "source": [
    "Complementario 3\n",
    "Crea un subproceso que llene dos arreglos de tamaño n con números aleatorios. Luego, desarrollar \n",
    "una función que tome como argumentos los dos arreglos y determine si todos sus valores son iguales o no. \n",
    "Esta función debe devolver un valor booleano que indique el resultado de la validación.  \n",
    "Finalmente, en el algoritmo principal, mostrar un mensaje según el resultado obtenido. Se \n",
    "recomienda utilizar variables de tipo lógico para facilitar la implementación.\n",
    "Se define real porque es menos probable que se rompa en ejecucion en el ingreso de la variable\n",
    "Se define real porque es menos probable que se rompa en ejecucion en el ingreso de la variable y se mantiene para todos los casos por economia de codigo\n",
    "Se define real por costumbre mas que por otra razon cuando la memoria importe lo consideraremos distinto"
   ]
  },
  {
   "cell_type": "code",
   "execution_count": 6,
   "metadata": {},
   "outputs": [
    {
     "name": "stdout",
     "output_type": "stream",
     "text": [
      "Los vectores A y B NO son iguales\n",
      "Opciones\n",
      "A- Reiniciar vector\n",
      "B- Comparar\n",
      "C- Mostrar el vector\n",
      "S- salir\n",
      "Hasta la vista baby\n"
     ]
    }
   ],
   "source": [
    "# en la logica de este problema la realidad en python es mucho mas simple\n",
    "# considera que hacer la funcion es mucho mas complejo que la comparacion directa \n",
    "# se ejecuta bien en ur archivo tipo py pero el manejar la cell output genera algunos conflictos random\n",
    "import random as rn   # le pondremos un alias a random para usarlo\n",
    "from IPython.display import clear_output\n",
    "\n",
    "def crearVector(number):\n",
    "    return [rn.randint(-100,100) for _ in range(number)]\n",
    "\n",
    "def mostrarVector(vector,letter):\n",
    "    print(f'El vector {letter} esta vacio') if not len(vector) else print(f'Vector {letter}',*vector)  \n",
    "\n",
    "def menu():\n",
    "    numberEntry = rn.randint(1,20) \n",
    "    vectorA = crearVector(numberEntry)\n",
    "    vectorB = crearVector(numberEntry)\n",
    "    isSalir = False\n",
    "    while not isSalir:\n",
    "        print('Opciones')\n",
    "        print('A- Reiniciar vector')\n",
    "        print('B- Comparar')\n",
    "        print('C- Mostrar el vector')\n",
    "        print('S- salir')\n",
    "        choice = input('selecciona una opcion ')\n",
    "        match choice.upper():\n",
    "            case \"A\":\n",
    "                clear_output(wait=True)\n",
    "                vectorA = crearVector(numberEntry)\n",
    "                vectorB = crearVector(numberEntry)\n",
    "            case \"B\":\n",
    "                clear_output(wait=True)\n",
    "                print(f'Los vectores A y B son iguales' if vectorA == vectorB else f'Los vectores A y B NO son iguales')\n",
    "            case \"C\":\n",
    "                clear_output(wait=True)\n",
    "                mostrarVector(vectorA,'A')\n",
    "                mostrarVector(vectorB,'B')\n",
    "            case \"S\":\n",
    "                isSalir = True\n",
    "                print('Hasta la vista baby')\n",
    "            case _:\n",
    "                clear_output(wait=True)\n",
    "                print('Solo los numeros indicadas boludo')\n",
    "\n",
    "menu()"
   ]
  }
 ],
 "metadata": {
  "kernelspec": {
   "display_name": "base",
   "language": "python",
   "name": "python3"
  },
  "language_info": {
   "codemirror_mode": {
    "name": "ipython",
    "version": 3
   },
   "file_extension": ".py",
   "mimetype": "text/x-python",
   "name": "python",
   "nbconvert_exporter": "python",
   "pygments_lexer": "ipython3",
   "version": "3.11.5"
  }
 },
 "nbformat": 4,
 "nbformat_minor": 2
}
